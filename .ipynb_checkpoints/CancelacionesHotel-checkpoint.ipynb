{
 "cells": [
  {
   "cell_type": "markdown",
   "metadata": {
    "id": "eSboh7le2IjN"
   },
   "source": [
    "# Reservas de Hotel\n",
    "*Elaborado por: Manuel Hernandez | Maria Alejandra Jaime | Matias | Viridiana Valencia*\n",
    "\n",
    "# Introducción\n",
    "\n",
    "<div align=\"justify\">La industria hotelera es una subdivisión de la industria de hospitalidad que se especializa en proveer a clientes con servicios de alojamiento. A nivel mundial, la industria involucra alrededor de 700.000 hoteles y resorts, que comprenden mas de 16.4 millones de habitaciones, 173 millones de empleados, y que tiene una valuación de mas de 570 billones de dólares.<sup>[1]</sup> Importantes cadenas a nivel mundial han surgido de la necesidad a medida que el viajar se ve mas como una parte integral de la vida, como lo son las cadenas Marriot International, Hilton Worldwide, InterContinental Hotels Group, y Wyndham Hotel Group; siendo la cadena Hilton la de mayor valuación a nivel mundial (10.83 billones de dólares).<sup>[2]</sup></div>\n",
    "\n",
    "Los hoteles se clasifican por su tamaño, función, servicio y costo, entre otras métricas. En lo que se refiere a función, algunas categorías que podemos hallar en el mercado son hoteles de negocio, casinos, spas, bed & breakfast, y resorts. A medida que el viajar se ve mas como una parte integral de la vida, la industria ha ido creciendo con esta tendencia. Algunas métricas importantes para medir el éxito de un hotel a nivel económico son el costo diario promedio (average daily rate, ADR) y la tasa de ocupación del hotel, las cuales nos permiten estimar el ingreso bruto por cuarto disponible (revenue per available room, RevPAR), puesto que la multiplicación del ADR por la tasa de ocupación resulta en el RevPAR <sup>[3]</sup>. \n",
    "\n",
    "Para asegurar el éxito del negocio existen diversas estrategias para mejorar el RevPAR. En primer lugar se puede mirar al ADR, puesto que un ADR en aumento indica que el ingreso del establecimiento aumenta. Pero una estrategia basada en aumentar el costo de los servicios hoteleros al usuario resta competitividad en el mercado. Por ende, se puede ver a la tasa de ocupación como otra métrica que se puede mejorar a nivel del negocio para aumentar el ingreso del hotel. Es aquí donde la ciencia de datos puede ayudar al negocio a ser más exitoso, puesto que nos permite detectar oportunidades de negocio basadas en datos y tendencias.</div>\n",
    "\n",
    "<div align=\"justify\"> En el presente documento se explora el caso de dos hoteles ubicados en la ciudad de Lisboa, uno de ellos categorizado como hotel de ciudad y el segundo como hotel resort. La intención de utilizar esta información es explorar los datos en busca de posibles situaciones que nos permitan conocer el perfil del cliente que tiende a tener un consumo mayor, y poder detectar que tipos de reservaciones son mas susceptibles a cancelación, de modo que se puedan disponibilizar a los clientes la mayor cantidad de habitaciones posibles, y por ende manejar una tasa de ocupación más alta. La data incluye información como la candidad de adultos, niños y bebés hospedados, el número de espacios de estacionamiento, fechas de llegada, entre otros.</div>\n",
    "\n",
    "*Fuentes:*\n",
    "Dataset Obtenido de [Kaggle - Hotel Bookings](https://www.kaggle.com/mojtaba142/hotel-booking) \n",
    "\n",
    "<sup>[1]</sup> **Hotel Industry Statistics.** Statista. https://www.condorferries.co.uk/hotel-industry-statistics\n",
    "\n",
    "<sup>[2]</sup> **Hotel  industry worldwide - statistics &  facts.** Condor Ferries. https://www.statista.com/topics/1102/hotels/\n",
    "\n",
    "<sup>[3]</sup> **Average Daily Rate.** Investopedia. https://www.investopedia.com/terms/a/average-daily-rate.asp"
   ]
  },
  {
   "cell_type": "markdown",
   "metadata": {
    "id": "rccURcIiymt1"
   },
   "source": [
    "# Objetivo General del Proyecto\n",
    " Desarrollar un modelo que permita predecir si una reserva se cancelará o no."
   ]
  },
  {
   "cell_type": "markdown",
   "metadata": {
    "id": "vXdILdGCymt1"
   },
   "source": [
    "## Preguntas de investigación"
   ]
  },
  {
   "cell_type": "markdown",
   "metadata": {
    "id": "OWpoQ1TQymt2"
   },
   "source": [
    "1. ¿Cuántas reservaciones fueron canceladas?\n",
    "2. ¿Cual es la proporción entre reservaciones en el hotel resort y el de ciudad?\n",
    "3. ¿Cuál es el porcentaje de reservaciones por año?\n",
    "4. ¿Cuáles son los meses de mayor afluencia de huéspedes?\n",
    "5. ¿De qué país vienen la mayor parte de huéspedes?\n",
    "6. ¿Cuánto tiempo se quedan los huéspedes?\n",
    "7. ¿Qué tipo de estancias son más frecuentes?\n",
    "8. ¿Cuál es la distribución del ADR a través de los distintos meses del año?\n",
    "9. ¿Cuáles tipos de huéspedes presentan un mayor ADR?"
   ]
  },
  {
   "cell_type": "markdown",
   "metadata": {
    "id": "ajBY0kIeymt2"
   },
   "source": [
    "# Data Acquisition\n",
    "Para elaborar el analisis se cuenta con un archivo csv que se logró recuperar del artículo \"Hotel booking demand datasets\" (Nuno, Almeida, Nunes; 2019) construido desde las bases de datos dispuestos por los hoteles estudiados."
   ]
  },
  {
   "cell_type": "code",
   "execution_count": 1,
   "metadata": {
    "id": "6e955Vpaqr55"
   },
   "outputs": [],
   "source": [
    "import warnings\n",
    "warnings.filterwarnings('ignore')\n",
    "import numpy as np\n",
    "import pandas as pd\n",
    "from matplotlib import pyplot as plt\n",
    "import seaborn as sns\n",
    "import pandas_profiling"
   ]
  },
  {
   "cell_type": "code",
   "execution_count": 2,
   "metadata": {
    "colab": {
     "base_uri": "https://localhost:8080/",
     "height": 408
    },
    "executionInfo": {
     "elapsed": 764,
     "status": "ok",
     "timestamp": 1632169019270,
     "user": {
      "displayName": "Viridiana Valencia",
      "photoUrl": "https://lh3.googleusercontent.com/a/default-user=s64",
      "userId": "05838258711225855733"
     },
     "user_tz": 420
    },
    "id": "yk6yaDcAqr58",
    "outputId": "04cc37d2-2824-4385-b759-d2b1278f6c2a"
   },
   "outputs": [
    {
     "data": {
      "text/html": [
       "<div>\n",
       "<style scoped>\n",
       "    .dataframe tbody tr th:only-of-type {\n",
       "        vertical-align: middle;\n",
       "    }\n",
       "\n",
       "    .dataframe tbody tr th {\n",
       "        vertical-align: top;\n",
       "    }\n",
       "\n",
       "    .dataframe thead th {\n",
       "        text-align: right;\n",
       "    }\n",
       "</style>\n",
       "<table border=\"1\" class=\"dataframe\">\n",
       "  <thead>\n",
       "    <tr style=\"text-align: right;\">\n",
       "      <th></th>\n",
       "      <th>hotel</th>\n",
       "      <th>is_canceled</th>\n",
       "      <th>lead_time</th>\n",
       "      <th>arrival_date_year</th>\n",
       "      <th>arrival_date_month</th>\n",
       "      <th>arrival_date_week_number</th>\n",
       "      <th>arrival_date_day_of_month</th>\n",
       "      <th>stays_in_weekend_nights</th>\n",
       "      <th>stays_in_week_nights</th>\n",
       "      <th>adults</th>\n",
       "      <th>...</th>\n",
       "      <th>customer_type</th>\n",
       "      <th>adr</th>\n",
       "      <th>required_car_parking_spaces</th>\n",
       "      <th>total_of_special_requests</th>\n",
       "      <th>reservation_status</th>\n",
       "      <th>reservation_status_date</th>\n",
       "      <th>name</th>\n",
       "      <th>email</th>\n",
       "      <th>phone-number</th>\n",
       "      <th>credit_card</th>\n",
       "    </tr>\n",
       "  </thead>\n",
       "  <tbody>\n",
       "    <tr>\n",
       "      <th>0</th>\n",
       "      <td>Resort Hotel</td>\n",
       "      <td>0</td>\n",
       "      <td>342</td>\n",
       "      <td>2015</td>\n",
       "      <td>July</td>\n",
       "      <td>27</td>\n",
       "      <td>1</td>\n",
       "      <td>0</td>\n",
       "      <td>0</td>\n",
       "      <td>2</td>\n",
       "      <td>...</td>\n",
       "      <td>Transient</td>\n",
       "      <td>0.0</td>\n",
       "      <td>0</td>\n",
       "      <td>0</td>\n",
       "      <td>Check-Out</td>\n",
       "      <td>2015-07-01</td>\n",
       "      <td>Ernest Barnes</td>\n",
       "      <td>Ernest.Barnes31@outlook.com</td>\n",
       "      <td>669-792-1661</td>\n",
       "      <td>************4322</td>\n",
       "    </tr>\n",
       "    <tr>\n",
       "      <th>1</th>\n",
       "      <td>Resort Hotel</td>\n",
       "      <td>0</td>\n",
       "      <td>737</td>\n",
       "      <td>2015</td>\n",
       "      <td>July</td>\n",
       "      <td>27</td>\n",
       "      <td>1</td>\n",
       "      <td>0</td>\n",
       "      <td>0</td>\n",
       "      <td>2</td>\n",
       "      <td>...</td>\n",
       "      <td>Transient</td>\n",
       "      <td>0.0</td>\n",
       "      <td>0</td>\n",
       "      <td>0</td>\n",
       "      <td>Check-Out</td>\n",
       "      <td>2015-07-01</td>\n",
       "      <td>Andrea Baker</td>\n",
       "      <td>Andrea_Baker94@aol.com</td>\n",
       "      <td>858-637-6955</td>\n",
       "      <td>************9157</td>\n",
       "    </tr>\n",
       "    <tr>\n",
       "      <th>2</th>\n",
       "      <td>Resort Hotel</td>\n",
       "      <td>0</td>\n",
       "      <td>7</td>\n",
       "      <td>2015</td>\n",
       "      <td>July</td>\n",
       "      <td>27</td>\n",
       "      <td>1</td>\n",
       "      <td>0</td>\n",
       "      <td>1</td>\n",
       "      <td>1</td>\n",
       "      <td>...</td>\n",
       "      <td>Transient</td>\n",
       "      <td>75.0</td>\n",
       "      <td>0</td>\n",
       "      <td>0</td>\n",
       "      <td>Check-Out</td>\n",
       "      <td>2015-07-02</td>\n",
       "      <td>Rebecca Parker</td>\n",
       "      <td>Rebecca_Parker@comcast.net</td>\n",
       "      <td>652-885-2745</td>\n",
       "      <td>************3734</td>\n",
       "    </tr>\n",
       "    <tr>\n",
       "      <th>3</th>\n",
       "      <td>Resort Hotel</td>\n",
       "      <td>0</td>\n",
       "      <td>13</td>\n",
       "      <td>2015</td>\n",
       "      <td>July</td>\n",
       "      <td>27</td>\n",
       "      <td>1</td>\n",
       "      <td>0</td>\n",
       "      <td>1</td>\n",
       "      <td>1</td>\n",
       "      <td>...</td>\n",
       "      <td>Transient</td>\n",
       "      <td>75.0</td>\n",
       "      <td>0</td>\n",
       "      <td>0</td>\n",
       "      <td>Check-Out</td>\n",
       "      <td>2015-07-02</td>\n",
       "      <td>Laura Murray</td>\n",
       "      <td>Laura_M@gmail.com</td>\n",
       "      <td>364-656-8427</td>\n",
       "      <td>************5677</td>\n",
       "    </tr>\n",
       "    <tr>\n",
       "      <th>4</th>\n",
       "      <td>Resort Hotel</td>\n",
       "      <td>0</td>\n",
       "      <td>14</td>\n",
       "      <td>2015</td>\n",
       "      <td>July</td>\n",
       "      <td>27</td>\n",
       "      <td>1</td>\n",
       "      <td>0</td>\n",
       "      <td>2</td>\n",
       "      <td>2</td>\n",
       "      <td>...</td>\n",
       "      <td>Transient</td>\n",
       "      <td>98.0</td>\n",
       "      <td>0</td>\n",
       "      <td>1</td>\n",
       "      <td>Check-Out</td>\n",
       "      <td>2015-07-03</td>\n",
       "      <td>Linda Hines</td>\n",
       "      <td>LHines@verizon.com</td>\n",
       "      <td>713-226-5883</td>\n",
       "      <td>************5498</td>\n",
       "    </tr>\n",
       "  </tbody>\n",
       "</table>\n",
       "<p>5 rows × 36 columns</p>\n",
       "</div>"
      ],
      "text/plain": [
       "          hotel  is_canceled  lead_time  arrival_date_year arrival_date_month  \\\n",
       "0  Resort Hotel            0        342               2015               July   \n",
       "1  Resort Hotel            0        737               2015               July   \n",
       "2  Resort Hotel            0          7               2015               July   \n",
       "3  Resort Hotel            0         13               2015               July   \n",
       "4  Resort Hotel            0         14               2015               July   \n",
       "\n",
       "   arrival_date_week_number  arrival_date_day_of_month  \\\n",
       "0                        27                          1   \n",
       "1                        27                          1   \n",
       "2                        27                          1   \n",
       "3                        27                          1   \n",
       "4                        27                          1   \n",
       "\n",
       "   stays_in_weekend_nights  stays_in_week_nights  adults  ...  customer_type  \\\n",
       "0                        0                     0       2  ...      Transient   \n",
       "1                        0                     0       2  ...      Transient   \n",
       "2                        0                     1       1  ...      Transient   \n",
       "3                        0                     1       1  ...      Transient   \n",
       "4                        0                     2       2  ...      Transient   \n",
       "\n",
       "    adr required_car_parking_spaces total_of_special_requests  \\\n",
       "0   0.0                           0                         0   \n",
       "1   0.0                           0                         0   \n",
       "2  75.0                           0                         0   \n",
       "3  75.0                           0                         0   \n",
       "4  98.0                           0                         1   \n",
       "\n",
       "  reservation_status reservation_status_date            name  \\\n",
       "0          Check-Out              2015-07-01   Ernest Barnes   \n",
       "1          Check-Out              2015-07-01    Andrea Baker   \n",
       "2          Check-Out              2015-07-02  Rebecca Parker   \n",
       "3          Check-Out              2015-07-02    Laura Murray   \n",
       "4          Check-Out              2015-07-03     Linda Hines   \n",
       "\n",
       "                         email  phone-number       credit_card  \n",
       "0  Ernest.Barnes31@outlook.com  669-792-1661  ************4322  \n",
       "1       Andrea_Baker94@aol.com  858-637-6955  ************9157  \n",
       "2   Rebecca_Parker@comcast.net  652-885-2745  ************3734  \n",
       "3            Laura_M@gmail.com  364-656-8427  ************5677  \n",
       "4           LHines@verizon.com  713-226-5883  ************5498  \n",
       "\n",
       "[5 rows x 36 columns]"
      ]
     },
     "execution_count": 2,
     "metadata": {},
     "output_type": "execute_result"
    }
   ],
   "source": [
    "df = pd.read_csv('hotel_booking.csv')\n",
    "df.head(5)"
   ]
  },
  {
   "cell_type": "markdown",
   "metadata": {
    "id": "NHmiQlXX3ldV"
   },
   "source": [
    "# Data Wrangling"
   ]
  },
  {
   "cell_type": "markdown",
   "metadata": {
    "id": "eQBDkilMymt6"
   },
   "source": [
    "En primer lugar, se debe manipular la data para modificar o eliminar registros, bien sea porque no son relevantes al estudio, necesiten algún tipo de edición para su uso dentro del modelo predictivo, o presenten valores desconocidos que requieran ser imputados o eliminados, entre otros. Para ello, empezaremos por conocer los tipos de datos y las cantidades de registros existentes de cada feature del dataset."
   ]
  },
  {
   "cell_type": "code",
   "execution_count": 3,
   "metadata": {
    "colab": {
     "base_uri": "https://localhost:8080/"
    },
    "executionInfo": {
     "elapsed": 14,
     "status": "ok",
     "timestamp": 1632169019271,
     "user": {
      "displayName": "Viridiana Valencia",
      "photoUrl": "https://lh3.googleusercontent.com/a/default-user=s64",
      "userId": "05838258711225855733"
     },
     "user_tz": 420
    },
    "id": "S7-9KyGPqr58",
    "outputId": "27d7addb-f210-43a1-9657-127d7e9cb542"
   },
   "outputs": [
    {
     "name": "stdout",
     "output_type": "stream",
     "text": [
      "<class 'pandas.core.frame.DataFrame'>\n",
      "RangeIndex: 119390 entries, 0 to 119389\n",
      "Data columns (total 36 columns):\n",
      " #   Column                          Non-Null Count   Dtype  \n",
      "---  ------                          --------------   -----  \n",
      " 0   hotel                           119390 non-null  object \n",
      " 1   is_canceled                     119390 non-null  int64  \n",
      " 2   lead_time                       119390 non-null  int64  \n",
      " 3   arrival_date_year               119390 non-null  int64  \n",
      " 4   arrival_date_month              119390 non-null  object \n",
      " 5   arrival_date_week_number        119390 non-null  int64  \n",
      " 6   arrival_date_day_of_month       119390 non-null  int64  \n",
      " 7   stays_in_weekend_nights         119390 non-null  int64  \n",
      " 8   stays_in_week_nights            119390 non-null  int64  \n",
      " 9   adults                          119390 non-null  int64  \n",
      " 10  children                        119386 non-null  float64\n",
      " 11  babies                          119390 non-null  int64  \n",
      " 12  meal                            119390 non-null  object \n",
      " 13  country                         118902 non-null  object \n",
      " 14  market_segment                  119390 non-null  object \n",
      " 15  distribution_channel            119390 non-null  object \n",
      " 16  is_repeated_guest               119390 non-null  int64  \n",
      " 17  previous_cancellations          119390 non-null  int64  \n",
      " 18  previous_bookings_not_canceled  119390 non-null  int64  \n",
      " 19  reserved_room_type              119390 non-null  object \n",
      " 20  assigned_room_type              119390 non-null  object \n",
      " 21  booking_changes                 119390 non-null  int64  \n",
      " 22  deposit_type                    119390 non-null  object \n",
      " 23  agent                           103050 non-null  float64\n",
      " 24  company                         6797 non-null    float64\n",
      " 25  days_in_waiting_list            119390 non-null  int64  \n",
      " 26  customer_type                   119390 non-null  object \n",
      " 27  adr                             119390 non-null  float64\n",
      " 28  required_car_parking_spaces     119390 non-null  int64  \n",
      " 29  total_of_special_requests       119390 non-null  int64  \n",
      " 30  reservation_status              119390 non-null  object \n",
      " 31  reservation_status_date         119390 non-null  object \n",
      " 32  name                            119390 non-null  object \n",
      " 33  email                           119390 non-null  object \n",
      " 34  phone-number                    119390 non-null  object \n",
      " 35  credit_card                     119390 non-null  object \n",
      "dtypes: float64(4), int64(16), object(16)\n",
      "memory usage: 32.8+ MB\n"
     ]
    }
   ],
   "source": [
    "df.info()"
   ]
  },
  {
   "cell_type": "markdown",
   "metadata": {
    "id": "LgXwddE6ymt7"
   },
   "source": [
    "En base a la información vista, se realizarán una serie de modificaciones para mejorar la calidad del dataset. Ellas son:\n",
    "* Se eliminarán las features agent y company, puesto que presentan una alta cantidad de valores missing.\n",
    "* Se eliminarán las features name, email, phone-number y credit_card, debido a que al ser features que presentan distintos valores para cada cliente nuevo, estas variables no son de importancia para el modelo.\n",
    "* Se imputaran valores para los registros en los cuales la variable children o country no presenten data. En el caso de children, se asume que la reservación no presenta niños así que se asigna el valor 0; mientras que en el caso de country se indica que el país no está disponible.\n",
    "* Se eliminarán los registros en los cuales no hayan huéspedes adultos asociados pero existan huéspedes de otro tipo (children o babies).\n",
    "* Se eliminarán los registros en los cuales la cantidad de huéspedes adultos es igual a cero.\n",
    "* Se eliminarán los registros en los cuales el adr es menor a 0 o mayor a 400.\n",
    "* Se eliminarán los registros en los cuales el tipo de habitacion sea P ó L.\n"
   ]
  },
  {
   "cell_type": "markdown",
   "metadata": {
    "id": "wTm4AgKTymt7"
   },
   "source": [
    "\n",
    "* Se agregarán nuevas features: \n",
    "    * total_guests, el cual será la suma del total de huéspedes de tipo adults, children o babies asociados a cada reservación.\n",
    "    * total_stay_in_nights, el cual será la suma del total de días, tanto de semana como de fín de semana, asociados a la reservación.\n",
    "    * has_minors, el cual indica si hay huéspedes del tipo children o babies en la reserva (1) o no (0)\n",
    "    * room_type_changed, el cual indica si el tipo de habitación asignada a la llegada al hotel es distinta al tipo de habitación reservada (1) o no (0).\n",
    "    * cancelations_ratio, el cual indica si el huésped tiene una mayor cantidad de reservaciones previas canceladas (1) que de reservaciones no canceladas (0)."
   ]
  },
  {
   "cell_type": "markdown",
   "metadata": {
    "id": "7PjZ2EZ2qr59"
   },
   "source": [
    "# Eliminar: agent, company, name, email, phone, credit card"
   ]
  },
  {
   "cell_type": "code",
   "execution_count": 4,
   "metadata": {
    "colab": {
     "base_uri": "https://localhost:8080/",
     "height": 307
    },
    "executionInfo": {
     "elapsed": 6,
     "status": "ok",
     "timestamp": 1632169019272,
     "user": {
      "displayName": "Viridiana Valencia",
      "photoUrl": "https://lh3.googleusercontent.com/a/default-user=s64",
      "userId": "05838258711225855733"
     },
     "user_tz": 420
    },
    "id": "TRy_8Adzqr5_",
    "outputId": "706d015c-7133-4b39-cca5-966b68462a18"
   },
   "outputs": [
    {
     "data": {
      "text/html": [
       "<div>\n",
       "<style scoped>\n",
       "    .dataframe tbody tr th:only-of-type {\n",
       "        vertical-align: middle;\n",
       "    }\n",
       "\n",
       "    .dataframe tbody tr th {\n",
       "        vertical-align: top;\n",
       "    }\n",
       "\n",
       "    .dataframe thead th {\n",
       "        text-align: right;\n",
       "    }\n",
       "</style>\n",
       "<table border=\"1\" class=\"dataframe\">\n",
       "  <thead>\n",
       "    <tr style=\"text-align: right;\">\n",
       "      <th></th>\n",
       "      <th>hotel</th>\n",
       "      <th>is_canceled</th>\n",
       "      <th>lead_time</th>\n",
       "      <th>arrival_date_year</th>\n",
       "      <th>arrival_date_month</th>\n",
       "      <th>arrival_date_week_number</th>\n",
       "      <th>arrival_date_day_of_month</th>\n",
       "      <th>stays_in_weekend_nights</th>\n",
       "      <th>stays_in_week_nights</th>\n",
       "      <th>adults</th>\n",
       "      <th>...</th>\n",
       "      <th>assigned_room_type</th>\n",
       "      <th>booking_changes</th>\n",
       "      <th>deposit_type</th>\n",
       "      <th>days_in_waiting_list</th>\n",
       "      <th>customer_type</th>\n",
       "      <th>adr</th>\n",
       "      <th>required_car_parking_spaces</th>\n",
       "      <th>total_of_special_requests</th>\n",
       "      <th>reservation_status</th>\n",
       "      <th>reservation_status_date</th>\n",
       "    </tr>\n",
       "  </thead>\n",
       "  <tbody>\n",
       "    <tr>\n",
       "      <th>0</th>\n",
       "      <td>Resort Hotel</td>\n",
       "      <td>0</td>\n",
       "      <td>342</td>\n",
       "      <td>2015</td>\n",
       "      <td>July</td>\n",
       "      <td>27</td>\n",
       "      <td>1</td>\n",
       "      <td>0</td>\n",
       "      <td>0</td>\n",
       "      <td>2</td>\n",
       "      <td>...</td>\n",
       "      <td>C</td>\n",
       "      <td>3</td>\n",
       "      <td>No Deposit</td>\n",
       "      <td>0</td>\n",
       "      <td>Transient</td>\n",
       "      <td>0.0</td>\n",
       "      <td>0</td>\n",
       "      <td>0</td>\n",
       "      <td>Check-Out</td>\n",
       "      <td>2015-07-01</td>\n",
       "    </tr>\n",
       "    <tr>\n",
       "      <th>1</th>\n",
       "      <td>Resort Hotel</td>\n",
       "      <td>0</td>\n",
       "      <td>737</td>\n",
       "      <td>2015</td>\n",
       "      <td>July</td>\n",
       "      <td>27</td>\n",
       "      <td>1</td>\n",
       "      <td>0</td>\n",
       "      <td>0</td>\n",
       "      <td>2</td>\n",
       "      <td>...</td>\n",
       "      <td>C</td>\n",
       "      <td>4</td>\n",
       "      <td>No Deposit</td>\n",
       "      <td>0</td>\n",
       "      <td>Transient</td>\n",
       "      <td>0.0</td>\n",
       "      <td>0</td>\n",
       "      <td>0</td>\n",
       "      <td>Check-Out</td>\n",
       "      <td>2015-07-01</td>\n",
       "    </tr>\n",
       "    <tr>\n",
       "      <th>2</th>\n",
       "      <td>Resort Hotel</td>\n",
       "      <td>0</td>\n",
       "      <td>7</td>\n",
       "      <td>2015</td>\n",
       "      <td>July</td>\n",
       "      <td>27</td>\n",
       "      <td>1</td>\n",
       "      <td>0</td>\n",
       "      <td>1</td>\n",
       "      <td>1</td>\n",
       "      <td>...</td>\n",
       "      <td>C</td>\n",
       "      <td>0</td>\n",
       "      <td>No Deposit</td>\n",
       "      <td>0</td>\n",
       "      <td>Transient</td>\n",
       "      <td>75.0</td>\n",
       "      <td>0</td>\n",
       "      <td>0</td>\n",
       "      <td>Check-Out</td>\n",
       "      <td>2015-07-02</td>\n",
       "    </tr>\n",
       "    <tr>\n",
       "      <th>3</th>\n",
       "      <td>Resort Hotel</td>\n",
       "      <td>0</td>\n",
       "      <td>13</td>\n",
       "      <td>2015</td>\n",
       "      <td>July</td>\n",
       "      <td>27</td>\n",
       "      <td>1</td>\n",
       "      <td>0</td>\n",
       "      <td>1</td>\n",
       "      <td>1</td>\n",
       "      <td>...</td>\n",
       "      <td>A</td>\n",
       "      <td>0</td>\n",
       "      <td>No Deposit</td>\n",
       "      <td>0</td>\n",
       "      <td>Transient</td>\n",
       "      <td>75.0</td>\n",
       "      <td>0</td>\n",
       "      <td>0</td>\n",
       "      <td>Check-Out</td>\n",
       "      <td>2015-07-02</td>\n",
       "    </tr>\n",
       "    <tr>\n",
       "      <th>4</th>\n",
       "      <td>Resort Hotel</td>\n",
       "      <td>0</td>\n",
       "      <td>14</td>\n",
       "      <td>2015</td>\n",
       "      <td>July</td>\n",
       "      <td>27</td>\n",
       "      <td>1</td>\n",
       "      <td>0</td>\n",
       "      <td>2</td>\n",
       "      <td>2</td>\n",
       "      <td>...</td>\n",
       "      <td>A</td>\n",
       "      <td>0</td>\n",
       "      <td>No Deposit</td>\n",
       "      <td>0</td>\n",
       "      <td>Transient</td>\n",
       "      <td>98.0</td>\n",
       "      <td>0</td>\n",
       "      <td>1</td>\n",
       "      <td>Check-Out</td>\n",
       "      <td>2015-07-03</td>\n",
       "    </tr>\n",
       "  </tbody>\n",
       "</table>\n",
       "<p>5 rows × 30 columns</p>\n",
       "</div>"
      ],
      "text/plain": [
       "          hotel  is_canceled  lead_time  arrival_date_year arrival_date_month  \\\n",
       "0  Resort Hotel            0        342               2015               July   \n",
       "1  Resort Hotel            0        737               2015               July   \n",
       "2  Resort Hotel            0          7               2015               July   \n",
       "3  Resort Hotel            0         13               2015               July   \n",
       "4  Resort Hotel            0         14               2015               July   \n",
       "\n",
       "   arrival_date_week_number  arrival_date_day_of_month  \\\n",
       "0                        27                          1   \n",
       "1                        27                          1   \n",
       "2                        27                          1   \n",
       "3                        27                          1   \n",
       "4                        27                          1   \n",
       "\n",
       "   stays_in_weekend_nights  stays_in_week_nights  adults  ...  \\\n",
       "0                        0                     0       2  ...   \n",
       "1                        0                     0       2  ...   \n",
       "2                        0                     1       1  ...   \n",
       "3                        0                     1       1  ...   \n",
       "4                        0                     2       2  ...   \n",
       "\n",
       "   assigned_room_type  booking_changes deposit_type days_in_waiting_list  \\\n",
       "0                   C                3   No Deposit                    0   \n",
       "1                   C                4   No Deposit                    0   \n",
       "2                   C                0   No Deposit                    0   \n",
       "3                   A                0   No Deposit                    0   \n",
       "4                   A                0   No Deposit                    0   \n",
       "\n",
       "  customer_type   adr  required_car_parking_spaces  total_of_special_requests  \\\n",
       "0     Transient   0.0                            0                          0   \n",
       "1     Transient   0.0                            0                          0   \n",
       "2     Transient  75.0                            0                          0   \n",
       "3     Transient  75.0                            0                          0   \n",
       "4     Transient  98.0                            0                          1   \n",
       "\n",
       "   reservation_status reservation_status_date  \n",
       "0           Check-Out              2015-07-01  \n",
       "1           Check-Out              2015-07-01  \n",
       "2           Check-Out              2015-07-02  \n",
       "3           Check-Out              2015-07-02  \n",
       "4           Check-Out              2015-07-03  \n",
       "\n",
       "[5 rows x 30 columns]"
      ]
     },
     "execution_count": 4,
     "metadata": {},
     "output_type": "execute_result"
    }
   ],
   "source": [
    "prelim_df = df.copy()\n",
    "prelim_df = prelim_df.drop(columns=[\"agent\", \"company\", \"name\", \"email\", \"phone-number\", \"credit_card\"], axis=1)\n",
    "prelim_df.head()"
   ]
  },
  {
   "cell_type": "markdown",
   "metadata": {
    "id": "-zDnmj7Oqr5_"
   },
   "source": [
    "# Valores Missing"
   ]
  },
  {
   "cell_type": "code",
   "execution_count": 5,
   "metadata": {
    "colab": {
     "base_uri": "https://localhost:8080/",
     "height": 110
    },
    "executionInfo": {
     "elapsed": 509,
     "status": "ok",
     "timestamp": 1632169019776,
     "user": {
      "displayName": "Viridiana Valencia",
      "photoUrl": "https://lh3.googleusercontent.com/a/default-user=s64",
      "userId": "05838258711225855733"
     },
     "user_tz": 420
    },
    "id": "ehC2I8_Aqr6A",
    "outputId": "90dc103a-3372-4631-ee37-0c0f60c75beb"
   },
   "outputs": [
    {
     "data": {
      "text/html": [
       "<div>\n",
       "<style scoped>\n",
       "    .dataframe tbody tr th:only-of-type {\n",
       "        vertical-align: middle;\n",
       "    }\n",
       "\n",
       "    .dataframe tbody tr th {\n",
       "        vertical-align: top;\n",
       "    }\n",
       "\n",
       "    .dataframe thead th {\n",
       "        text-align: right;\n",
       "    }\n",
       "</style>\n",
       "<table border=\"1\" class=\"dataframe\">\n",
       "  <thead>\n",
       "    <tr style=\"text-align: right;\">\n",
       "      <th></th>\n",
       "      <th>0</th>\n",
       "    </tr>\n",
       "  </thead>\n",
       "  <tbody>\n",
       "    <tr>\n",
       "      <th>children</th>\n",
       "      <td>119386</td>\n",
       "    </tr>\n",
       "    <tr>\n",
       "      <th>country</th>\n",
       "      <td>118902</td>\n",
       "    </tr>\n",
       "  </tbody>\n",
       "</table>\n",
       "</div>"
      ],
      "text/plain": [
       "               0\n",
       "children  119386\n",
       "country   118902"
      ]
     },
     "execution_count": 5,
     "metadata": {},
     "output_type": "execute_result"
    }
   ],
   "source": [
    "features = prelim_df.columns.to_series()\n",
    "nan_counts = prelim_df.count()\n",
    "df_nan = pd.DataFrame(nan_counts).set_index(features)\n",
    "filt = df_nan[0] != df.shape[0]\n",
    "df_nan[filt]"
   ]
  },
  {
   "cell_type": "code",
   "execution_count": 6,
   "metadata": {
    "colab": {
     "base_uri": "https://localhost:8080/",
     "height": 110
    },
    "executionInfo": {
     "elapsed": 18,
     "status": "ok",
     "timestamp": 1632169019776,
     "user": {
      "displayName": "Viridiana Valencia",
      "photoUrl": "https://lh3.googleusercontent.com/a/default-user=s64",
      "userId": "05838258711225855733"
     },
     "user_tz": 420
    },
    "id": "f-WO2ayCqr6B",
    "outputId": "0ecbe32b-f0ac-40d3-c5e7-d366aa9aed77"
   },
   "outputs": [
    {
     "data": {
      "text/html": [
       "<div>\n",
       "<style scoped>\n",
       "    .dataframe tbody tr th:only-of-type {\n",
       "        vertical-align: middle;\n",
       "    }\n",
       "\n",
       "    .dataframe tbody tr th {\n",
       "        vertical-align: top;\n",
       "    }\n",
       "\n",
       "    .dataframe thead th {\n",
       "        text-align: right;\n",
       "    }\n",
       "</style>\n",
       "<table border=\"1\" class=\"dataframe\">\n",
       "  <thead>\n",
       "    <tr style=\"text-align: right;\">\n",
       "      <th></th>\n",
       "      <th>0</th>\n",
       "    </tr>\n",
       "  </thead>\n",
       "  <tbody>\n",
       "    <tr>\n",
       "      <th>children</th>\n",
       "      <td>119390</td>\n",
       "    </tr>\n",
       "    <tr>\n",
       "      <th>country</th>\n",
       "      <td>118902</td>\n",
       "    </tr>\n",
       "  </tbody>\n",
       "</table>\n",
       "</div>"
      ],
      "text/plain": [
       "               0\n",
       "children  119390\n",
       "country   118902"
      ]
     },
     "execution_count": 6,
     "metadata": {},
     "output_type": "execute_result"
    }
   ],
   "source": [
    "# Children\n",
    "prelim_df.children.fillna(0,inplace=True)\n",
    "df_nan = pd.DataFrame(prelim_df.count()).set_index(features)\n",
    "df_nan[filt]"
   ]
  },
  {
   "cell_type": "code",
   "execution_count": 7,
   "metadata": {
    "colab": {
     "base_uri": "https://localhost:8080/",
     "height": 110
    },
    "executionInfo": {
     "elapsed": 17,
     "status": "ok",
     "timestamp": 1632169019777,
     "user": {
      "displayName": "Viridiana Valencia",
      "photoUrl": "https://lh3.googleusercontent.com/a/default-user=s64",
      "userId": "05838258711225855733"
     },
     "user_tz": 420
    },
    "id": "KpPWiUsNqr6B",
    "outputId": "cb94b2ce-8fa1-4e85-a8d0-370a494924ce"
   },
   "outputs": [
    {
     "data": {
      "text/html": [
       "<div>\n",
       "<style scoped>\n",
       "    .dataframe tbody tr th:only-of-type {\n",
       "        vertical-align: middle;\n",
       "    }\n",
       "\n",
       "    .dataframe tbody tr th {\n",
       "        vertical-align: top;\n",
       "    }\n",
       "\n",
       "    .dataframe thead th {\n",
       "        text-align: right;\n",
       "    }\n",
       "</style>\n",
       "<table border=\"1\" class=\"dataframe\">\n",
       "  <thead>\n",
       "    <tr style=\"text-align: right;\">\n",
       "      <th></th>\n",
       "      <th>0</th>\n",
       "    </tr>\n",
       "  </thead>\n",
       "  <tbody>\n",
       "    <tr>\n",
       "      <th>children</th>\n",
       "      <td>119390</td>\n",
       "    </tr>\n",
       "    <tr>\n",
       "      <th>country</th>\n",
       "      <td>119390</td>\n",
       "    </tr>\n",
       "  </tbody>\n",
       "</table>\n",
       "</div>"
      ],
      "text/plain": [
       "               0\n",
       "children  119390\n",
       "country   119390"
      ]
     },
     "execution_count": 7,
     "metadata": {},
     "output_type": "execute_result"
    }
   ],
   "source": [
    "# Country\n",
    "prelim_df.country.fillna('Unavailable',inplace=True)\n",
    "df_nan = pd.DataFrame(prelim_df.count()).set_index(features)\n",
    "df_nan[filt]"
   ]
  },
  {
   "cell_type": "markdown",
   "metadata": {
    "id": "ZknDaSEKymt9"
   },
   "source": [
    "# Eliminar registros donde no hayan huéspedes adultos."
   ]
  },
  {
   "cell_type": "code",
   "execution_count": 8,
   "metadata": {
    "id": "rVTnKDqOqr6C"
   },
   "outputs": [],
   "source": [
    "# Cambiamos el tipo de variable de children a int\n",
    "prelim_df[\"children\"] = prelim_df[\"children\"].astype(int)"
   ]
  },
  {
   "cell_type": "code",
   "execution_count": 9,
   "metadata": {
    "colab": {
     "base_uri": "https://localhost:8080/"
    },
    "executionInfo": {
     "elapsed": 15,
     "status": "ok",
     "timestamp": 1632169019777,
     "user": {
      "displayName": "Viridiana Valencia",
      "photoUrl": "https://lh3.googleusercontent.com/a/default-user=s64",
      "userId": "05838258711225855733"
     },
     "user_tz": 420
    },
    "id": "zfA9OhBeqr6C",
    "outputId": "a2d41678-2e2d-4ca5-c991-c42dd04c8c3a"
   },
   "outputs": [
    {
     "name": "stdout",
     "output_type": "stream",
     "text": [
      "Registros que no tienen huespedes adultos pero huespedes de otro tipo ->  223\n",
      "Dimension del dataframe actual ->  (119390, 30)\n"
     ]
    }
   ],
   "source": [
    "# Revisa si adultos == 0 y si es asi cambia adultos = 1 y niños = 0\n",
    "no_adult_df = prelim_df[(prelim_df[\"adults\"] == 0) & ((prelim_df[\"children\"] != 0)|(prelim_df[\"babies\"] != 0) )][\"adults\"]\n",
    "print(\"Registros que no tienen huespedes adultos pero huespedes de otro tipo -> \", no_adult_df.count())\n",
    "print(\"Dimension del dataframe actual -> \", prelim_df.shape)"
   ]
  },
  {
   "cell_type": "code",
   "execution_count": 10,
   "metadata": {
    "colab": {
     "base_uri": "https://localhost:8080/"
    },
    "executionInfo": {
     "elapsed": 12,
     "status": "ok",
     "timestamp": 1632169019778,
     "user": {
      "displayName": "Viridiana Valencia",
      "photoUrl": "https://lh3.googleusercontent.com/a/default-user=s64",
      "userId": "05838258711225855733"
     },
     "user_tz": 420
    },
    "id": "eUGXNYGFqr6D",
    "outputId": "bc4c483d-70e8-4f7b-b038-a1967b86ece9"
   },
   "outputs": [
    {
     "name": "stdout",
     "output_type": "stream",
     "text": [
      "Dimension del dataframe actual ->  (119167, 30)\n"
     ]
    }
   ],
   "source": [
    "## Elimina los registros que cumplen la condicion anterior\n",
    "prelim_df = prelim_df.drop(no_adult_df.index)\n",
    "print(\"Dimension del dataframe actual -> \", prelim_df.shape)"
   ]
  },
  {
   "cell_type": "markdown",
   "metadata": {
    "id": "03yfvoHWqr6C"
   },
   "source": [
    "# Nuevas Features\n",
    "## Feature total huespedes (total_guests)"
   ]
  },
  {
   "cell_type": "code",
   "execution_count": 11,
   "metadata": {
    "colab": {
     "base_uri": "https://localhost:8080/",
     "height": 1000
    },
    "executionInfo": {
     "elapsed": 342,
     "status": "ok",
     "timestamp": 1632169020110,
     "user": {
      "displayName": "Viridiana Valencia",
      "photoUrl": "https://lh3.googleusercontent.com/a/default-user=s64",
      "userId": "05838258711225855733"
     },
     "user_tz": 420
    },
    "id": "TsS73NYuqr6D",
    "outputId": "6916b925-1fcd-4c95-c903-2fd5d565bb8c"
   },
   "outputs": [
    {
     "data": {
      "text/html": [
       "<div>\n",
       "<style scoped>\n",
       "    .dataframe tbody tr th:only-of-type {\n",
       "        vertical-align: middle;\n",
       "    }\n",
       "\n",
       "    .dataframe tbody tr th {\n",
       "        vertical-align: top;\n",
       "    }\n",
       "\n",
       "    .dataframe thead th {\n",
       "        text-align: right;\n",
       "    }\n",
       "</style>\n",
       "<table border=\"1\" class=\"dataframe\">\n",
       "  <thead>\n",
       "    <tr style=\"text-align: right;\">\n",
       "      <th></th>\n",
       "      <th>0</th>\n",
       "      <th>1</th>\n",
       "      <th>2</th>\n",
       "      <th>3</th>\n",
       "      <th>4</th>\n",
       "    </tr>\n",
       "  </thead>\n",
       "  <tbody>\n",
       "    <tr>\n",
       "      <th>hotel</th>\n",
       "      <td>Resort Hotel</td>\n",
       "      <td>Resort Hotel</td>\n",
       "      <td>Resort Hotel</td>\n",
       "      <td>Resort Hotel</td>\n",
       "      <td>Resort Hotel</td>\n",
       "    </tr>\n",
       "    <tr>\n",
       "      <th>is_canceled</th>\n",
       "      <td>0</td>\n",
       "      <td>0</td>\n",
       "      <td>0</td>\n",
       "      <td>0</td>\n",
       "      <td>0</td>\n",
       "    </tr>\n",
       "    <tr>\n",
       "      <th>lead_time</th>\n",
       "      <td>342</td>\n",
       "      <td>737</td>\n",
       "      <td>7</td>\n",
       "      <td>13</td>\n",
       "      <td>14</td>\n",
       "    </tr>\n",
       "    <tr>\n",
       "      <th>arrival_date_year</th>\n",
       "      <td>2015</td>\n",
       "      <td>2015</td>\n",
       "      <td>2015</td>\n",
       "      <td>2015</td>\n",
       "      <td>2015</td>\n",
       "    </tr>\n",
       "    <tr>\n",
       "      <th>arrival_date_month</th>\n",
       "      <td>July</td>\n",
       "      <td>July</td>\n",
       "      <td>July</td>\n",
       "      <td>July</td>\n",
       "      <td>July</td>\n",
       "    </tr>\n",
       "    <tr>\n",
       "      <th>arrival_date_week_number</th>\n",
       "      <td>27</td>\n",
       "      <td>27</td>\n",
       "      <td>27</td>\n",
       "      <td>27</td>\n",
       "      <td>27</td>\n",
       "    </tr>\n",
       "    <tr>\n",
       "      <th>arrival_date_day_of_month</th>\n",
       "      <td>1</td>\n",
       "      <td>1</td>\n",
       "      <td>1</td>\n",
       "      <td>1</td>\n",
       "      <td>1</td>\n",
       "    </tr>\n",
       "    <tr>\n",
       "      <th>stays_in_weekend_nights</th>\n",
       "      <td>0</td>\n",
       "      <td>0</td>\n",
       "      <td>0</td>\n",
       "      <td>0</td>\n",
       "      <td>0</td>\n",
       "    </tr>\n",
       "    <tr>\n",
       "      <th>stays_in_week_nights</th>\n",
       "      <td>0</td>\n",
       "      <td>0</td>\n",
       "      <td>1</td>\n",
       "      <td>1</td>\n",
       "      <td>2</td>\n",
       "    </tr>\n",
       "    <tr>\n",
       "      <th>adults</th>\n",
       "      <td>2</td>\n",
       "      <td>2</td>\n",
       "      <td>1</td>\n",
       "      <td>1</td>\n",
       "      <td>2</td>\n",
       "    </tr>\n",
       "    <tr>\n",
       "      <th>children</th>\n",
       "      <td>0</td>\n",
       "      <td>0</td>\n",
       "      <td>0</td>\n",
       "      <td>0</td>\n",
       "      <td>0</td>\n",
       "    </tr>\n",
       "    <tr>\n",
       "      <th>babies</th>\n",
       "      <td>0</td>\n",
       "      <td>0</td>\n",
       "      <td>0</td>\n",
       "      <td>0</td>\n",
       "      <td>0</td>\n",
       "    </tr>\n",
       "    <tr>\n",
       "      <th>meal</th>\n",
       "      <td>BB</td>\n",
       "      <td>BB</td>\n",
       "      <td>BB</td>\n",
       "      <td>BB</td>\n",
       "      <td>BB</td>\n",
       "    </tr>\n",
       "    <tr>\n",
       "      <th>country</th>\n",
       "      <td>PRT</td>\n",
       "      <td>PRT</td>\n",
       "      <td>GBR</td>\n",
       "      <td>GBR</td>\n",
       "      <td>GBR</td>\n",
       "    </tr>\n",
       "    <tr>\n",
       "      <th>market_segment</th>\n",
       "      <td>Direct</td>\n",
       "      <td>Direct</td>\n",
       "      <td>Direct</td>\n",
       "      <td>Corporate</td>\n",
       "      <td>Online TA</td>\n",
       "    </tr>\n",
       "    <tr>\n",
       "      <th>distribution_channel</th>\n",
       "      <td>Direct</td>\n",
       "      <td>Direct</td>\n",
       "      <td>Direct</td>\n",
       "      <td>Corporate</td>\n",
       "      <td>TA/TO</td>\n",
       "    </tr>\n",
       "    <tr>\n",
       "      <th>is_repeated_guest</th>\n",
       "      <td>0</td>\n",
       "      <td>0</td>\n",
       "      <td>0</td>\n",
       "      <td>0</td>\n",
       "      <td>0</td>\n",
       "    </tr>\n",
       "    <tr>\n",
       "      <th>previous_cancellations</th>\n",
       "      <td>0</td>\n",
       "      <td>0</td>\n",
       "      <td>0</td>\n",
       "      <td>0</td>\n",
       "      <td>0</td>\n",
       "    </tr>\n",
       "    <tr>\n",
       "      <th>previous_bookings_not_canceled</th>\n",
       "      <td>0</td>\n",
       "      <td>0</td>\n",
       "      <td>0</td>\n",
       "      <td>0</td>\n",
       "      <td>0</td>\n",
       "    </tr>\n",
       "    <tr>\n",
       "      <th>reserved_room_type</th>\n",
       "      <td>C</td>\n",
       "      <td>C</td>\n",
       "      <td>A</td>\n",
       "      <td>A</td>\n",
       "      <td>A</td>\n",
       "    </tr>\n",
       "    <tr>\n",
       "      <th>assigned_room_type</th>\n",
       "      <td>C</td>\n",
       "      <td>C</td>\n",
       "      <td>C</td>\n",
       "      <td>A</td>\n",
       "      <td>A</td>\n",
       "    </tr>\n",
       "    <tr>\n",
       "      <th>booking_changes</th>\n",
       "      <td>3</td>\n",
       "      <td>4</td>\n",
       "      <td>0</td>\n",
       "      <td>0</td>\n",
       "      <td>0</td>\n",
       "    </tr>\n",
       "    <tr>\n",
       "      <th>deposit_type</th>\n",
       "      <td>No Deposit</td>\n",
       "      <td>No Deposit</td>\n",
       "      <td>No Deposit</td>\n",
       "      <td>No Deposit</td>\n",
       "      <td>No Deposit</td>\n",
       "    </tr>\n",
       "    <tr>\n",
       "      <th>days_in_waiting_list</th>\n",
       "      <td>0</td>\n",
       "      <td>0</td>\n",
       "      <td>0</td>\n",
       "      <td>0</td>\n",
       "      <td>0</td>\n",
       "    </tr>\n",
       "    <tr>\n",
       "      <th>customer_type</th>\n",
       "      <td>Transient</td>\n",
       "      <td>Transient</td>\n",
       "      <td>Transient</td>\n",
       "      <td>Transient</td>\n",
       "      <td>Transient</td>\n",
       "    </tr>\n",
       "    <tr>\n",
       "      <th>adr</th>\n",
       "      <td>0.0</td>\n",
       "      <td>0.0</td>\n",
       "      <td>75.0</td>\n",
       "      <td>75.0</td>\n",
       "      <td>98.0</td>\n",
       "    </tr>\n",
       "    <tr>\n",
       "      <th>required_car_parking_spaces</th>\n",
       "      <td>0</td>\n",
       "      <td>0</td>\n",
       "      <td>0</td>\n",
       "      <td>0</td>\n",
       "      <td>0</td>\n",
       "    </tr>\n",
       "    <tr>\n",
       "      <th>total_of_special_requests</th>\n",
       "      <td>0</td>\n",
       "      <td>0</td>\n",
       "      <td>0</td>\n",
       "      <td>0</td>\n",
       "      <td>1</td>\n",
       "    </tr>\n",
       "    <tr>\n",
       "      <th>reservation_status</th>\n",
       "      <td>Check-Out</td>\n",
       "      <td>Check-Out</td>\n",
       "      <td>Check-Out</td>\n",
       "      <td>Check-Out</td>\n",
       "      <td>Check-Out</td>\n",
       "    </tr>\n",
       "    <tr>\n",
       "      <th>reservation_status_date</th>\n",
       "      <td>2015-07-01</td>\n",
       "      <td>2015-07-01</td>\n",
       "      <td>2015-07-02</td>\n",
       "      <td>2015-07-02</td>\n",
       "      <td>2015-07-03</td>\n",
       "    </tr>\n",
       "    <tr>\n",
       "      <th>total_guests</th>\n",
       "      <td>2</td>\n",
       "      <td>2</td>\n",
       "      <td>1</td>\n",
       "      <td>1</td>\n",
       "      <td>2</td>\n",
       "    </tr>\n",
       "  </tbody>\n",
       "</table>\n",
       "</div>"
      ],
      "text/plain": [
       "                                           0             1             2  \\\n",
       "hotel                           Resort Hotel  Resort Hotel  Resort Hotel   \n",
       "is_canceled                                0             0             0   \n",
       "lead_time                                342           737             7   \n",
       "arrival_date_year                       2015          2015          2015   \n",
       "arrival_date_month                      July          July          July   \n",
       "arrival_date_week_number                  27            27            27   \n",
       "arrival_date_day_of_month                  1             1             1   \n",
       "stays_in_weekend_nights                    0             0             0   \n",
       "stays_in_week_nights                       0             0             1   \n",
       "adults                                     2             2             1   \n",
       "children                                   0             0             0   \n",
       "babies                                     0             0             0   \n",
       "meal                                      BB            BB            BB   \n",
       "country                                  PRT           PRT           GBR   \n",
       "market_segment                        Direct        Direct        Direct   \n",
       "distribution_channel                  Direct        Direct        Direct   \n",
       "is_repeated_guest                          0             0             0   \n",
       "previous_cancellations                     0             0             0   \n",
       "previous_bookings_not_canceled             0             0             0   \n",
       "reserved_room_type                         C             C             A   \n",
       "assigned_room_type                         C             C             C   \n",
       "booking_changes                            3             4             0   \n",
       "deposit_type                      No Deposit    No Deposit    No Deposit   \n",
       "days_in_waiting_list                       0             0             0   \n",
       "customer_type                      Transient     Transient     Transient   \n",
       "adr                                      0.0           0.0          75.0   \n",
       "required_car_parking_spaces                0             0             0   \n",
       "total_of_special_requests                  0             0             0   \n",
       "reservation_status                 Check-Out     Check-Out     Check-Out   \n",
       "reservation_status_date           2015-07-01    2015-07-01    2015-07-02   \n",
       "total_guests                               2             2             1   \n",
       "\n",
       "                                           3             4  \n",
       "hotel                           Resort Hotel  Resort Hotel  \n",
       "is_canceled                                0             0  \n",
       "lead_time                                 13            14  \n",
       "arrival_date_year                       2015          2015  \n",
       "arrival_date_month                      July          July  \n",
       "arrival_date_week_number                  27            27  \n",
       "arrival_date_day_of_month                  1             1  \n",
       "stays_in_weekend_nights                    0             0  \n",
       "stays_in_week_nights                       1             2  \n",
       "adults                                     1             2  \n",
       "children                                   0             0  \n",
       "babies                                     0             0  \n",
       "meal                                      BB            BB  \n",
       "country                                  GBR           GBR  \n",
       "market_segment                     Corporate     Online TA  \n",
       "distribution_channel               Corporate         TA/TO  \n",
       "is_repeated_guest                          0             0  \n",
       "previous_cancellations                     0             0  \n",
       "previous_bookings_not_canceled             0             0  \n",
       "reserved_room_type                         A             A  \n",
       "assigned_room_type                         A             A  \n",
       "booking_changes                            0             0  \n",
       "deposit_type                      No Deposit    No Deposit  \n",
       "days_in_waiting_list                       0             0  \n",
       "customer_type                      Transient     Transient  \n",
       "adr                                     75.0          98.0  \n",
       "required_car_parking_spaces                0             0  \n",
       "total_of_special_requests                  0             1  \n",
       "reservation_status                 Check-Out     Check-Out  \n",
       "reservation_status_date           2015-07-02    2015-07-03  \n",
       "total_guests                               1             2  "
      ]
     },
     "execution_count": 11,
     "metadata": {},
     "output_type": "execute_result"
    }
   ],
   "source": [
    "prelim_df[\"total_guests\"] = prelim_df[\"adults\"] + prelim_df[\"children\"] + prelim_df[\"babies\"]\n",
    "prelim_df.head().T"
   ]
  },
  {
   "cell_type": "markdown",
   "metadata": {
    "id": "V3sTHdJOqr6D"
   },
   "source": [
    "## Feature total días en el hotel (total_stay_in_nights)"
   ]
  },
  {
   "cell_type": "code",
   "execution_count": 12,
   "metadata": {
    "colab": {
     "base_uri": "https://localhost:8080/"
    },
    "executionInfo": {
     "elapsed": 18,
     "status": "ok",
     "timestamp": 1632169020110,
     "user": {
      "displayName": "Viridiana Valencia",
      "photoUrl": "https://lh3.googleusercontent.com/a/default-user=s64",
      "userId": "05838258711225855733"
     },
     "user_tz": 420
    },
    "id": "H0AsUB2Hqr6E",
    "outputId": "b7461583-ec19-4aeb-f4de-5ff6361df5dc"
   },
   "outputs": [
    {
     "data": {
      "text/html": [
       "<div>\n",
       "<style scoped>\n",
       "    .dataframe tbody tr th:only-of-type {\n",
       "        vertical-align: middle;\n",
       "    }\n",
       "\n",
       "    .dataframe tbody tr th {\n",
       "        vertical-align: top;\n",
       "    }\n",
       "\n",
       "    .dataframe thead th {\n",
       "        text-align: right;\n",
       "    }\n",
       "</style>\n",
       "<table border=\"1\" class=\"dataframe\">\n",
       "  <thead>\n",
       "    <tr style=\"text-align: right;\">\n",
       "      <th></th>\n",
       "      <th>0</th>\n",
       "      <th>1</th>\n",
       "      <th>2</th>\n",
       "      <th>3</th>\n",
       "      <th>4</th>\n",
       "    </tr>\n",
       "  </thead>\n",
       "  <tbody>\n",
       "    <tr>\n",
       "      <th>hotel</th>\n",
       "      <td>Resort Hotel</td>\n",
       "      <td>Resort Hotel</td>\n",
       "      <td>Resort Hotel</td>\n",
       "      <td>Resort Hotel</td>\n",
       "      <td>Resort Hotel</td>\n",
       "    </tr>\n",
       "    <tr>\n",
       "      <th>is_canceled</th>\n",
       "      <td>0</td>\n",
       "      <td>0</td>\n",
       "      <td>0</td>\n",
       "      <td>0</td>\n",
       "      <td>0</td>\n",
       "    </tr>\n",
       "    <tr>\n",
       "      <th>lead_time</th>\n",
       "      <td>342</td>\n",
       "      <td>737</td>\n",
       "      <td>7</td>\n",
       "      <td>13</td>\n",
       "      <td>14</td>\n",
       "    </tr>\n",
       "    <tr>\n",
       "      <th>arrival_date_year</th>\n",
       "      <td>2015</td>\n",
       "      <td>2015</td>\n",
       "      <td>2015</td>\n",
       "      <td>2015</td>\n",
       "      <td>2015</td>\n",
       "    </tr>\n",
       "    <tr>\n",
       "      <th>arrival_date_month</th>\n",
       "      <td>July</td>\n",
       "      <td>July</td>\n",
       "      <td>July</td>\n",
       "      <td>July</td>\n",
       "      <td>July</td>\n",
       "    </tr>\n",
       "    <tr>\n",
       "      <th>arrival_date_week_number</th>\n",
       "      <td>27</td>\n",
       "      <td>27</td>\n",
       "      <td>27</td>\n",
       "      <td>27</td>\n",
       "      <td>27</td>\n",
       "    </tr>\n",
       "    <tr>\n",
       "      <th>arrival_date_day_of_month</th>\n",
       "      <td>1</td>\n",
       "      <td>1</td>\n",
       "      <td>1</td>\n",
       "      <td>1</td>\n",
       "      <td>1</td>\n",
       "    </tr>\n",
       "    <tr>\n",
       "      <th>stays_in_weekend_nights</th>\n",
       "      <td>0</td>\n",
       "      <td>0</td>\n",
       "      <td>0</td>\n",
       "      <td>0</td>\n",
       "      <td>0</td>\n",
       "    </tr>\n",
       "    <tr>\n",
       "      <th>stays_in_week_nights</th>\n",
       "      <td>0</td>\n",
       "      <td>0</td>\n",
       "      <td>1</td>\n",
       "      <td>1</td>\n",
       "      <td>2</td>\n",
       "    </tr>\n",
       "    <tr>\n",
       "      <th>adults</th>\n",
       "      <td>2</td>\n",
       "      <td>2</td>\n",
       "      <td>1</td>\n",
       "      <td>1</td>\n",
       "      <td>2</td>\n",
       "    </tr>\n",
       "    <tr>\n",
       "      <th>children</th>\n",
       "      <td>0</td>\n",
       "      <td>0</td>\n",
       "      <td>0</td>\n",
       "      <td>0</td>\n",
       "      <td>0</td>\n",
       "    </tr>\n",
       "    <tr>\n",
       "      <th>babies</th>\n",
       "      <td>0</td>\n",
       "      <td>0</td>\n",
       "      <td>0</td>\n",
       "      <td>0</td>\n",
       "      <td>0</td>\n",
       "    </tr>\n",
       "    <tr>\n",
       "      <th>meal</th>\n",
       "      <td>BB</td>\n",
       "      <td>BB</td>\n",
       "      <td>BB</td>\n",
       "      <td>BB</td>\n",
       "      <td>BB</td>\n",
       "    </tr>\n",
       "    <tr>\n",
       "      <th>country</th>\n",
       "      <td>PRT</td>\n",
       "      <td>PRT</td>\n",
       "      <td>GBR</td>\n",
       "      <td>GBR</td>\n",
       "      <td>GBR</td>\n",
       "    </tr>\n",
       "    <tr>\n",
       "      <th>market_segment</th>\n",
       "      <td>Direct</td>\n",
       "      <td>Direct</td>\n",
       "      <td>Direct</td>\n",
       "      <td>Corporate</td>\n",
       "      <td>Online TA</td>\n",
       "    </tr>\n",
       "    <tr>\n",
       "      <th>distribution_channel</th>\n",
       "      <td>Direct</td>\n",
       "      <td>Direct</td>\n",
       "      <td>Direct</td>\n",
       "      <td>Corporate</td>\n",
       "      <td>TA/TO</td>\n",
       "    </tr>\n",
       "    <tr>\n",
       "      <th>is_repeated_guest</th>\n",
       "      <td>0</td>\n",
       "      <td>0</td>\n",
       "      <td>0</td>\n",
       "      <td>0</td>\n",
       "      <td>0</td>\n",
       "    </tr>\n",
       "    <tr>\n",
       "      <th>previous_cancellations</th>\n",
       "      <td>0</td>\n",
       "      <td>0</td>\n",
       "      <td>0</td>\n",
       "      <td>0</td>\n",
       "      <td>0</td>\n",
       "    </tr>\n",
       "    <tr>\n",
       "      <th>previous_bookings_not_canceled</th>\n",
       "      <td>0</td>\n",
       "      <td>0</td>\n",
       "      <td>0</td>\n",
       "      <td>0</td>\n",
       "      <td>0</td>\n",
       "    </tr>\n",
       "    <tr>\n",
       "      <th>reserved_room_type</th>\n",
       "      <td>C</td>\n",
       "      <td>C</td>\n",
       "      <td>A</td>\n",
       "      <td>A</td>\n",
       "      <td>A</td>\n",
       "    </tr>\n",
       "    <tr>\n",
       "      <th>assigned_room_type</th>\n",
       "      <td>C</td>\n",
       "      <td>C</td>\n",
       "      <td>C</td>\n",
       "      <td>A</td>\n",
       "      <td>A</td>\n",
       "    </tr>\n",
       "    <tr>\n",
       "      <th>booking_changes</th>\n",
       "      <td>3</td>\n",
       "      <td>4</td>\n",
       "      <td>0</td>\n",
       "      <td>0</td>\n",
       "      <td>0</td>\n",
       "    </tr>\n",
       "    <tr>\n",
       "      <th>deposit_type</th>\n",
       "      <td>No Deposit</td>\n",
       "      <td>No Deposit</td>\n",
       "      <td>No Deposit</td>\n",
       "      <td>No Deposit</td>\n",
       "      <td>No Deposit</td>\n",
       "    </tr>\n",
       "    <tr>\n",
       "      <th>days_in_waiting_list</th>\n",
       "      <td>0</td>\n",
       "      <td>0</td>\n",
       "      <td>0</td>\n",
       "      <td>0</td>\n",
       "      <td>0</td>\n",
       "    </tr>\n",
       "    <tr>\n",
       "      <th>customer_type</th>\n",
       "      <td>Transient</td>\n",
       "      <td>Transient</td>\n",
       "      <td>Transient</td>\n",
       "      <td>Transient</td>\n",
       "      <td>Transient</td>\n",
       "    </tr>\n",
       "    <tr>\n",
       "      <th>adr</th>\n",
       "      <td>0.0</td>\n",
       "      <td>0.0</td>\n",
       "      <td>75.0</td>\n",
       "      <td>75.0</td>\n",
       "      <td>98.0</td>\n",
       "    </tr>\n",
       "    <tr>\n",
       "      <th>required_car_parking_spaces</th>\n",
       "      <td>0</td>\n",
       "      <td>0</td>\n",
       "      <td>0</td>\n",
       "      <td>0</td>\n",
       "      <td>0</td>\n",
       "    </tr>\n",
       "    <tr>\n",
       "      <th>total_of_special_requests</th>\n",
       "      <td>0</td>\n",
       "      <td>0</td>\n",
       "      <td>0</td>\n",
       "      <td>0</td>\n",
       "      <td>1</td>\n",
       "    </tr>\n",
       "    <tr>\n",
       "      <th>reservation_status</th>\n",
       "      <td>Check-Out</td>\n",
       "      <td>Check-Out</td>\n",
       "      <td>Check-Out</td>\n",
       "      <td>Check-Out</td>\n",
       "      <td>Check-Out</td>\n",
       "    </tr>\n",
       "    <tr>\n",
       "      <th>reservation_status_date</th>\n",
       "      <td>2015-07-01</td>\n",
       "      <td>2015-07-01</td>\n",
       "      <td>2015-07-02</td>\n",
       "      <td>2015-07-02</td>\n",
       "      <td>2015-07-03</td>\n",
       "    </tr>\n",
       "    <tr>\n",
       "      <th>total_guests</th>\n",
       "      <td>2</td>\n",
       "      <td>2</td>\n",
       "      <td>1</td>\n",
       "      <td>1</td>\n",
       "      <td>2</td>\n",
       "    </tr>\n",
       "    <tr>\n",
       "      <th>total_stay_in_nights</th>\n",
       "      <td>0</td>\n",
       "      <td>0</td>\n",
       "      <td>1</td>\n",
       "      <td>1</td>\n",
       "      <td>2</td>\n",
       "    </tr>\n",
       "  </tbody>\n",
       "</table>\n",
       "</div>"
      ],
      "text/plain": [
       "                                           0             1             2  \\\n",
       "hotel                           Resort Hotel  Resort Hotel  Resort Hotel   \n",
       "is_canceled                                0             0             0   \n",
       "lead_time                                342           737             7   \n",
       "arrival_date_year                       2015          2015          2015   \n",
       "arrival_date_month                      July          July          July   \n",
       "arrival_date_week_number                  27            27            27   \n",
       "arrival_date_day_of_month                  1             1             1   \n",
       "stays_in_weekend_nights                    0             0             0   \n",
       "stays_in_week_nights                       0             0             1   \n",
       "adults                                     2             2             1   \n",
       "children                                   0             0             0   \n",
       "babies                                     0             0             0   \n",
       "meal                                      BB            BB            BB   \n",
       "country                                  PRT           PRT           GBR   \n",
       "market_segment                        Direct        Direct        Direct   \n",
       "distribution_channel                  Direct        Direct        Direct   \n",
       "is_repeated_guest                          0             0             0   \n",
       "previous_cancellations                     0             0             0   \n",
       "previous_bookings_not_canceled             0             0             0   \n",
       "reserved_room_type                         C             C             A   \n",
       "assigned_room_type                         C             C             C   \n",
       "booking_changes                            3             4             0   \n",
       "deposit_type                      No Deposit    No Deposit    No Deposit   \n",
       "days_in_waiting_list                       0             0             0   \n",
       "customer_type                      Transient     Transient     Transient   \n",
       "adr                                      0.0           0.0          75.0   \n",
       "required_car_parking_spaces                0             0             0   \n",
       "total_of_special_requests                  0             0             0   \n",
       "reservation_status                 Check-Out     Check-Out     Check-Out   \n",
       "reservation_status_date           2015-07-01    2015-07-01    2015-07-02   \n",
       "total_guests                               2             2             1   \n",
       "total_stay_in_nights                       0             0             1   \n",
       "\n",
       "                                           3             4  \n",
       "hotel                           Resort Hotel  Resort Hotel  \n",
       "is_canceled                                0             0  \n",
       "lead_time                                 13            14  \n",
       "arrival_date_year                       2015          2015  \n",
       "arrival_date_month                      July          July  \n",
       "arrival_date_week_number                  27            27  \n",
       "arrival_date_day_of_month                  1             1  \n",
       "stays_in_weekend_nights                    0             0  \n",
       "stays_in_week_nights                       1             2  \n",
       "adults                                     1             2  \n",
       "children                                   0             0  \n",
       "babies                                     0             0  \n",
       "meal                                      BB            BB  \n",
       "country                                  GBR           GBR  \n",
       "market_segment                     Corporate     Online TA  \n",
       "distribution_channel               Corporate         TA/TO  \n",
       "is_repeated_guest                          0             0  \n",
       "previous_cancellations                     0             0  \n",
       "previous_bookings_not_canceled             0             0  \n",
       "reserved_room_type                         A             A  \n",
       "assigned_room_type                         A             A  \n",
       "booking_changes                            0             0  \n",
       "deposit_type                      No Deposit    No Deposit  \n",
       "days_in_waiting_list                       0             0  \n",
       "customer_type                      Transient     Transient  \n",
       "adr                                     75.0          98.0  \n",
       "required_car_parking_spaces                0             0  \n",
       "total_of_special_requests                  0             1  \n",
       "reservation_status                 Check-Out     Check-Out  \n",
       "reservation_status_date           2015-07-02    2015-07-03  \n",
       "total_guests                               1             2  \n",
       "total_stay_in_nights                       1             2  "
      ]
     },
     "execution_count": 12,
     "metadata": {},
     "output_type": "execute_result"
    }
   ],
   "source": [
    "prelim_df[\"total_stay_in_nights\"] = prelim_df[\"stays_in_week_nights\"] + prelim_df[\"stays_in_weekend_nights\"]\n",
    "prelim_df.head().T"
   ]
  },
  {
   "cell_type": "code",
   "execution_count": 13,
   "metadata": {
    "colab": {
     "base_uri": "https://localhost:8080/"
    },
    "executionInfo": {
     "elapsed": 18,
     "status": "ok",
     "timestamp": 1632169020111,
     "user": {
      "displayName": "Viridiana Valencia",
      "photoUrl": "https://lh3.googleusercontent.com/a/default-user=s64",
      "userId": "05838258711225855733"
     },
     "user_tz": 420
    },
    "id": "qnYnNQPwqr6E",
    "outputId": "f526d641-c3a0-4eef-b8da-067eb38d6f5f"
   },
   "outputs": [
    {
     "data": {
      "text/plain": [
       "Check-Out    680\n",
       "Name: reservation_status, dtype: int64"
      ]
     },
     "execution_count": 13,
     "metadata": {},
     "output_type": "execute_result"
    }
   ],
   "source": [
    "# Cantidad de registros que tienen noches = 0 y que no fueron cancelados --- Son todos Check-Out\n",
    "nfilt = (prelim_df[\"total_stay_in_nights\"] == 0) & (prelim_df[\"is_canceled\"] != 1)\n",
    "prelim_df[nfilt][\"reservation_status\"].value_counts()"
   ]
  },
  {
   "cell_type": "markdown",
   "metadata": {
    "id": "s-qOGS1lqr6E"
   },
   "source": [
    "## Feature que indique si hay niños en la reserva (has_minors)"
   ]
  },
  {
   "cell_type": "code",
   "execution_count": 14,
   "metadata": {
    "colab": {
     "base_uri": "https://localhost:8080/"
    },
    "executionInfo": {
     "elapsed": 17,
     "status": "ok",
     "timestamp": 1632169020111,
     "user": {
      "displayName": "Viridiana Valencia",
      "photoUrl": "https://lh3.googleusercontent.com/a/default-user=s64",
      "userId": "05838258711225855733"
     },
     "user_tz": 420
    },
    "id": "xhZcIu1wqr6E",
    "outputId": "e8ba0bba-0e16-44fa-ed54-1f17661128b7"
   },
   "outputs": [
    {
     "data": {
      "text/plain": [
       "1     5442\n",
       "2     3567\n",
       "3       97\n",
       "10       2\n",
       "9        1\n",
       "Name: total_minors, dtype: int64"
      ]
     },
     "execution_count": 14,
     "metadata": {},
     "output_type": "execute_result"
    }
   ],
   "source": [
    "prelim_df[\"total_minors\"] = prelim_df[\"children\"] + prelim_df[\"babies\"]\n",
    "minors_filt = prelim_df[\"total_minors\"] > 0\n",
    "prelim_df[minors_filt][\"total_minors\"].value_counts()"
   ]
  },
  {
   "cell_type": "code",
   "execution_count": 15,
   "metadata": {
    "colab": {
     "base_uri": "https://localhost:8080/",
     "height": 1000
    },
    "executionInfo": {
     "elapsed": 15,
     "status": "ok",
     "timestamp": 1632169020111,
     "user": {
      "displayName": "Viridiana Valencia",
      "photoUrl": "https://lh3.googleusercontent.com/a/default-user=s64",
      "userId": "05838258711225855733"
     },
     "user_tz": 420
    },
    "id": "2tcnf2p0qr6F",
    "outputId": "952dbdf0-268d-4221-e209-68353b0f3979"
   },
   "outputs": [
    {
     "data": {
      "text/html": [
       "<div>\n",
       "<style scoped>\n",
       "    .dataframe tbody tr th:only-of-type {\n",
       "        vertical-align: middle;\n",
       "    }\n",
       "\n",
       "    .dataframe tbody tr th {\n",
       "        vertical-align: top;\n",
       "    }\n",
       "\n",
       "    .dataframe thead th {\n",
       "        text-align: right;\n",
       "    }\n",
       "</style>\n",
       "<table border=\"1\" class=\"dataframe\">\n",
       "  <thead>\n",
       "    <tr style=\"text-align: right;\">\n",
       "      <th></th>\n",
       "      <th>0</th>\n",
       "      <th>1</th>\n",
       "      <th>2</th>\n",
       "      <th>3</th>\n",
       "      <th>4</th>\n",
       "      <th>5</th>\n",
       "      <th>6</th>\n",
       "      <th>7</th>\n",
       "      <th>8</th>\n",
       "      <th>9</th>\n",
       "      <th>10</th>\n",
       "      <th>11</th>\n",
       "      <th>12</th>\n",
       "      <th>13</th>\n",
       "      <th>14</th>\n",
       "    </tr>\n",
       "  </thead>\n",
       "  <tbody>\n",
       "    <tr>\n",
       "      <th>hotel</th>\n",
       "      <td>Resort Hotel</td>\n",
       "      <td>Resort Hotel</td>\n",
       "      <td>Resort Hotel</td>\n",
       "      <td>Resort Hotel</td>\n",
       "      <td>Resort Hotel</td>\n",
       "      <td>Resort Hotel</td>\n",
       "      <td>Resort Hotel</td>\n",
       "      <td>Resort Hotel</td>\n",
       "      <td>Resort Hotel</td>\n",
       "      <td>Resort Hotel</td>\n",
       "      <td>Resort Hotel</td>\n",
       "      <td>Resort Hotel</td>\n",
       "      <td>Resort Hotel</td>\n",
       "      <td>Resort Hotel</td>\n",
       "      <td>Resort Hotel</td>\n",
       "    </tr>\n",
       "    <tr>\n",
       "      <th>is_canceled</th>\n",
       "      <td>0</td>\n",
       "      <td>0</td>\n",
       "      <td>0</td>\n",
       "      <td>0</td>\n",
       "      <td>0</td>\n",
       "      <td>0</td>\n",
       "      <td>0</td>\n",
       "      <td>0</td>\n",
       "      <td>1</td>\n",
       "      <td>1</td>\n",
       "      <td>1</td>\n",
       "      <td>0</td>\n",
       "      <td>0</td>\n",
       "      <td>0</td>\n",
       "      <td>0</td>\n",
       "    </tr>\n",
       "    <tr>\n",
       "      <th>lead_time</th>\n",
       "      <td>342</td>\n",
       "      <td>737</td>\n",
       "      <td>7</td>\n",
       "      <td>13</td>\n",
       "      <td>14</td>\n",
       "      <td>14</td>\n",
       "      <td>0</td>\n",
       "      <td>9</td>\n",
       "      <td>85</td>\n",
       "      <td>75</td>\n",
       "      <td>23</td>\n",
       "      <td>35</td>\n",
       "      <td>68</td>\n",
       "      <td>18</td>\n",
       "      <td>37</td>\n",
       "    </tr>\n",
       "    <tr>\n",
       "      <th>arrival_date_year</th>\n",
       "      <td>2015</td>\n",
       "      <td>2015</td>\n",
       "      <td>2015</td>\n",
       "      <td>2015</td>\n",
       "      <td>2015</td>\n",
       "      <td>2015</td>\n",
       "      <td>2015</td>\n",
       "      <td>2015</td>\n",
       "      <td>2015</td>\n",
       "      <td>2015</td>\n",
       "      <td>2015</td>\n",
       "      <td>2015</td>\n",
       "      <td>2015</td>\n",
       "      <td>2015</td>\n",
       "      <td>2015</td>\n",
       "    </tr>\n",
       "    <tr>\n",
       "      <th>arrival_date_month</th>\n",
       "      <td>July</td>\n",
       "      <td>July</td>\n",
       "      <td>July</td>\n",
       "      <td>July</td>\n",
       "      <td>July</td>\n",
       "      <td>July</td>\n",
       "      <td>July</td>\n",
       "      <td>July</td>\n",
       "      <td>July</td>\n",
       "      <td>July</td>\n",
       "      <td>July</td>\n",
       "      <td>July</td>\n",
       "      <td>July</td>\n",
       "      <td>July</td>\n",
       "      <td>July</td>\n",
       "    </tr>\n",
       "    <tr>\n",
       "      <th>arrival_date_week_number</th>\n",
       "      <td>27</td>\n",
       "      <td>27</td>\n",
       "      <td>27</td>\n",
       "      <td>27</td>\n",
       "      <td>27</td>\n",
       "      <td>27</td>\n",
       "      <td>27</td>\n",
       "      <td>27</td>\n",
       "      <td>27</td>\n",
       "      <td>27</td>\n",
       "      <td>27</td>\n",
       "      <td>27</td>\n",
       "      <td>27</td>\n",
       "      <td>27</td>\n",
       "      <td>27</td>\n",
       "    </tr>\n",
       "    <tr>\n",
       "      <th>arrival_date_day_of_month</th>\n",
       "      <td>1</td>\n",
       "      <td>1</td>\n",
       "      <td>1</td>\n",
       "      <td>1</td>\n",
       "      <td>1</td>\n",
       "      <td>1</td>\n",
       "      <td>1</td>\n",
       "      <td>1</td>\n",
       "      <td>1</td>\n",
       "      <td>1</td>\n",
       "      <td>1</td>\n",
       "      <td>1</td>\n",
       "      <td>1</td>\n",
       "      <td>1</td>\n",
       "      <td>1</td>\n",
       "    </tr>\n",
       "    <tr>\n",
       "      <th>stays_in_weekend_nights</th>\n",
       "      <td>0</td>\n",
       "      <td>0</td>\n",
       "      <td>0</td>\n",
       "      <td>0</td>\n",
       "      <td>0</td>\n",
       "      <td>0</td>\n",
       "      <td>0</td>\n",
       "      <td>0</td>\n",
       "      <td>0</td>\n",
       "      <td>0</td>\n",
       "      <td>0</td>\n",
       "      <td>0</td>\n",
       "      <td>0</td>\n",
       "      <td>0</td>\n",
       "      <td>0</td>\n",
       "    </tr>\n",
       "    <tr>\n",
       "      <th>stays_in_week_nights</th>\n",
       "      <td>0</td>\n",
       "      <td>0</td>\n",
       "      <td>1</td>\n",
       "      <td>1</td>\n",
       "      <td>2</td>\n",
       "      <td>2</td>\n",
       "      <td>2</td>\n",
       "      <td>2</td>\n",
       "      <td>3</td>\n",
       "      <td>3</td>\n",
       "      <td>4</td>\n",
       "      <td>4</td>\n",
       "      <td>4</td>\n",
       "      <td>4</td>\n",
       "      <td>4</td>\n",
       "    </tr>\n",
       "    <tr>\n",
       "      <th>adults</th>\n",
       "      <td>2</td>\n",
       "      <td>2</td>\n",
       "      <td>1</td>\n",
       "      <td>1</td>\n",
       "      <td>2</td>\n",
       "      <td>2</td>\n",
       "      <td>2</td>\n",
       "      <td>2</td>\n",
       "      <td>2</td>\n",
       "      <td>2</td>\n",
       "      <td>2</td>\n",
       "      <td>2</td>\n",
       "      <td>2</td>\n",
       "      <td>2</td>\n",
       "      <td>2</td>\n",
       "    </tr>\n",
       "    <tr>\n",
       "      <th>children</th>\n",
       "      <td>0</td>\n",
       "      <td>0</td>\n",
       "      <td>0</td>\n",
       "      <td>0</td>\n",
       "      <td>0</td>\n",
       "      <td>0</td>\n",
       "      <td>0</td>\n",
       "      <td>0</td>\n",
       "      <td>0</td>\n",
       "      <td>0</td>\n",
       "      <td>0</td>\n",
       "      <td>0</td>\n",
       "      <td>0</td>\n",
       "      <td>1</td>\n",
       "      <td>0</td>\n",
       "    </tr>\n",
       "    <tr>\n",
       "      <th>babies</th>\n",
       "      <td>0</td>\n",
       "      <td>0</td>\n",
       "      <td>0</td>\n",
       "      <td>0</td>\n",
       "      <td>0</td>\n",
       "      <td>0</td>\n",
       "      <td>0</td>\n",
       "      <td>0</td>\n",
       "      <td>0</td>\n",
       "      <td>0</td>\n",
       "      <td>0</td>\n",
       "      <td>0</td>\n",
       "      <td>0</td>\n",
       "      <td>0</td>\n",
       "      <td>0</td>\n",
       "    </tr>\n",
       "    <tr>\n",
       "      <th>meal</th>\n",
       "      <td>BB</td>\n",
       "      <td>BB</td>\n",
       "      <td>BB</td>\n",
       "      <td>BB</td>\n",
       "      <td>BB</td>\n",
       "      <td>BB</td>\n",
       "      <td>BB</td>\n",
       "      <td>FB</td>\n",
       "      <td>BB</td>\n",
       "      <td>HB</td>\n",
       "      <td>BB</td>\n",
       "      <td>HB</td>\n",
       "      <td>BB</td>\n",
       "      <td>HB</td>\n",
       "      <td>BB</td>\n",
       "    </tr>\n",
       "    <tr>\n",
       "      <th>country</th>\n",
       "      <td>PRT</td>\n",
       "      <td>PRT</td>\n",
       "      <td>GBR</td>\n",
       "      <td>GBR</td>\n",
       "      <td>GBR</td>\n",
       "      <td>GBR</td>\n",
       "      <td>PRT</td>\n",
       "      <td>PRT</td>\n",
       "      <td>PRT</td>\n",
       "      <td>PRT</td>\n",
       "      <td>PRT</td>\n",
       "      <td>PRT</td>\n",
       "      <td>USA</td>\n",
       "      <td>ESP</td>\n",
       "      <td>PRT</td>\n",
       "    </tr>\n",
       "    <tr>\n",
       "      <th>market_segment</th>\n",
       "      <td>Direct</td>\n",
       "      <td>Direct</td>\n",
       "      <td>Direct</td>\n",
       "      <td>Corporate</td>\n",
       "      <td>Online TA</td>\n",
       "      <td>Online TA</td>\n",
       "      <td>Direct</td>\n",
       "      <td>Direct</td>\n",
       "      <td>Online TA</td>\n",
       "      <td>Offline TA/TO</td>\n",
       "      <td>Online TA</td>\n",
       "      <td>Online TA</td>\n",
       "      <td>Online TA</td>\n",
       "      <td>Online TA</td>\n",
       "      <td>Online TA</td>\n",
       "    </tr>\n",
       "    <tr>\n",
       "      <th>distribution_channel</th>\n",
       "      <td>Direct</td>\n",
       "      <td>Direct</td>\n",
       "      <td>Direct</td>\n",
       "      <td>Corporate</td>\n",
       "      <td>TA/TO</td>\n",
       "      <td>TA/TO</td>\n",
       "      <td>Direct</td>\n",
       "      <td>Direct</td>\n",
       "      <td>TA/TO</td>\n",
       "      <td>TA/TO</td>\n",
       "      <td>TA/TO</td>\n",
       "      <td>TA/TO</td>\n",
       "      <td>TA/TO</td>\n",
       "      <td>TA/TO</td>\n",
       "      <td>TA/TO</td>\n",
       "    </tr>\n",
       "    <tr>\n",
       "      <th>is_repeated_guest</th>\n",
       "      <td>0</td>\n",
       "      <td>0</td>\n",
       "      <td>0</td>\n",
       "      <td>0</td>\n",
       "      <td>0</td>\n",
       "      <td>0</td>\n",
       "      <td>0</td>\n",
       "      <td>0</td>\n",
       "      <td>0</td>\n",
       "      <td>0</td>\n",
       "      <td>0</td>\n",
       "      <td>0</td>\n",
       "      <td>0</td>\n",
       "      <td>0</td>\n",
       "      <td>0</td>\n",
       "    </tr>\n",
       "    <tr>\n",
       "      <th>previous_cancellations</th>\n",
       "      <td>0</td>\n",
       "      <td>0</td>\n",
       "      <td>0</td>\n",
       "      <td>0</td>\n",
       "      <td>0</td>\n",
       "      <td>0</td>\n",
       "      <td>0</td>\n",
       "      <td>0</td>\n",
       "      <td>0</td>\n",
       "      <td>0</td>\n",
       "      <td>0</td>\n",
       "      <td>0</td>\n",
       "      <td>0</td>\n",
       "      <td>0</td>\n",
       "      <td>0</td>\n",
       "    </tr>\n",
       "    <tr>\n",
       "      <th>previous_bookings_not_canceled</th>\n",
       "      <td>0</td>\n",
       "      <td>0</td>\n",
       "      <td>0</td>\n",
       "      <td>0</td>\n",
       "      <td>0</td>\n",
       "      <td>0</td>\n",
       "      <td>0</td>\n",
       "      <td>0</td>\n",
       "      <td>0</td>\n",
       "      <td>0</td>\n",
       "      <td>0</td>\n",
       "      <td>0</td>\n",
       "      <td>0</td>\n",
       "      <td>0</td>\n",
       "      <td>0</td>\n",
       "    </tr>\n",
       "    <tr>\n",
       "      <th>reserved_room_type</th>\n",
       "      <td>C</td>\n",
       "      <td>C</td>\n",
       "      <td>A</td>\n",
       "      <td>A</td>\n",
       "      <td>A</td>\n",
       "      <td>A</td>\n",
       "      <td>C</td>\n",
       "      <td>C</td>\n",
       "      <td>A</td>\n",
       "      <td>D</td>\n",
       "      <td>E</td>\n",
       "      <td>D</td>\n",
       "      <td>D</td>\n",
       "      <td>G</td>\n",
       "      <td>E</td>\n",
       "    </tr>\n",
       "    <tr>\n",
       "      <th>assigned_room_type</th>\n",
       "      <td>C</td>\n",
       "      <td>C</td>\n",
       "      <td>C</td>\n",
       "      <td>A</td>\n",
       "      <td>A</td>\n",
       "      <td>A</td>\n",
       "      <td>C</td>\n",
       "      <td>C</td>\n",
       "      <td>A</td>\n",
       "      <td>D</td>\n",
       "      <td>E</td>\n",
       "      <td>D</td>\n",
       "      <td>E</td>\n",
       "      <td>G</td>\n",
       "      <td>E</td>\n",
       "    </tr>\n",
       "    <tr>\n",
       "      <th>booking_changes</th>\n",
       "      <td>3</td>\n",
       "      <td>4</td>\n",
       "      <td>0</td>\n",
       "      <td>0</td>\n",
       "      <td>0</td>\n",
       "      <td>0</td>\n",
       "      <td>0</td>\n",
       "      <td>0</td>\n",
       "      <td>0</td>\n",
       "      <td>0</td>\n",
       "      <td>0</td>\n",
       "      <td>0</td>\n",
       "      <td>0</td>\n",
       "      <td>1</td>\n",
       "      <td>0</td>\n",
       "    </tr>\n",
       "    <tr>\n",
       "      <th>deposit_type</th>\n",
       "      <td>No Deposit</td>\n",
       "      <td>No Deposit</td>\n",
       "      <td>No Deposit</td>\n",
       "      <td>No Deposit</td>\n",
       "      <td>No Deposit</td>\n",
       "      <td>No Deposit</td>\n",
       "      <td>No Deposit</td>\n",
       "      <td>No Deposit</td>\n",
       "      <td>No Deposit</td>\n",
       "      <td>No Deposit</td>\n",
       "      <td>No Deposit</td>\n",
       "      <td>No Deposit</td>\n",
       "      <td>No Deposit</td>\n",
       "      <td>No Deposit</td>\n",
       "      <td>No Deposit</td>\n",
       "    </tr>\n",
       "    <tr>\n",
       "      <th>days_in_waiting_list</th>\n",
       "      <td>0</td>\n",
       "      <td>0</td>\n",
       "      <td>0</td>\n",
       "      <td>0</td>\n",
       "      <td>0</td>\n",
       "      <td>0</td>\n",
       "      <td>0</td>\n",
       "      <td>0</td>\n",
       "      <td>0</td>\n",
       "      <td>0</td>\n",
       "      <td>0</td>\n",
       "      <td>0</td>\n",
       "      <td>0</td>\n",
       "      <td>0</td>\n",
       "      <td>0</td>\n",
       "    </tr>\n",
       "    <tr>\n",
       "      <th>customer_type</th>\n",
       "      <td>Transient</td>\n",
       "      <td>Transient</td>\n",
       "      <td>Transient</td>\n",
       "      <td>Transient</td>\n",
       "      <td>Transient</td>\n",
       "      <td>Transient</td>\n",
       "      <td>Transient</td>\n",
       "      <td>Transient</td>\n",
       "      <td>Transient</td>\n",
       "      <td>Transient</td>\n",
       "      <td>Transient</td>\n",
       "      <td>Transient</td>\n",
       "      <td>Transient</td>\n",
       "      <td>Transient</td>\n",
       "      <td>Transient</td>\n",
       "    </tr>\n",
       "    <tr>\n",
       "      <th>adr</th>\n",
       "      <td>0.0</td>\n",
       "      <td>0.0</td>\n",
       "      <td>75.0</td>\n",
       "      <td>75.0</td>\n",
       "      <td>98.0</td>\n",
       "      <td>98.0</td>\n",
       "      <td>107.0</td>\n",
       "      <td>103.0</td>\n",
       "      <td>82.0</td>\n",
       "      <td>105.5</td>\n",
       "      <td>123.0</td>\n",
       "      <td>145.0</td>\n",
       "      <td>97.0</td>\n",
       "      <td>154.77</td>\n",
       "      <td>94.71</td>\n",
       "    </tr>\n",
       "    <tr>\n",
       "      <th>required_car_parking_spaces</th>\n",
       "      <td>0</td>\n",
       "      <td>0</td>\n",
       "      <td>0</td>\n",
       "      <td>0</td>\n",
       "      <td>0</td>\n",
       "      <td>0</td>\n",
       "      <td>0</td>\n",
       "      <td>0</td>\n",
       "      <td>0</td>\n",
       "      <td>0</td>\n",
       "      <td>0</td>\n",
       "      <td>0</td>\n",
       "      <td>0</td>\n",
       "      <td>0</td>\n",
       "      <td>0</td>\n",
       "    </tr>\n",
       "    <tr>\n",
       "      <th>total_of_special_requests</th>\n",
       "      <td>0</td>\n",
       "      <td>0</td>\n",
       "      <td>0</td>\n",
       "      <td>0</td>\n",
       "      <td>1</td>\n",
       "      <td>1</td>\n",
       "      <td>0</td>\n",
       "      <td>1</td>\n",
       "      <td>1</td>\n",
       "      <td>0</td>\n",
       "      <td>0</td>\n",
       "      <td>0</td>\n",
       "      <td>3</td>\n",
       "      <td>1</td>\n",
       "      <td>0</td>\n",
       "    </tr>\n",
       "    <tr>\n",
       "      <th>reservation_status</th>\n",
       "      <td>Check-Out</td>\n",
       "      <td>Check-Out</td>\n",
       "      <td>Check-Out</td>\n",
       "      <td>Check-Out</td>\n",
       "      <td>Check-Out</td>\n",
       "      <td>Check-Out</td>\n",
       "      <td>Check-Out</td>\n",
       "      <td>Check-Out</td>\n",
       "      <td>Canceled</td>\n",
       "      <td>Canceled</td>\n",
       "      <td>Canceled</td>\n",
       "      <td>Check-Out</td>\n",
       "      <td>Check-Out</td>\n",
       "      <td>Check-Out</td>\n",
       "      <td>Check-Out</td>\n",
       "    </tr>\n",
       "    <tr>\n",
       "      <th>reservation_status_date</th>\n",
       "      <td>2015-07-01</td>\n",
       "      <td>2015-07-01</td>\n",
       "      <td>2015-07-02</td>\n",
       "      <td>2015-07-02</td>\n",
       "      <td>2015-07-03</td>\n",
       "      <td>2015-07-03</td>\n",
       "      <td>2015-07-03</td>\n",
       "      <td>2015-07-03</td>\n",
       "      <td>2015-05-06</td>\n",
       "      <td>2015-04-22</td>\n",
       "      <td>2015-06-23</td>\n",
       "      <td>2015-07-05</td>\n",
       "      <td>2015-07-05</td>\n",
       "      <td>2015-07-05</td>\n",
       "      <td>2015-07-05</td>\n",
       "    </tr>\n",
       "    <tr>\n",
       "      <th>total_guests</th>\n",
       "      <td>2</td>\n",
       "      <td>2</td>\n",
       "      <td>1</td>\n",
       "      <td>1</td>\n",
       "      <td>2</td>\n",
       "      <td>2</td>\n",
       "      <td>2</td>\n",
       "      <td>2</td>\n",
       "      <td>2</td>\n",
       "      <td>2</td>\n",
       "      <td>2</td>\n",
       "      <td>2</td>\n",
       "      <td>2</td>\n",
       "      <td>3</td>\n",
       "      <td>2</td>\n",
       "    </tr>\n",
       "    <tr>\n",
       "      <th>total_stay_in_nights</th>\n",
       "      <td>0</td>\n",
       "      <td>0</td>\n",
       "      <td>1</td>\n",
       "      <td>1</td>\n",
       "      <td>2</td>\n",
       "      <td>2</td>\n",
       "      <td>2</td>\n",
       "      <td>2</td>\n",
       "      <td>3</td>\n",
       "      <td>3</td>\n",
       "      <td>4</td>\n",
       "      <td>4</td>\n",
       "      <td>4</td>\n",
       "      <td>4</td>\n",
       "      <td>4</td>\n",
       "    </tr>\n",
       "    <tr>\n",
       "      <th>has_minors</th>\n",
       "      <td>0</td>\n",
       "      <td>0</td>\n",
       "      <td>0</td>\n",
       "      <td>0</td>\n",
       "      <td>0</td>\n",
       "      <td>0</td>\n",
       "      <td>0</td>\n",
       "      <td>0</td>\n",
       "      <td>0</td>\n",
       "      <td>0</td>\n",
       "      <td>0</td>\n",
       "      <td>0</td>\n",
       "      <td>0</td>\n",
       "      <td>1</td>\n",
       "      <td>0</td>\n",
       "    </tr>\n",
       "  </tbody>\n",
       "</table>\n",
       "</div>"
      ],
      "text/plain": [
       "                                          0             1             2   \\\n",
       "hotel                           Resort Hotel  Resort Hotel  Resort Hotel   \n",
       "is_canceled                                0             0             0   \n",
       "lead_time                                342           737             7   \n",
       "arrival_date_year                       2015          2015          2015   \n",
       "arrival_date_month                      July          July          July   \n",
       "arrival_date_week_number                  27            27            27   \n",
       "arrival_date_day_of_month                  1             1             1   \n",
       "stays_in_weekend_nights                    0             0             0   \n",
       "stays_in_week_nights                       0             0             1   \n",
       "adults                                     2             2             1   \n",
       "children                                   0             0             0   \n",
       "babies                                     0             0             0   \n",
       "meal                                      BB            BB            BB   \n",
       "country                                  PRT           PRT           GBR   \n",
       "market_segment                        Direct        Direct        Direct   \n",
       "distribution_channel                  Direct        Direct        Direct   \n",
       "is_repeated_guest                          0             0             0   \n",
       "previous_cancellations                     0             0             0   \n",
       "previous_bookings_not_canceled             0             0             0   \n",
       "reserved_room_type                         C             C             A   \n",
       "assigned_room_type                         C             C             C   \n",
       "booking_changes                            3             4             0   \n",
       "deposit_type                      No Deposit    No Deposit    No Deposit   \n",
       "days_in_waiting_list                       0             0             0   \n",
       "customer_type                      Transient     Transient     Transient   \n",
       "adr                                      0.0           0.0          75.0   \n",
       "required_car_parking_spaces                0             0             0   \n",
       "total_of_special_requests                  0             0             0   \n",
       "reservation_status                 Check-Out     Check-Out     Check-Out   \n",
       "reservation_status_date           2015-07-01    2015-07-01    2015-07-02   \n",
       "total_guests                               2             2             1   \n",
       "total_stay_in_nights                       0             0             1   \n",
       "has_minors                                 0             0             0   \n",
       "\n",
       "                                          3             4             5   \\\n",
       "hotel                           Resort Hotel  Resort Hotel  Resort Hotel   \n",
       "is_canceled                                0             0             0   \n",
       "lead_time                                 13            14            14   \n",
       "arrival_date_year                       2015          2015          2015   \n",
       "arrival_date_month                      July          July          July   \n",
       "arrival_date_week_number                  27            27            27   \n",
       "arrival_date_day_of_month                  1             1             1   \n",
       "stays_in_weekend_nights                    0             0             0   \n",
       "stays_in_week_nights                       1             2             2   \n",
       "adults                                     1             2             2   \n",
       "children                                   0             0             0   \n",
       "babies                                     0             0             0   \n",
       "meal                                      BB            BB            BB   \n",
       "country                                  GBR           GBR           GBR   \n",
       "market_segment                     Corporate     Online TA     Online TA   \n",
       "distribution_channel               Corporate         TA/TO         TA/TO   \n",
       "is_repeated_guest                          0             0             0   \n",
       "previous_cancellations                     0             0             0   \n",
       "previous_bookings_not_canceled             0             0             0   \n",
       "reserved_room_type                         A             A             A   \n",
       "assigned_room_type                         A             A             A   \n",
       "booking_changes                            0             0             0   \n",
       "deposit_type                      No Deposit    No Deposit    No Deposit   \n",
       "days_in_waiting_list                       0             0             0   \n",
       "customer_type                      Transient     Transient     Transient   \n",
       "adr                                     75.0          98.0          98.0   \n",
       "required_car_parking_spaces                0             0             0   \n",
       "total_of_special_requests                  0             1             1   \n",
       "reservation_status                 Check-Out     Check-Out     Check-Out   \n",
       "reservation_status_date           2015-07-02    2015-07-03    2015-07-03   \n",
       "total_guests                               1             2             2   \n",
       "total_stay_in_nights                       1             2             2   \n",
       "has_minors                                 0             0             0   \n",
       "\n",
       "                                          6             7             8   \\\n",
       "hotel                           Resort Hotel  Resort Hotel  Resort Hotel   \n",
       "is_canceled                                0             0             1   \n",
       "lead_time                                  0             9            85   \n",
       "arrival_date_year                       2015          2015          2015   \n",
       "arrival_date_month                      July          July          July   \n",
       "arrival_date_week_number                  27            27            27   \n",
       "arrival_date_day_of_month                  1             1             1   \n",
       "stays_in_weekend_nights                    0             0             0   \n",
       "stays_in_week_nights                       2             2             3   \n",
       "adults                                     2             2             2   \n",
       "children                                   0             0             0   \n",
       "babies                                     0             0             0   \n",
       "meal                                      BB            FB            BB   \n",
       "country                                  PRT           PRT           PRT   \n",
       "market_segment                        Direct        Direct     Online TA   \n",
       "distribution_channel                  Direct        Direct         TA/TO   \n",
       "is_repeated_guest                          0             0             0   \n",
       "previous_cancellations                     0             0             0   \n",
       "previous_bookings_not_canceled             0             0             0   \n",
       "reserved_room_type                         C             C             A   \n",
       "assigned_room_type                         C             C             A   \n",
       "booking_changes                            0             0             0   \n",
       "deposit_type                      No Deposit    No Deposit    No Deposit   \n",
       "days_in_waiting_list                       0             0             0   \n",
       "customer_type                      Transient     Transient     Transient   \n",
       "adr                                    107.0         103.0          82.0   \n",
       "required_car_parking_spaces                0             0             0   \n",
       "total_of_special_requests                  0             1             1   \n",
       "reservation_status                 Check-Out     Check-Out      Canceled   \n",
       "reservation_status_date           2015-07-03    2015-07-03    2015-05-06   \n",
       "total_guests                               2             2             2   \n",
       "total_stay_in_nights                       2             2             3   \n",
       "has_minors                                 0             0             0   \n",
       "\n",
       "                                           9             10            11  \\\n",
       "hotel                            Resort Hotel  Resort Hotel  Resort Hotel   \n",
       "is_canceled                                 1             1             0   \n",
       "lead_time                                  75            23            35   \n",
       "arrival_date_year                        2015          2015          2015   \n",
       "arrival_date_month                       July          July          July   \n",
       "arrival_date_week_number                   27            27            27   \n",
       "arrival_date_day_of_month                   1             1             1   \n",
       "stays_in_weekend_nights                     0             0             0   \n",
       "stays_in_week_nights                        3             4             4   \n",
       "adults                                      2             2             2   \n",
       "children                                    0             0             0   \n",
       "babies                                      0             0             0   \n",
       "meal                                       HB            BB            HB   \n",
       "country                                   PRT           PRT           PRT   \n",
       "market_segment                  Offline TA/TO     Online TA     Online TA   \n",
       "distribution_channel                    TA/TO         TA/TO         TA/TO   \n",
       "is_repeated_guest                           0             0             0   \n",
       "previous_cancellations                      0             0             0   \n",
       "previous_bookings_not_canceled              0             0             0   \n",
       "reserved_room_type                          D             E             D   \n",
       "assigned_room_type                          D             E             D   \n",
       "booking_changes                             0             0             0   \n",
       "deposit_type                       No Deposit    No Deposit    No Deposit   \n",
       "days_in_waiting_list                        0             0             0   \n",
       "customer_type                       Transient     Transient     Transient   \n",
       "adr                                     105.5         123.0         145.0   \n",
       "required_car_parking_spaces                 0             0             0   \n",
       "total_of_special_requests                   0             0             0   \n",
       "reservation_status                   Canceled      Canceled     Check-Out   \n",
       "reservation_status_date            2015-04-22    2015-06-23    2015-07-05   \n",
       "total_guests                                2             2             2   \n",
       "total_stay_in_nights                        3             4             4   \n",
       "has_minors                                  0             0             0   \n",
       "\n",
       "                                          12            13            14  \n",
       "hotel                           Resort Hotel  Resort Hotel  Resort Hotel  \n",
       "is_canceled                                0             0             0  \n",
       "lead_time                                 68            18            37  \n",
       "arrival_date_year                       2015          2015          2015  \n",
       "arrival_date_month                      July          July          July  \n",
       "arrival_date_week_number                  27            27            27  \n",
       "arrival_date_day_of_month                  1             1             1  \n",
       "stays_in_weekend_nights                    0             0             0  \n",
       "stays_in_week_nights                       4             4             4  \n",
       "adults                                     2             2             2  \n",
       "children                                   0             1             0  \n",
       "babies                                     0             0             0  \n",
       "meal                                      BB            HB            BB  \n",
       "country                                  USA           ESP           PRT  \n",
       "market_segment                     Online TA     Online TA     Online TA  \n",
       "distribution_channel                   TA/TO         TA/TO         TA/TO  \n",
       "is_repeated_guest                          0             0             0  \n",
       "previous_cancellations                     0             0             0  \n",
       "previous_bookings_not_canceled             0             0             0  \n",
       "reserved_room_type                         D             G             E  \n",
       "assigned_room_type                         E             G             E  \n",
       "booking_changes                            0             1             0  \n",
       "deposit_type                      No Deposit    No Deposit    No Deposit  \n",
       "days_in_waiting_list                       0             0             0  \n",
       "customer_type                      Transient     Transient     Transient  \n",
       "adr                                     97.0        154.77         94.71  \n",
       "required_car_parking_spaces                0             0             0  \n",
       "total_of_special_requests                  3             1             0  \n",
       "reservation_status                 Check-Out     Check-Out     Check-Out  \n",
       "reservation_status_date           2015-07-05    2015-07-05    2015-07-05  \n",
       "total_guests                               2             3             2  \n",
       "total_stay_in_nights                       4             4             4  \n",
       "has_minors                                 0             1             0  "
      ]
     },
     "execution_count": 15,
     "metadata": {},
     "output_type": "execute_result"
    }
   ],
   "source": [
    "def hasMinors(minors):\n",
    "    val = 0\n",
    "    if (minors > 0):\n",
    "        val = 1\n",
    "    return val\n",
    "\n",
    "prelim_df[\"total_minors\"] = prelim_df[\"total_minors\"].apply(hasMinors)\n",
    "prelim_df = prelim_df.rename(columns={\"total_minors\": \"has_minors\"})\n",
    "prelim_df.head(15).T"
   ]
  },
  {
   "cell_type": "markdown",
   "metadata": {
    "id": "I8RigzrKqr6F"
   },
   "source": [
    "# Feature binario que compare el tipo de cuarto asignado con el tipo de cuarto reservado e indique si este cambió (room_type_changed)"
   ]
  },
  {
   "cell_type": "code",
   "execution_count": 16,
   "metadata": {
    "colab": {
     "base_uri": "https://localhost:8080/"
    },
    "executionInfo": {
     "elapsed": 15,
     "status": "ok",
     "timestamp": 1632169020112,
     "user": {
      "displayName": "Viridiana Valencia",
      "photoUrl": "https://lh3.googleusercontent.com/a/default-user=s64",
      "userId": "05838258711225855733"
     },
     "user_tz": 420
    },
    "id": "LpZ_CDx8qr6F",
    "outputId": "623a4fd6-22bb-46f6-eee0-48d2011c85c8"
   },
   "outputs": [
    {
     "data": {
      "text/plain": [
       "0    104282\n",
       "1     14885\n",
       "Name: room_type_changed, dtype: int64"
      ]
     },
     "execution_count": 16,
     "metadata": {},
     "output_type": "execute_result"
    }
   ],
   "source": [
    "# Asumo que para todos los registros assigned_room_type y reserved_room_type son iguales, asignandole cero inicialmente\n",
    "prelim_df[\"room_type_changed\"] = 0 \n",
    "room_filt = (prelim_df[\"assigned_room_type\"] != prelim_df[\"reserved_room_type\"])\n",
    "prelim_df.loc[room_filt, \"room_type_changed\"] = 1\n",
    "prelim_df[\"room_type_changed\"].value_counts()"
   ]
  },
  {
   "cell_type": "markdown",
   "metadata": {
    "id": "Z6lzUscG8-Rj"
   },
   "source": [
    "## Feature binario que indique si el cliente ha tenido más cancelaciones que estadías (cancelations_ratio)"
   ]
  },
  {
   "cell_type": "code",
   "execution_count": 17,
   "metadata": {
    "id": "8v9HG3Py8tSg"
   },
   "outputs": [],
   "source": [
    "prelim_df['cancelations_ratio'] = 0\n",
    "prelim_df.loc[ prelim_df['previous_cancellations'] > prelim_df['previous_bookings_not_canceled'] , 'cancelations_ratio'] = 1"
   ]
  },
  {
   "cell_type": "code",
   "execution_count": 18,
   "metadata": {
    "colab": {
     "base_uri": "https://localhost:8080/"
    },
    "executionInfo": {
     "elapsed": 13,
     "status": "ok",
     "timestamp": 1632169020112,
     "user": {
      "displayName": "Viridiana Valencia",
      "photoUrl": "https://lh3.googleusercontent.com/a/default-user=s64",
      "userId": "05838258711225855733"
     },
     "user_tz": 420
    },
    "id": "w4SFyxoVqr6G",
    "outputId": "04cbb086-3679-46e8-9543-2f454f678baa"
   },
   "outputs": [
    {
     "data": {
      "text/html": [
       "<div>\n",
       "<style scoped>\n",
       "    .dataframe tbody tr th:only-of-type {\n",
       "        vertical-align: middle;\n",
       "    }\n",
       "\n",
       "    .dataframe tbody tr th {\n",
       "        vertical-align: top;\n",
       "    }\n",
       "\n",
       "    .dataframe thead th {\n",
       "        text-align: right;\n",
       "    }\n",
       "</style>\n",
       "<table border=\"1\" class=\"dataframe\">\n",
       "  <thead>\n",
       "    <tr style=\"text-align: right;\">\n",
       "      <th></th>\n",
       "      <th>0</th>\n",
       "      <th>1</th>\n",
       "      <th>2</th>\n",
       "      <th>3</th>\n",
       "      <th>4</th>\n",
       "      <th>5</th>\n",
       "      <th>6</th>\n",
       "      <th>7</th>\n",
       "      <th>8</th>\n",
       "      <th>9</th>\n",
       "    </tr>\n",
       "  </thead>\n",
       "  <tbody>\n",
       "    <tr>\n",
       "      <th>hotel</th>\n",
       "      <td>Resort Hotel</td>\n",
       "      <td>Resort Hotel</td>\n",
       "      <td>Resort Hotel</td>\n",
       "      <td>Resort Hotel</td>\n",
       "      <td>Resort Hotel</td>\n",
       "      <td>Resort Hotel</td>\n",
       "      <td>Resort Hotel</td>\n",
       "      <td>Resort Hotel</td>\n",
       "      <td>Resort Hotel</td>\n",
       "      <td>Resort Hotel</td>\n",
       "    </tr>\n",
       "    <tr>\n",
       "      <th>is_canceled</th>\n",
       "      <td>0</td>\n",
       "      <td>0</td>\n",
       "      <td>0</td>\n",
       "      <td>0</td>\n",
       "      <td>0</td>\n",
       "      <td>0</td>\n",
       "      <td>0</td>\n",
       "      <td>0</td>\n",
       "      <td>1</td>\n",
       "      <td>1</td>\n",
       "    </tr>\n",
       "    <tr>\n",
       "      <th>lead_time</th>\n",
       "      <td>342</td>\n",
       "      <td>737</td>\n",
       "      <td>7</td>\n",
       "      <td>13</td>\n",
       "      <td>14</td>\n",
       "      <td>14</td>\n",
       "      <td>0</td>\n",
       "      <td>9</td>\n",
       "      <td>85</td>\n",
       "      <td>75</td>\n",
       "    </tr>\n",
       "    <tr>\n",
       "      <th>arrival_date_year</th>\n",
       "      <td>2015</td>\n",
       "      <td>2015</td>\n",
       "      <td>2015</td>\n",
       "      <td>2015</td>\n",
       "      <td>2015</td>\n",
       "      <td>2015</td>\n",
       "      <td>2015</td>\n",
       "      <td>2015</td>\n",
       "      <td>2015</td>\n",
       "      <td>2015</td>\n",
       "    </tr>\n",
       "    <tr>\n",
       "      <th>arrival_date_month</th>\n",
       "      <td>July</td>\n",
       "      <td>July</td>\n",
       "      <td>July</td>\n",
       "      <td>July</td>\n",
       "      <td>July</td>\n",
       "      <td>July</td>\n",
       "      <td>July</td>\n",
       "      <td>July</td>\n",
       "      <td>July</td>\n",
       "      <td>July</td>\n",
       "    </tr>\n",
       "    <tr>\n",
       "      <th>arrival_date_week_number</th>\n",
       "      <td>27</td>\n",
       "      <td>27</td>\n",
       "      <td>27</td>\n",
       "      <td>27</td>\n",
       "      <td>27</td>\n",
       "      <td>27</td>\n",
       "      <td>27</td>\n",
       "      <td>27</td>\n",
       "      <td>27</td>\n",
       "      <td>27</td>\n",
       "    </tr>\n",
       "    <tr>\n",
       "      <th>arrival_date_day_of_month</th>\n",
       "      <td>1</td>\n",
       "      <td>1</td>\n",
       "      <td>1</td>\n",
       "      <td>1</td>\n",
       "      <td>1</td>\n",
       "      <td>1</td>\n",
       "      <td>1</td>\n",
       "      <td>1</td>\n",
       "      <td>1</td>\n",
       "      <td>1</td>\n",
       "    </tr>\n",
       "    <tr>\n",
       "      <th>stays_in_weekend_nights</th>\n",
       "      <td>0</td>\n",
       "      <td>0</td>\n",
       "      <td>0</td>\n",
       "      <td>0</td>\n",
       "      <td>0</td>\n",
       "      <td>0</td>\n",
       "      <td>0</td>\n",
       "      <td>0</td>\n",
       "      <td>0</td>\n",
       "      <td>0</td>\n",
       "    </tr>\n",
       "    <tr>\n",
       "      <th>stays_in_week_nights</th>\n",
       "      <td>0</td>\n",
       "      <td>0</td>\n",
       "      <td>1</td>\n",
       "      <td>1</td>\n",
       "      <td>2</td>\n",
       "      <td>2</td>\n",
       "      <td>2</td>\n",
       "      <td>2</td>\n",
       "      <td>3</td>\n",
       "      <td>3</td>\n",
       "    </tr>\n",
       "    <tr>\n",
       "      <th>adults</th>\n",
       "      <td>2</td>\n",
       "      <td>2</td>\n",
       "      <td>1</td>\n",
       "      <td>1</td>\n",
       "      <td>2</td>\n",
       "      <td>2</td>\n",
       "      <td>2</td>\n",
       "      <td>2</td>\n",
       "      <td>2</td>\n",
       "      <td>2</td>\n",
       "    </tr>\n",
       "    <tr>\n",
       "      <th>children</th>\n",
       "      <td>0</td>\n",
       "      <td>0</td>\n",
       "      <td>0</td>\n",
       "      <td>0</td>\n",
       "      <td>0</td>\n",
       "      <td>0</td>\n",
       "      <td>0</td>\n",
       "      <td>0</td>\n",
       "      <td>0</td>\n",
       "      <td>0</td>\n",
       "    </tr>\n",
       "    <tr>\n",
       "      <th>babies</th>\n",
       "      <td>0</td>\n",
       "      <td>0</td>\n",
       "      <td>0</td>\n",
       "      <td>0</td>\n",
       "      <td>0</td>\n",
       "      <td>0</td>\n",
       "      <td>0</td>\n",
       "      <td>0</td>\n",
       "      <td>0</td>\n",
       "      <td>0</td>\n",
       "    </tr>\n",
       "    <tr>\n",
       "      <th>meal</th>\n",
       "      <td>BB</td>\n",
       "      <td>BB</td>\n",
       "      <td>BB</td>\n",
       "      <td>BB</td>\n",
       "      <td>BB</td>\n",
       "      <td>BB</td>\n",
       "      <td>BB</td>\n",
       "      <td>FB</td>\n",
       "      <td>BB</td>\n",
       "      <td>HB</td>\n",
       "    </tr>\n",
       "    <tr>\n",
       "      <th>country</th>\n",
       "      <td>PRT</td>\n",
       "      <td>PRT</td>\n",
       "      <td>GBR</td>\n",
       "      <td>GBR</td>\n",
       "      <td>GBR</td>\n",
       "      <td>GBR</td>\n",
       "      <td>PRT</td>\n",
       "      <td>PRT</td>\n",
       "      <td>PRT</td>\n",
       "      <td>PRT</td>\n",
       "    </tr>\n",
       "    <tr>\n",
       "      <th>market_segment</th>\n",
       "      <td>Direct</td>\n",
       "      <td>Direct</td>\n",
       "      <td>Direct</td>\n",
       "      <td>Corporate</td>\n",
       "      <td>Online TA</td>\n",
       "      <td>Online TA</td>\n",
       "      <td>Direct</td>\n",
       "      <td>Direct</td>\n",
       "      <td>Online TA</td>\n",
       "      <td>Offline TA/TO</td>\n",
       "    </tr>\n",
       "    <tr>\n",
       "      <th>distribution_channel</th>\n",
       "      <td>Direct</td>\n",
       "      <td>Direct</td>\n",
       "      <td>Direct</td>\n",
       "      <td>Corporate</td>\n",
       "      <td>TA/TO</td>\n",
       "      <td>TA/TO</td>\n",
       "      <td>Direct</td>\n",
       "      <td>Direct</td>\n",
       "      <td>TA/TO</td>\n",
       "      <td>TA/TO</td>\n",
       "    </tr>\n",
       "    <tr>\n",
       "      <th>is_repeated_guest</th>\n",
       "      <td>0</td>\n",
       "      <td>0</td>\n",
       "      <td>0</td>\n",
       "      <td>0</td>\n",
       "      <td>0</td>\n",
       "      <td>0</td>\n",
       "      <td>0</td>\n",
       "      <td>0</td>\n",
       "      <td>0</td>\n",
       "      <td>0</td>\n",
       "    </tr>\n",
       "    <tr>\n",
       "      <th>previous_cancellations</th>\n",
       "      <td>0</td>\n",
       "      <td>0</td>\n",
       "      <td>0</td>\n",
       "      <td>0</td>\n",
       "      <td>0</td>\n",
       "      <td>0</td>\n",
       "      <td>0</td>\n",
       "      <td>0</td>\n",
       "      <td>0</td>\n",
       "      <td>0</td>\n",
       "    </tr>\n",
       "    <tr>\n",
       "      <th>previous_bookings_not_canceled</th>\n",
       "      <td>0</td>\n",
       "      <td>0</td>\n",
       "      <td>0</td>\n",
       "      <td>0</td>\n",
       "      <td>0</td>\n",
       "      <td>0</td>\n",
       "      <td>0</td>\n",
       "      <td>0</td>\n",
       "      <td>0</td>\n",
       "      <td>0</td>\n",
       "    </tr>\n",
       "    <tr>\n",
       "      <th>reserved_room_type</th>\n",
       "      <td>C</td>\n",
       "      <td>C</td>\n",
       "      <td>A</td>\n",
       "      <td>A</td>\n",
       "      <td>A</td>\n",
       "      <td>A</td>\n",
       "      <td>C</td>\n",
       "      <td>C</td>\n",
       "      <td>A</td>\n",
       "      <td>D</td>\n",
       "    </tr>\n",
       "    <tr>\n",
       "      <th>assigned_room_type</th>\n",
       "      <td>C</td>\n",
       "      <td>C</td>\n",
       "      <td>C</td>\n",
       "      <td>A</td>\n",
       "      <td>A</td>\n",
       "      <td>A</td>\n",
       "      <td>C</td>\n",
       "      <td>C</td>\n",
       "      <td>A</td>\n",
       "      <td>D</td>\n",
       "    </tr>\n",
       "    <tr>\n",
       "      <th>booking_changes</th>\n",
       "      <td>3</td>\n",
       "      <td>4</td>\n",
       "      <td>0</td>\n",
       "      <td>0</td>\n",
       "      <td>0</td>\n",
       "      <td>0</td>\n",
       "      <td>0</td>\n",
       "      <td>0</td>\n",
       "      <td>0</td>\n",
       "      <td>0</td>\n",
       "    </tr>\n",
       "    <tr>\n",
       "      <th>deposit_type</th>\n",
       "      <td>No Deposit</td>\n",
       "      <td>No Deposit</td>\n",
       "      <td>No Deposit</td>\n",
       "      <td>No Deposit</td>\n",
       "      <td>No Deposit</td>\n",
       "      <td>No Deposit</td>\n",
       "      <td>No Deposit</td>\n",
       "      <td>No Deposit</td>\n",
       "      <td>No Deposit</td>\n",
       "      <td>No Deposit</td>\n",
       "    </tr>\n",
       "    <tr>\n",
       "      <th>days_in_waiting_list</th>\n",
       "      <td>0</td>\n",
       "      <td>0</td>\n",
       "      <td>0</td>\n",
       "      <td>0</td>\n",
       "      <td>0</td>\n",
       "      <td>0</td>\n",
       "      <td>0</td>\n",
       "      <td>0</td>\n",
       "      <td>0</td>\n",
       "      <td>0</td>\n",
       "    </tr>\n",
       "    <tr>\n",
       "      <th>customer_type</th>\n",
       "      <td>Transient</td>\n",
       "      <td>Transient</td>\n",
       "      <td>Transient</td>\n",
       "      <td>Transient</td>\n",
       "      <td>Transient</td>\n",
       "      <td>Transient</td>\n",
       "      <td>Transient</td>\n",
       "      <td>Transient</td>\n",
       "      <td>Transient</td>\n",
       "      <td>Transient</td>\n",
       "    </tr>\n",
       "    <tr>\n",
       "      <th>adr</th>\n",
       "      <td>0.0</td>\n",
       "      <td>0.0</td>\n",
       "      <td>75.0</td>\n",
       "      <td>75.0</td>\n",
       "      <td>98.0</td>\n",
       "      <td>98.0</td>\n",
       "      <td>107.0</td>\n",
       "      <td>103.0</td>\n",
       "      <td>82.0</td>\n",
       "      <td>105.5</td>\n",
       "    </tr>\n",
       "    <tr>\n",
       "      <th>required_car_parking_spaces</th>\n",
       "      <td>0</td>\n",
       "      <td>0</td>\n",
       "      <td>0</td>\n",
       "      <td>0</td>\n",
       "      <td>0</td>\n",
       "      <td>0</td>\n",
       "      <td>0</td>\n",
       "      <td>0</td>\n",
       "      <td>0</td>\n",
       "      <td>0</td>\n",
       "    </tr>\n",
       "    <tr>\n",
       "      <th>total_of_special_requests</th>\n",
       "      <td>0</td>\n",
       "      <td>0</td>\n",
       "      <td>0</td>\n",
       "      <td>0</td>\n",
       "      <td>1</td>\n",
       "      <td>1</td>\n",
       "      <td>0</td>\n",
       "      <td>1</td>\n",
       "      <td>1</td>\n",
       "      <td>0</td>\n",
       "    </tr>\n",
       "    <tr>\n",
       "      <th>reservation_status</th>\n",
       "      <td>Check-Out</td>\n",
       "      <td>Check-Out</td>\n",
       "      <td>Check-Out</td>\n",
       "      <td>Check-Out</td>\n",
       "      <td>Check-Out</td>\n",
       "      <td>Check-Out</td>\n",
       "      <td>Check-Out</td>\n",
       "      <td>Check-Out</td>\n",
       "      <td>Canceled</td>\n",
       "      <td>Canceled</td>\n",
       "    </tr>\n",
       "    <tr>\n",
       "      <th>reservation_status_date</th>\n",
       "      <td>2015-07-01</td>\n",
       "      <td>2015-07-01</td>\n",
       "      <td>2015-07-02</td>\n",
       "      <td>2015-07-02</td>\n",
       "      <td>2015-07-03</td>\n",
       "      <td>2015-07-03</td>\n",
       "      <td>2015-07-03</td>\n",
       "      <td>2015-07-03</td>\n",
       "      <td>2015-05-06</td>\n",
       "      <td>2015-04-22</td>\n",
       "    </tr>\n",
       "    <tr>\n",
       "      <th>total_guests</th>\n",
       "      <td>2</td>\n",
       "      <td>2</td>\n",
       "      <td>1</td>\n",
       "      <td>1</td>\n",
       "      <td>2</td>\n",
       "      <td>2</td>\n",
       "      <td>2</td>\n",
       "      <td>2</td>\n",
       "      <td>2</td>\n",
       "      <td>2</td>\n",
       "    </tr>\n",
       "    <tr>\n",
       "      <th>total_stay_in_nights</th>\n",
       "      <td>0</td>\n",
       "      <td>0</td>\n",
       "      <td>1</td>\n",
       "      <td>1</td>\n",
       "      <td>2</td>\n",
       "      <td>2</td>\n",
       "      <td>2</td>\n",
       "      <td>2</td>\n",
       "      <td>3</td>\n",
       "      <td>3</td>\n",
       "    </tr>\n",
       "    <tr>\n",
       "      <th>has_minors</th>\n",
       "      <td>0</td>\n",
       "      <td>0</td>\n",
       "      <td>0</td>\n",
       "      <td>0</td>\n",
       "      <td>0</td>\n",
       "      <td>0</td>\n",
       "      <td>0</td>\n",
       "      <td>0</td>\n",
       "      <td>0</td>\n",
       "      <td>0</td>\n",
       "    </tr>\n",
       "    <tr>\n",
       "      <th>room_type_changed</th>\n",
       "      <td>0</td>\n",
       "      <td>0</td>\n",
       "      <td>1</td>\n",
       "      <td>0</td>\n",
       "      <td>0</td>\n",
       "      <td>0</td>\n",
       "      <td>0</td>\n",
       "      <td>0</td>\n",
       "      <td>0</td>\n",
       "      <td>0</td>\n",
       "    </tr>\n",
       "    <tr>\n",
       "      <th>cancelations_ratio</th>\n",
       "      <td>0</td>\n",
       "      <td>0</td>\n",
       "      <td>0</td>\n",
       "      <td>0</td>\n",
       "      <td>0</td>\n",
       "      <td>0</td>\n",
       "      <td>0</td>\n",
       "      <td>0</td>\n",
       "      <td>0</td>\n",
       "      <td>0</td>\n",
       "    </tr>\n",
       "  </tbody>\n",
       "</table>\n",
       "</div>"
      ],
      "text/plain": [
       "                                           0             1             2  \\\n",
       "hotel                           Resort Hotel  Resort Hotel  Resort Hotel   \n",
       "is_canceled                                0             0             0   \n",
       "lead_time                                342           737             7   \n",
       "arrival_date_year                       2015          2015          2015   \n",
       "arrival_date_month                      July          July          July   \n",
       "arrival_date_week_number                  27            27            27   \n",
       "arrival_date_day_of_month                  1             1             1   \n",
       "stays_in_weekend_nights                    0             0             0   \n",
       "stays_in_week_nights                       0             0             1   \n",
       "adults                                     2             2             1   \n",
       "children                                   0             0             0   \n",
       "babies                                     0             0             0   \n",
       "meal                                      BB            BB            BB   \n",
       "country                                  PRT           PRT           GBR   \n",
       "market_segment                        Direct        Direct        Direct   \n",
       "distribution_channel                  Direct        Direct        Direct   \n",
       "is_repeated_guest                          0             0             0   \n",
       "previous_cancellations                     0             0             0   \n",
       "previous_bookings_not_canceled             0             0             0   \n",
       "reserved_room_type                         C             C             A   \n",
       "assigned_room_type                         C             C             C   \n",
       "booking_changes                            3             4             0   \n",
       "deposit_type                      No Deposit    No Deposit    No Deposit   \n",
       "days_in_waiting_list                       0             0             0   \n",
       "customer_type                      Transient     Transient     Transient   \n",
       "adr                                      0.0           0.0          75.0   \n",
       "required_car_parking_spaces                0             0             0   \n",
       "total_of_special_requests                  0             0             0   \n",
       "reservation_status                 Check-Out     Check-Out     Check-Out   \n",
       "reservation_status_date           2015-07-01    2015-07-01    2015-07-02   \n",
       "total_guests                               2             2             1   \n",
       "total_stay_in_nights                       0             0             1   \n",
       "has_minors                                 0             0             0   \n",
       "room_type_changed                          0             0             1   \n",
       "cancelations_ratio                         0             0             0   \n",
       "\n",
       "                                           3             4             5  \\\n",
       "hotel                           Resort Hotel  Resort Hotel  Resort Hotel   \n",
       "is_canceled                                0             0             0   \n",
       "lead_time                                 13            14            14   \n",
       "arrival_date_year                       2015          2015          2015   \n",
       "arrival_date_month                      July          July          July   \n",
       "arrival_date_week_number                  27            27            27   \n",
       "arrival_date_day_of_month                  1             1             1   \n",
       "stays_in_weekend_nights                    0             0             0   \n",
       "stays_in_week_nights                       1             2             2   \n",
       "adults                                     1             2             2   \n",
       "children                                   0             0             0   \n",
       "babies                                     0             0             0   \n",
       "meal                                      BB            BB            BB   \n",
       "country                                  GBR           GBR           GBR   \n",
       "market_segment                     Corporate     Online TA     Online TA   \n",
       "distribution_channel               Corporate         TA/TO         TA/TO   \n",
       "is_repeated_guest                          0             0             0   \n",
       "previous_cancellations                     0             0             0   \n",
       "previous_bookings_not_canceled             0             0             0   \n",
       "reserved_room_type                         A             A             A   \n",
       "assigned_room_type                         A             A             A   \n",
       "booking_changes                            0             0             0   \n",
       "deposit_type                      No Deposit    No Deposit    No Deposit   \n",
       "days_in_waiting_list                       0             0             0   \n",
       "customer_type                      Transient     Transient     Transient   \n",
       "adr                                     75.0          98.0          98.0   \n",
       "required_car_parking_spaces                0             0             0   \n",
       "total_of_special_requests                  0             1             1   \n",
       "reservation_status                 Check-Out     Check-Out     Check-Out   \n",
       "reservation_status_date           2015-07-02    2015-07-03    2015-07-03   \n",
       "total_guests                               1             2             2   \n",
       "total_stay_in_nights                       1             2             2   \n",
       "has_minors                                 0             0             0   \n",
       "room_type_changed                          0             0             0   \n",
       "cancelations_ratio                         0             0             0   \n",
       "\n",
       "                                           6             7             8  \\\n",
       "hotel                           Resort Hotel  Resort Hotel  Resort Hotel   \n",
       "is_canceled                                0             0             1   \n",
       "lead_time                                  0             9            85   \n",
       "arrival_date_year                       2015          2015          2015   \n",
       "arrival_date_month                      July          July          July   \n",
       "arrival_date_week_number                  27            27            27   \n",
       "arrival_date_day_of_month                  1             1             1   \n",
       "stays_in_weekend_nights                    0             0             0   \n",
       "stays_in_week_nights                       2             2             3   \n",
       "adults                                     2             2             2   \n",
       "children                                   0             0             0   \n",
       "babies                                     0             0             0   \n",
       "meal                                      BB            FB            BB   \n",
       "country                                  PRT           PRT           PRT   \n",
       "market_segment                        Direct        Direct     Online TA   \n",
       "distribution_channel                  Direct        Direct         TA/TO   \n",
       "is_repeated_guest                          0             0             0   \n",
       "previous_cancellations                     0             0             0   \n",
       "previous_bookings_not_canceled             0             0             0   \n",
       "reserved_room_type                         C             C             A   \n",
       "assigned_room_type                         C             C             A   \n",
       "booking_changes                            0             0             0   \n",
       "deposit_type                      No Deposit    No Deposit    No Deposit   \n",
       "days_in_waiting_list                       0             0             0   \n",
       "customer_type                      Transient     Transient     Transient   \n",
       "adr                                    107.0         103.0          82.0   \n",
       "required_car_parking_spaces                0             0             0   \n",
       "total_of_special_requests                  0             1             1   \n",
       "reservation_status                 Check-Out     Check-Out      Canceled   \n",
       "reservation_status_date           2015-07-03    2015-07-03    2015-05-06   \n",
       "total_guests                               2             2             2   \n",
       "total_stay_in_nights                       2             2             3   \n",
       "has_minors                                 0             0             0   \n",
       "room_type_changed                          0             0             0   \n",
       "cancelations_ratio                         0             0             0   \n",
       "\n",
       "                                            9  \n",
       "hotel                            Resort Hotel  \n",
       "is_canceled                                 1  \n",
       "lead_time                                  75  \n",
       "arrival_date_year                        2015  \n",
       "arrival_date_month                       July  \n",
       "arrival_date_week_number                   27  \n",
       "arrival_date_day_of_month                   1  \n",
       "stays_in_weekend_nights                     0  \n",
       "stays_in_week_nights                        3  \n",
       "adults                                      2  \n",
       "children                                    0  \n",
       "babies                                      0  \n",
       "meal                                       HB  \n",
       "country                                   PRT  \n",
       "market_segment                  Offline TA/TO  \n",
       "distribution_channel                    TA/TO  \n",
       "is_repeated_guest                           0  \n",
       "previous_cancellations                      0  \n",
       "previous_bookings_not_canceled              0  \n",
       "reserved_room_type                          D  \n",
       "assigned_room_type                          D  \n",
       "booking_changes                             0  \n",
       "deposit_type                       No Deposit  \n",
       "days_in_waiting_list                        0  \n",
       "customer_type                       Transient  \n",
       "adr                                     105.5  \n",
       "required_car_parking_spaces                 0  \n",
       "total_of_special_requests                   0  \n",
       "reservation_status                   Canceled  \n",
       "reservation_status_date            2015-04-22  \n",
       "total_guests                                2  \n",
       "total_stay_in_nights                        3  \n",
       "has_minors                                  0  \n",
       "room_type_changed                           0  \n",
       "cancelations_ratio                          0  "
      ]
     },
     "execution_count": 18,
     "metadata": {},
     "output_type": "execute_result"
    }
   ],
   "source": [
    "prelim_df.head(10).T"
   ]
  },
  {
   "cell_type": "markdown",
   "metadata": {
    "id": "jlEDZuauqr6G"
   },
   "source": [
    "# Eliminaciones"
   ]
  },
  {
   "cell_type": "markdown",
   "metadata": {
    "id": "eEcBwz67qr6G"
   },
   "source": [
    "## Registros donde la cantidad de Adultos es igual a cero"
   ]
  },
  {
   "cell_type": "code",
   "execution_count": 19,
   "metadata": {
    "colab": {
     "base_uri": "https://localhost:8080/"
    },
    "executionInfo": {
     "elapsed": 14,
     "status": "ok",
     "timestamp": 1632169020114,
     "user": {
      "displayName": "Viridiana Valencia",
      "photoUrl": "https://lh3.googleusercontent.com/a/default-user=s64",
      "userId": "05838258711225855733"
     },
     "user_tz": 420
    },
    "id": "7N6gRWPWqr6G",
    "outputId": "213da1b2-f9ca-44d2-de86-e7f6532d7f00"
   },
   "outputs": [
    {
     "data": {
      "text/plain": [
       "180"
      ]
     },
     "execution_count": 19,
     "metadata": {},
     "output_type": "execute_result"
    }
   ],
   "source": [
    "prelim_df[(prelim_df[\"adults\"] == 0)][\"adults\"].count()"
   ]
  },
  {
   "cell_type": "code",
   "execution_count": 20,
   "metadata": {
    "colab": {
     "base_uri": "https://localhost:8080/"
    },
    "executionInfo": {
     "elapsed": 13,
     "status": "ok",
     "timestamp": 1632169020114,
     "user": {
      "displayName": "Viridiana Valencia",
      "photoUrl": "https://lh3.googleusercontent.com/a/default-user=s64",
      "userId": "05838258711225855733"
     },
     "user_tz": 420
    },
    "id": "qLG9Un0eqr6G",
    "outputId": "336914d3-f5fd-4538-8980-080b46fc1040"
   },
   "outputs": [
    {
     "data": {
      "text/plain": [
       "0"
      ]
     },
     "execution_count": 20,
     "metadata": {},
     "output_type": "execute_result"
    }
   ],
   "source": [
    "adults_filt = (prelim_df[\"adults\"] == 0)\n",
    "prelim_df = prelim_df.drop(prelim_df[adults_filt].index)\n",
    "prelim_df[(prelim_df[\"adults\"] == 0)][\"adults\"].count()"
   ]
  },
  {
   "cell_type": "markdown",
   "metadata": {
    "id": "tLrx83LXqr6G"
   },
   "source": [
    "## Registros con adr negativo o adr mayor a 400"
   ]
  },
  {
   "cell_type": "code",
   "execution_count": 21,
   "metadata": {
    "colab": {
     "base_uri": "https://localhost:8080/"
    },
    "executionInfo": {
     "elapsed": 13,
     "status": "ok",
     "timestamp": 1632169020114,
     "user": {
      "displayName": "Viridiana Valencia",
      "photoUrl": "https://lh3.googleusercontent.com/a/default-user=s64",
      "userId": "05838258711225855733"
     },
     "user_tz": 420
    },
    "id": "QypQD286qr6G",
    "outputId": "2524815c-cc60-4278-b288-57681f3fb870"
   },
   "outputs": [
    {
     "data": {
      "text/plain": [
       "277"
      ]
     },
     "execution_count": 21,
     "metadata": {},
     "output_type": "execute_result"
    }
   ],
   "source": [
    "adr_filt = (prelim_df[\"adr\"] < 0) | (prelim_df[\"adr\"] > 300)\n",
    "len(prelim_df[adr_filt])"
   ]
  },
  {
   "cell_type": "code",
   "execution_count": 22,
   "metadata": {
    "colab": {
     "base_uri": "https://localhost:8080/"
    },
    "executionInfo": {
     "elapsed": 13,
     "status": "ok",
     "timestamp": 1632169020115,
     "user": {
      "displayName": "Viridiana Valencia",
      "photoUrl": "https://lh3.googleusercontent.com/a/default-user=s64",
      "userId": "05838258711225855733"
     },
     "user_tz": 420
    },
    "id": "QymOGIbgqr6H",
    "outputId": "1dee88a9-ab02-477f-ee63-4a9bde97f042"
   },
   "outputs": [
    {
     "name": "stdout",
     "output_type": "stream",
     "text": [
      "Valor máximo de ADR en el dataset -->  5400.0\n",
      "Valor mínimo de ADR en el dataset -->  -6.38\n"
     ]
    }
   ],
   "source": [
    "print(\"Valor máximo de ADR en el dataset --> \", prelim_df[\"adr\"].max())\n",
    "print(\"Valor mínimo de ADR en el dataset --> \", prelim_df[\"adr\"].min())"
   ]
  },
  {
   "cell_type": "code",
   "execution_count": 23,
   "metadata": {
    "colab": {
     "base_uri": "https://localhost:8080/"
    },
    "executionInfo": {
     "elapsed": 329,
     "status": "ok",
     "timestamp": 1632169020431,
     "user": {
      "displayName": "Viridiana Valencia",
      "photoUrl": "https://lh3.googleusercontent.com/a/default-user=s64",
      "userId": "05838258711225855733"
     },
     "user_tz": 420
    },
    "id": "fQuRenegqr6H",
    "outputId": "8f2e3a5d-bf38-475e-b642-c6558e6bc774"
   },
   "outputs": [
    {
     "name": "stdout",
     "output_type": "stream",
     "text": [
      "Valor máximo de ADR en el dataset -->  300.0\n",
      "Valor mínimo de ADR en el dataset -->  0.0\n"
     ]
    }
   ],
   "source": [
    "adr_filt = (prelim_df[\"adr\"] < 0) | (prelim_df[\"adr\"] > 300)\n",
    "prelim_df = prelim_df.drop(prelim_df[adr_filt].index)\n",
    "print(\"Valor máximo de ADR en el dataset --> \", prelim_df[\"adr\"].max())\n",
    "print(\"Valor mínimo de ADR en el dataset --> \", prelim_df[\"adr\"].min())"
   ]
  },
  {
   "cell_type": "markdown",
   "metadata": {
    "id": "pLpfRl9Lqr6H"
   },
   "source": [
    "## Registros con tipos de habitacion P y L"
   ]
  },
  {
   "cell_type": "code",
   "execution_count": 24,
   "metadata": {
    "colab": {
     "base_uri": "https://localhost:8080/"
    },
    "executionInfo": {
     "elapsed": 6,
     "status": "ok",
     "timestamp": 1632169020431,
     "user": {
      "displayName": "Viridiana Valencia",
      "photoUrl": "https://lh3.googleusercontent.com/a/default-user=s64",
      "userId": "05838258711225855733"
     },
     "user_tz": 420
    },
    "id": "97q2-Sg4qr6H",
    "outputId": "cc6afd4d-3fbd-4e2a-eab6-c9f8b3f7675e"
   },
   "outputs": [
    {
     "data": {
      "text/plain": [
       "assigned_room_type  reserved_room_type\n",
       "A                   L                     1\n",
       "B                   L                     1\n",
       "C                   L                     1\n",
       "F                   L                     1\n",
       "H                   L                     1\n",
       "L                   L                     1\n",
       "dtype: int64"
      ]
     },
     "execution_count": 24,
     "metadata": {},
     "output_type": "execute_result"
    }
   ],
   "source": [
    "assigned_filt = (prelim_df[\"assigned_room_type\"] == 'P') | (prelim_df[\"assigned_room_type\"] == 'L')\n",
    "reserved_filt = (prelim_df[\"reserved_room_type\"] == 'P') | (prelim_df[\"reserved_room_type\"] == 'L')\n",
    "prelim_df[assigned_filt | reserved_filt][[\"assigned_room_type\", \"reserved_room_type\"]].value_counts()"
   ]
  },
  {
   "cell_type": "code",
   "execution_count": 25,
   "metadata": {
    "colab": {
     "base_uri": "https://localhost:8080/"
    },
    "executionInfo": {
     "elapsed": 6,
     "status": "ok",
     "timestamp": 1632169020432,
     "user": {
      "displayName": "Viridiana Valencia",
      "photoUrl": "https://lh3.googleusercontent.com/a/default-user=s64",
      "userId": "05838258711225855733"
     },
     "user_tz": 420
    },
    "id": "uF8zJM4Kqr6H",
    "outputId": "2f6e2202-4a8b-41a3-9a69-75cd618fa1d5"
   },
   "outputs": [
    {
     "data": {
      "text/plain": [
       "0"
      ]
     },
     "execution_count": 25,
     "metadata": {},
     "output_type": "execute_result"
    }
   ],
   "source": [
    "prelim_df = prelim_df.drop(prelim_df[assigned_filt | reserved_filt].index)\n",
    "len(prelim_df[assigned_filt | reserved_filt][[\"assigned_room_type\", \"reserved_room_type\"]])"
   ]
  },
  {
   "cell_type": "markdown",
   "metadata": {
    "id": "Tt6cX2R_CXwo"
   },
   "source": [
    "# Modificación de tipo de datos \n",
    "## Features is_canceled, is_repeated_guest, more_cancelations, room_type_changed y has_minors se convierten a tipo object"
   ]
  },
  {
   "cell_type": "code",
   "execution_count": 26,
   "metadata": {
    "colab": {
     "base_uri": "https://localhost:8080/"
    },
    "executionInfo": {
     "elapsed": 5,
     "status": "ok",
     "timestamp": 1632169020432,
     "user": {
      "displayName": "Viridiana Valencia",
      "photoUrl": "https://lh3.googleusercontent.com/a/default-user=s64",
      "userId": "05838258711225855733"
     },
     "user_tz": 420
    },
    "id": "sMATn0t1CXO0",
    "outputId": "47919bf2-532d-4b6b-8bba-1b27dc582617"
   },
   "outputs": [
    {
     "name": "stdout",
     "output_type": "stream",
     "text": [
      "<class 'pandas.core.frame.DataFrame'>\n",
      "Int64Index: 118704 entries, 0 to 119389\n",
      "Data columns (total 35 columns):\n",
      " #   Column                          Non-Null Count   Dtype  \n",
      "---  ------                          --------------   -----  \n",
      " 0   hotel                           118704 non-null  object \n",
      " 1   is_canceled                     118704 non-null  int64  \n",
      " 2   lead_time                       118704 non-null  int64  \n",
      " 3   arrival_date_year               118704 non-null  int64  \n",
      " 4   arrival_date_month              118704 non-null  object \n",
      " 5   arrival_date_week_number        118704 non-null  int64  \n",
      " 6   arrival_date_day_of_month       118704 non-null  int64  \n",
      " 7   stays_in_weekend_nights         118704 non-null  int64  \n",
      " 8   stays_in_week_nights            118704 non-null  int64  \n",
      " 9   adults                          118704 non-null  int64  \n",
      " 10  children                        118704 non-null  int32  \n",
      " 11  babies                          118704 non-null  int64  \n",
      " 12  meal                            118704 non-null  object \n",
      " 13  country                         118704 non-null  object \n",
      " 14  market_segment                  118704 non-null  object \n",
      " 15  distribution_channel            118704 non-null  object \n",
      " 16  is_repeated_guest               118704 non-null  int64  \n",
      " 17  previous_cancellations          118704 non-null  int64  \n",
      " 18  previous_bookings_not_canceled  118704 non-null  int64  \n",
      " 19  reserved_room_type              118704 non-null  object \n",
      " 20  assigned_room_type              118704 non-null  object \n",
      " 21  booking_changes                 118704 non-null  int64  \n",
      " 22  deposit_type                    118704 non-null  object \n",
      " 23  days_in_waiting_list            118704 non-null  int64  \n",
      " 24  customer_type                   118704 non-null  object \n",
      " 25  adr                             118704 non-null  float64\n",
      " 26  required_car_parking_spaces     118704 non-null  int64  \n",
      " 27  total_of_special_requests       118704 non-null  int64  \n",
      " 28  reservation_status              118704 non-null  object \n",
      " 29  reservation_status_date         118704 non-null  object \n",
      " 30  total_guests                    118704 non-null  int64  \n",
      " 31  total_stay_in_nights            118704 non-null  int64  \n",
      " 32  has_minors                      118704 non-null  int64  \n",
      " 33  room_type_changed               118704 non-null  int64  \n",
      " 34  cancelations_ratio              118704 non-null  int64  \n",
      "dtypes: float64(1), int32(1), int64(21), object(12)\n",
      "memory usage: 32.2+ MB\n"
     ]
    }
   ],
   "source": [
    "prelim_df.info()"
   ]
  },
  {
   "cell_type": "code",
   "execution_count": 27,
   "metadata": {
    "colab": {
     "base_uri": "https://localhost:8080/"
    },
    "executionInfo": {
     "elapsed": 429,
     "status": "ok",
     "timestamp": 1632169020858,
     "user": {
      "displayName": "Viridiana Valencia",
      "photoUrl": "https://lh3.googleusercontent.com/a/default-user=s64",
      "userId": "05838258711225855733"
     },
     "user_tz": 420
    },
    "id": "Ac_IyLptDmNY",
    "outputId": "47675e8e-ed47-401c-b25b-4c44f6b33980"
   },
   "outputs": [
    {
     "name": "stdout",
     "output_type": "stream",
     "text": [
      "<class 'pandas.core.frame.DataFrame'>\n",
      "Int64Index: 118704 entries, 0 to 119389\n",
      "Data columns (total 35 columns):\n",
      " #   Column                          Non-Null Count   Dtype  \n",
      "---  ------                          --------------   -----  \n",
      " 0   hotel                           118704 non-null  object \n",
      " 1   is_canceled                     118704 non-null  object \n",
      " 2   lead_time                       118704 non-null  int64  \n",
      " 3   arrival_date_year               118704 non-null  int64  \n",
      " 4   arrival_date_month              118704 non-null  object \n",
      " 5   arrival_date_week_number        118704 non-null  int64  \n",
      " 6   arrival_date_day_of_month       118704 non-null  int64  \n",
      " 7   stays_in_weekend_nights         118704 non-null  int64  \n",
      " 8   stays_in_week_nights            118704 non-null  int64  \n",
      " 9   adults                          118704 non-null  int64  \n",
      " 10  children                        118704 non-null  int32  \n",
      " 11  babies                          118704 non-null  int64  \n",
      " 12  meal                            118704 non-null  object \n",
      " 13  country                         118704 non-null  object \n",
      " 14  market_segment                  118704 non-null  object \n",
      " 15  distribution_channel            118704 non-null  object \n",
      " 16  is_repeated_guest               118704 non-null  object \n",
      " 17  previous_cancellations          118704 non-null  int64  \n",
      " 18  previous_bookings_not_canceled  118704 non-null  int64  \n",
      " 19  reserved_room_type              118704 non-null  object \n",
      " 20  assigned_room_type              118704 non-null  object \n",
      " 21  booking_changes                 118704 non-null  int64  \n",
      " 22  deposit_type                    118704 non-null  object \n",
      " 23  days_in_waiting_list            118704 non-null  int64  \n",
      " 24  customer_type                   118704 non-null  object \n",
      " 25  adr                             118704 non-null  float64\n",
      " 26  required_car_parking_spaces     118704 non-null  int64  \n",
      " 27  total_of_special_requests       118704 non-null  int64  \n",
      " 28  reservation_status              118704 non-null  object \n",
      " 29  reservation_status_date         118704 non-null  object \n",
      " 30  total_guests                    118704 non-null  int64  \n",
      " 31  total_stay_in_nights            118704 non-null  int64  \n",
      " 32  has_minors                      118704 non-null  object \n",
      " 33  room_type_changed               118704 non-null  object \n",
      " 34  cancelations_ratio              118704 non-null  object \n",
      "dtypes: float64(1), int32(1), int64(16), object(17)\n",
      "memory usage: 32.2+ MB\n"
     ]
    }
   ],
   "source": [
    "prelim_df[['is_canceled', 'is_repeated_guest', 'cancelations_ratio', 'room_type_changed', 'has_minors']] = prelim_df[['is_canceled', 'is_repeated_guest', 'cancelations_ratio', 'room_type_changed', 'has_minors']].astype('object')\n",
    "prelim_df.info()"
   ]
  },
  {
   "cell_type": "markdown",
   "metadata": {
    "id": "Evo29g1vqr6H"
   },
   "source": [
    "# Reinicio de los indices post Data Wrangling"
   ]
  },
  {
   "cell_type": "code",
   "execution_count": 28,
   "metadata": {
    "colab": {
     "base_uri": "https://localhost:8080/"
    },
    "executionInfo": {
     "elapsed": 10,
     "status": "ok",
     "timestamp": 1632169020858,
     "user": {
      "displayName": "Viridiana Valencia",
      "photoUrl": "https://lh3.googleusercontent.com/a/default-user=s64",
      "userId": "05838258711225855733"
     },
     "user_tz": 420
    },
    "id": "oiAM-BMkqr6I",
    "outputId": "a8b7bbaf-c7e1-49f2-ae44-df20154aef1e"
   },
   "outputs": [
    {
     "name": "stdout",
     "output_type": "stream",
     "text": [
      "Dimensiones iniciales -->  (119390, 36)\n",
      "Dimensiones luego de Data Wrangling -->  (118704, 35)\n",
      "Registros Eliminados -->  686\n",
      "Registros Eliminados (%) -->  0.5745874863891448\n"
     ]
    }
   ],
   "source": [
    "data = prelim_df.copy()\n",
    "data.reset_index()\n",
    "print('Dimensiones iniciales --> ', df.shape)\n",
    "print('Dimensiones luego de Data Wrangling --> ', data.shape)\n",
    "print('Registros Eliminados --> ', df.shape[0]- data.shape[0])\n",
    "print('Registros Eliminados (%) --> ', (df.shape[0]- data.shape[0])*100/df.shape[0])"
   ]
  },
  {
   "cell_type": "markdown",
   "metadata": {
    "id": "1d3svWLWymuH"
   },
   "source": [
    "# Diccionario de Datos\n",
    "\n",
    "A continuación se facilita una lista con los nombres de las variables en el dataset final, el tipo de dato, y su descripción."
   ]
  },
  {
   "cell_type": "markdown",
   "metadata": {
    "id": "SlbMRwuWxdNe"
   },
   "source": [
    "| Variable                    | Tipo   | Descripción                                             | \n",
    "|-----------------------------|--------|---------------------------------------------------------|\n",
    "| ADR                         | Float  | Tarifa diaria promedio                                  |\n",
    "| Adults                      | Int    | Cantidad de adultos registrados                         |\n",
    "| Agent                       | Object | ID de la agencia que reservo la habitación              |\n",
    "| ArrivalDateDayOfMonth       | Int    | Día del mes de llegada                                  |\n",
    "| ArrivalDateMonth            | Object | Mes de llegada                                          |\n",
    "| ArrivalDateWeekNumber       | Int    | Semana del año de llegada                               |\n",
    "| ArrivalDateYear             | Int    | Año de llegada                                          |\n",
    "| AssignedRoomType            | Object | Tipo de habitación asignada                             |\n",
    "| Babies                      | Int    | Bebés regitrados en la habitación                       |\n",
    "| BookingChanges              | Int    | Cambios en la reservación                               |\n",
    "| Children                    | Int    | Cantidad de niños registrados                           |\n",
    "| Company                     | Object | ID de la compañía que hizo la reserva                   |\n",
    "| Country                     | Object | País de origen del huésped formato ISO 3155–3:2013      |\n",
    "| CustomerType                | Object | Tipo de cliente **Contract:** Clientes que tienen algún tipo de contrato relacionado con su reserva. **Group:** Habitaciones reservadas en grupo. **Transient:** Reservas que no estan asociadas a ningún contrato, grupo u otro cliente transitorio. **Transient-party:** Clientes transitorios que tienen alguna relación con otra habitación de algún cliente transitorio.                                                                       |\n",
    "| DaysInWaitingList           | Int    | Cantidad de días en lista de espera                     |\n",
    "| DepositType                 | Object | Indica si el cliente hizo algún deposito puede tener tres categorias: **No Deposit:** Cuando el cliente no dejó depósito. **Non Refund:** Cuando el depósito no es reembolsable. **Refundable:** Cuando el depósito es reembolsable.                                                                                 |\n",
    "| DistributionChannel         | Object | Canal de distribución de la reserva. **TA:** Para agencias de viaje. **TO:** Para operadores de Tour.                                                                              |\n",
    "| has_infants                 | Int    | Indica si en la reservación se registraron menores      |\n",
    "| is_canceled                  | Object | Indica si la reserva se canceló. **1** para canceladas y **0** para no canceladas.                                                                                                      |\n",
    "| IsRepeatedGuest             | Object | Indica si el nombre de la reserva ha sido registrado antes. **1** para clientes repetido y **0** para nuevos registros.                                                          |\n",
    "| LeadTime                    | Int    | Cantidad de días que pasan entre la reservación y el día de llegada.                                                                                                                    |\n",
    "| MarketSegment               | Object | Segmento de mercado. **TA:** Para agencias de viaje. **TO:** Para operadores de Tour.                                                                                                  |\n",
    "| Meal                        | Object | Tipo de comidas reservadas. **Undefined/SC:** No se le asignó paquete de comidas. **BB:** Desayuno incluido. **HB:** Desayuno y cena. **FB:** Desayuno, comida y cena.             |\n",
    "| PreviousBookingsNotCanceled | Int    | Cantidad de reservas anteriores que no fueron canceladas|\n",
    "| PreviousCancellations       | Int    | Canidad de reservas anteriores que fueron canceladas    |\n",
    "| RequiredCarParkingSpaces   | Int    | Cantidad de espacios de estacionamiento solicictados    |\n",
    "| ReservationStatus           | Object | Estatus de la reservación **Canceled:** Reserva cancelada por el cliente. **Check-Out:** El cliente salió del hotel. **No-Show:** El cliente no hizo check-in y no informó al hotel.                                                                                |\n",
    "| ReservationStatusDate       | Date   | Fecha en la que se hizo el último cambio de estatus     |\n",
    "| ReservedRoomType            | Object | Clave del tipo de havitación reservada                  |\n",
    "| StaysInWeekendNights        | Int    | Noches de estancia en fin de semana                     |\n",
    "| StaysInWeekNights           | Int    | Noches de estancia entre semana                         |\n",
    "| total_stay_in_nights        | Int    | Noches de estancia\n",
    "| Total_guests                | Int    | Cantidad total de huéspedes (Adultos+Niños+bebés)       |\n",
    "| TotalOfSpecialRequests      | Int    | Cantidad de solicitudes especiales del cliente          |"
   ]
  },
  {
   "cell_type": "markdown",
   "metadata": {
    "id": "oO0nrD9R3wyA"
   },
   "source": [
    "# Exploratory Data Analysis (EDA)\n",
    "## 1. ¿Cuántas reservaciones fueron canceladas?"
   ]
  },
  {
   "cell_type": "code",
   "execution_count": 29,
   "metadata": {
    "colab": {
     "base_uri": "https://localhost:8080/"
    },
    "executionInfo": {
     "elapsed": 6,
     "status": "ok",
     "timestamp": 1632169020858,
     "user": {
      "displayName": "Viridiana Valencia",
      "photoUrl": "https://lh3.googleusercontent.com/a/default-user=s64",
      "userId": "05838258711225855733"
     },
     "user_tz": 420
    },
    "id": "VZkcZMnz4z8l",
    "outputId": "11771020-8d64-4241-f27b-61058eeaeb3a"
   },
   "outputs": [
    {
     "data": {
      "text/plain": [
       "0    62.911107\n",
       "1    37.088893\n",
       "Name: is_canceled, dtype: float64"
      ]
     },
     "execution_count": 29,
     "metadata": {},
     "output_type": "execute_result"
    }
   ],
   "source": [
    "cancelados = data['is_canceled'].value_counts()/data['is_canceled'].count() * 100\n",
    "cancelados"
   ]
  },
  {
   "cell_type": "code",
   "execution_count": 30,
   "metadata": {
    "colab": {
     "base_uri": "https://localhost:8080/",
     "height": 386
    },
    "executionInfo": {
     "elapsed": 789,
     "status": "ok",
     "timestamp": 1632169021645,
     "user": {
      "displayName": "Viridiana Valencia",
      "photoUrl": "https://lh3.googleusercontent.com/a/default-user=s64",
      "userId": "05838258711225855733"
     },
     "user_tz": 420
    },
    "id": "jfD3KmoW_Ttx",
    "outputId": "5b1d5868-f29a-4aa5-8770-14929e2bca6d"
   },
   "outputs": [
    {
     "data": {
      "text/plain": [
       "<Figure size 1440x576 with 0 Axes>"
      ]
     },
     "metadata": {},
     "output_type": "display_data"
    },
    {
     "data": {
      "image/png": "[encoded data removed]",
      "text/plain": [
       "<Figure size 360x360 with 1 Axes>"
      ]
     },
     "metadata": {
      "needs_background": "light"
     },
     "output_type": "display_data"
    }
   ],
   "source": [
    "canceled_data = data.copy()\n",
    "canceled_data[\"is_canceled\"] = canceled_data[\"is_canceled\"].replace({0:\"No Cancelada\", 1:\"Cancelada\"})\n",
    "plt.figure(figsize=(20,8))\n",
    "sns.catplot(x=\"is_canceled\", data=canceled_data, kind=\"count\")\n",
    "plt.title(\"Total de Reservaciones por Estado de Cancelación\", fontsize=16)\n",
    "plt.ylabel(\"Número de cancelaciones\", fontsize=14)\n",
    "plt.xlabel(\"Estado de Cancelación\", fontsize=14)\n",
    "plt.show()"
   ]
  },
  {
   "cell_type": "markdown",
   "metadata": {
    "id": "lzfU6HBhRdic"
   },
   "source": [
    "### Las reservas canceladas equivalen a 37.08% "
   ]
  },
  {
   "cell_type": "code",
   "execution_count": 31,
   "metadata": {
    "id": "th3ahk2sRwmi"
   },
   "outputs": [],
   "source": [
    "no_cancelados = data[data['is_canceled'] == 0]"
   ]
  },
  {
   "cell_type": "markdown",
   "metadata": {
    "id": "1XKpcMCXSEbE"
   },
   "source": [
    "## 2. ¿Cual es la proporción entre reservaciones en el hotel resort y el de ciudad?"
   ]
  },
  {
   "cell_type": "code",
   "execution_count": 32,
   "metadata": {
    "colab": {
     "base_uri": "https://localhost:8080/"
    },
    "executionInfo": {
     "elapsed": 14,
     "status": "ok",
     "timestamp": 1632169021646,
     "user": {
      "displayName": "Viridiana Valencia",
      "photoUrl": "https://lh3.googleusercontent.com/a/default-user=s64",
      "userId": "05838258711225855733"
     },
     "user_tz": 420
    },
    "id": "WMjkSxD5TkvR",
    "outputId": "a5bdf7bc-8c93-4f7e-f7c4-fcd3b7129941"
   },
   "outputs": [
    {
     "data": {
      "text/plain": [
       "City Hotel      61.483971\n",
       "Resort Hotel    38.516029\n",
       "Name: hotel, dtype: float64"
      ]
     },
     "execution_count": 32,
     "metadata": {},
     "output_type": "execute_result"
    }
   ],
   "source": [
    "tipo_hotel = no_cancelados['hotel'].value_counts()/no_cancelados['hotel'].count() * 100\n",
    "tipo_hotel"
   ]
  },
  {
   "cell_type": "code",
   "execution_count": 33,
   "metadata": {
    "colab": {
     "base_uri": "https://localhost:8080/",
     "height": 386
    },
    "executionInfo": {
     "elapsed": 12,
     "status": "ok",
     "timestamp": 1632169021647,
     "user": {
      "displayName": "Viridiana Valencia",
      "photoUrl": "https://lh3.googleusercontent.com/a/default-user=s64",
      "userId": "05838258711225855733"
     },
     "user_tz": 420
    },
    "id": "U7YYakJoSD4X",
    "outputId": "8002b6aa-8f11-4d03-ba9f-60830e2de454"
   },
   "outputs": [
    {
     "data": {
      "text/plain": [
       "<Figure size 1440x576 with 0 Axes>"
      ]
     },
     "metadata": {},
     "output_type": "display_data"
    },
    {
     "data": {
      "image/png": "[encoded data removed]",
      "text/plain": [
       "<Figure size 360x360 with 1 Axes>"
      ]
     },
     "metadata": {
      "needs_background": "light"
     },
     "output_type": "display_data"
    }
   ],
   "source": [
    "plt.figure(figsize=(20,8))\n",
    "sns.catplot(\"hotel\", data=no_cancelados, kind=\"count\")\n",
    "plt.title(\"Total de Reservaciones por Tipo de Hotel\", fontsize=16)\n",
    "plt.xlabel(\"Tipo de Hotel\", fontsize=14)\n",
    "plt.ylabel(\"Número de Reservaciones\", fontsize=14)\n",
    "plt.show()"
   ]
  },
  {
   "cell_type": "markdown",
   "metadata": {
    "id": "w6ICrJ72TtJA"
   },
   "source": [
    "### Más del 66% de las reservaciones se realizan en el hotel de ciudad."
   ]
  },
  {
   "cell_type": "markdown",
   "metadata": {
    "id": "YViDTfCWUDOa"
   },
   "source": [
    "## 3. ¿Cuál es el porcentaje de reservaciones por año?"
   ]
  },
  {
   "cell_type": "code",
   "execution_count": 34,
   "metadata": {
    "colab": {
     "base_uri": "https://localhost:8080/"
    },
    "executionInfo": {
     "elapsed": 9,
     "status": "ok",
     "timestamp": 1632169021648,
     "user": {
      "displayName": "Viridiana Valencia",
      "photoUrl": "https://lh3.googleusercontent.com/a/default-user=s64",
      "userId": "05838258711225855733"
     },
     "user_tz": 420
    },
    "id": "EC29dzg_UIyp",
    "outputId": "5c52e9b2-5382-4721-c1ac-b2b834f065d1"
   },
   "outputs": [
    {
     "data": {
      "text/plain": [
       "2016    48.378371\n",
       "2017    33.128900\n",
       "2015    18.492729\n",
       "Name: arrival_date_year, dtype: float64"
      ]
     },
     "execution_count": 34,
     "metadata": {},
     "output_type": "execute_result"
    }
   ],
   "source": [
    "reservas_anio = no_cancelados['arrival_date_year'].value_counts()/no_cancelados['arrival_date_year'].count() * 100\n",
    "reservas_anio"
   ]
  },
  {
   "cell_type": "code",
   "execution_count": 35,
   "metadata": {
    "colab": {
     "base_uri": "https://localhost:8080/",
     "height": 386
    },
    "executionInfo": {
     "elapsed": 426,
     "status": "ok",
     "timestamp": 1632169022067,
     "user": {
      "displayName": "Viridiana Valencia",
      "photoUrl": "https://lh3.googleusercontent.com/a/default-user=s64",
      "userId": "05838258711225855733"
     },
     "user_tz": 420
    },
    "id": "QnQX42WlUVVN",
    "outputId": "8b9c232b-0015-4c6e-c2ee-f80504d1596f"
   },
   "outputs": [
    {
     "data": {
      "text/plain": [
       "<Figure size 1440x576 with 0 Axes>"
      ]
     },
     "metadata": {},
     "output_type": "display_data"
    },
    {
     "data": {
      "image/png": "[encoded data removed]",
      "text/plain": [
       "<Figure size 360x360 with 1 Axes>"
      ]
     },
     "metadata": {
      "needs_background": "light"
     },
     "output_type": "display_data"
    }
   ],
   "source": [
    "plt.figure(figsize=(20,8))\n",
    "sns.catplot(\"arrival_date_year\", data=no_cancelados, kind=\"count\")\n",
    "plt.title(\"Total de Reservaciones por Año de Llegada al Hotel\", fontsize=16)\n",
    "plt.xlabel(\"Año\", fontsize=14)\n",
    "plt.ylabel(\"Número de Reservaciones\", fontsize=14)\n",
    "plt.show()"
   ]
  },
  {
   "cell_type": "markdown",
   "metadata": {
    "id": "7iVu9gFOUlXJ"
   },
   "source": [
    "### Durante el 2016 se realizaron más del doble de las reservaciones que en el año anterior, pero decrecieron aproximadamente 15% el año siguiente."
   ]
  },
  {
   "cell_type": "code",
   "execution_count": 36,
   "metadata": {
    "colab": {
     "base_uri": "https://localhost:8080/",
     "height": 280
    },
    "executionInfo": {
     "elapsed": 405,
     "status": "ok",
     "timestamp": 1632169022470,
     "user": {
      "displayName": "Viridiana Valencia",
      "photoUrl": "https://lh3.googleusercontent.com/a/default-user=s64",
      "userId": "05838258711225855733"
     },
     "user_tz": 420
    },
    "id": "52rSxzV8XKnZ",
    "outputId": "6ef82190-3640-4eaa-cdf3-a5200ca12af4"
   },
   "outputs": [
    {
     "data": {
      "image/png": "[encoded data removed]",
      "text/plain": [
       "<Figure size 576x360 with 1 Axes>"
      ]
     },
     "metadata": {
      "needs_background": "light"
     },
     "output_type": "display_data"
    }
   ],
   "source": [
    "plt.figure(figsize=(8,5))\n",
    "sns.countplot(x='arrival_date_year', hue='hotel',  data = no_cancelados)\n",
    "plt.title(\"Total de Reservaciones por Año de Llegada y Tipo de Hotel\", fontsize=16)\n",
    "plt.xlabel(\"Año\", fontsize=14)\n",
    "plt.ylabel(\"Número de Reservaciones\", fontsize=14)\n",
    "plt.legend(title=\"Tipo de Hotel\")\n",
    "plt.show()"
   ]
  },
  {
   "cell_type": "markdown",
   "metadata": {
    "id": "pg4fEjf9Ug9-"
   },
   "source": [
    "## 4. ¿Cuáles son los meses de mayor afluencia de huéspedes?"
   ]
  },
  {
   "cell_type": "code",
   "execution_count": 37,
   "metadata": {
    "colab": {
     "base_uri": "https://localhost:8080/",
     "height": 315
    },
    "executionInfo": {
     "elapsed": 644,
     "status": "ok",
     "timestamp": 1632169023108,
     "user": {
      "displayName": "Viridiana Valencia",
      "photoUrl": "https://lh3.googleusercontent.com/a/default-user=s64",
      "userId": "05838258711225855733"
     },
     "user_tz": 420
    },
    "id": "eHYIfyGMW8vw",
    "outputId": "87db9f5d-efa3-4b7e-dece-363f202033c9"
   },
   "outputs": [
    {
     "data": {
      "image/png": "[encoded data removed]",
      "text/plain": [
       "<Figure size 1080x360 with 1 Axes>"
      ]
     },
     "metadata": {
      "needs_background": "light"
     },
     "output_type": "display_data"
    }
   ],
   "source": [
    "meses = ['January', 'February', 'March', 'April', 'May', 'June', 'July', 'August', 'September',\n",
    "             'October', 'November', 'December']\n",
    "\n",
    "plt.subplots(figsize=(15,5))\n",
    "ordenar_meses = no_cancelados['arrival_date_month'].value_counts().reindex(meses)\n",
    "\n",
    "x = ordenar_meses.index\n",
    "y = ordenar_meses/ordenar_meses.sum()*100   \n",
    "\n",
    "\n",
    "sns.lineplot(x, y.values)\n",
    "plt.title(\"Porcentaje de huéspedes por Mes de Estadía \", fontsize=16)\n",
    "plt.xlabel(\"Mes\", fontsize=14)\n",
    "plt.ylabel(\"Porcentaje de huéspedes (%)\", fontsize=14)\n",
    "plt.show()"
   ]
  },
  {
   "cell_type": "markdown",
   "metadata": {
    "id": "2DP57AMVY47f"
   },
   "source": [
    "### Se puede observar que los meses más ocupados son julio y agosto."
   ]
  },
  {
   "cell_type": "markdown",
   "metadata": {
    "id": "qEuFWVZFZJwl"
   },
   "source": [
    "## 5. ¿De qué país vienen la mayor parte de huéspedes?"
   ]
  },
  {
   "cell_type": "code",
   "execution_count": 38,
   "metadata": {
    "colab": {
     "base_uri": "https://localhost:8080/"
    },
    "executionInfo": {
     "elapsed": 14,
     "status": "ok",
     "timestamp": 1632169023108,
     "user": {
      "displayName": "Viridiana Valencia",
      "photoUrl": "https://lh3.googleusercontent.com/a/default-user=s64",
      "userId": "05838258711225855733"
     },
     "user_tz": 420
    },
    "id": "nlxM-W25fElf",
    "outputId": "a5488c1c-4209-4e23-e85e-57ec264ee38c"
   },
   "outputs": [
    {
     "data": {
      "text/plain": [
       "PRT    27.927904\n",
       "GBR    12.919468\n",
       "FRA    11.300517\n",
       "ESP     8.475053\n",
       "DEU     8.108144\n",
       "IRL     3.395913\n",
       "ITA     3.240580\n",
       "BEL     2.477303\n",
       "NLD     2.287153\n",
       "USA     2.121107\n",
       "BRA     1.857307\n",
       "CHE     1.726077\n",
       "AUT     1.381933\n",
       "CN      1.371220\n",
       "SWE     1.059214\n",
       "Name: country, dtype: float64"
      ]
     },
     "execution_count": 38,
     "metadata": {},
     "output_type": "execute_result"
    }
   ],
   "source": [
    "pais = no_cancelados['country'].value_counts()[:15]/no_cancelados['arrival_date_year'].count() * 100\n",
    "pais"
   ]
  },
  {
   "cell_type": "code",
   "execution_count": 39,
   "metadata": {
    "colab": {
     "base_uri": "https://localhost:8080/"
    },
    "executionInfo": {
     "elapsed": 11,
     "status": "ok",
     "timestamp": 1632169023109,
     "user": {
      "displayName": "Viridiana Valencia",
      "photoUrl": "https://lh3.googleusercontent.com/a/default-user=s64",
      "userId": "05838258711225855733"
     },
     "user_tz": 420
    },
    "id": "CP0x3hnPk-ie",
    "outputId": "bfb4ebb2-da33-4214-a9b0-a3d3fb988455"
   },
   "outputs": [
    {
     "data": {
      "text/html": [
       "<div>\n",
       "<style scoped>\n",
       "    .dataframe tbody tr th:only-of-type {\n",
       "        vertical-align: middle;\n",
       "    }\n",
       "\n",
       "    .dataframe tbody tr th {\n",
       "        vertical-align: top;\n",
       "    }\n",
       "\n",
       "    .dataframe thead th {\n",
       "        text-align: right;\n",
       "    }\n",
       "</style>\n",
       "<table border=\"1\" class=\"dataframe\">\n",
       "  <thead>\n",
       "    <tr style=\"text-align: right;\">\n",
       "      <th></th>\n",
       "      <th>hotel</th>\n",
       "      <th>is_canceled</th>\n",
       "      <th>lead_time</th>\n",
       "      <th>arrival_date_year</th>\n",
       "      <th>arrival_date_month</th>\n",
       "      <th>arrival_date_week_number</th>\n",
       "      <th>arrival_date_day_of_month</th>\n",
       "      <th>stays_in_weekend_nights</th>\n",
       "      <th>stays_in_week_nights</th>\n",
       "      <th>adults</th>\n",
       "      <th>...</th>\n",
       "      <th>required_car_parking_spaces</th>\n",
       "      <th>total_of_special_requests</th>\n",
       "      <th>reservation_status</th>\n",
       "      <th>reservation_status_date</th>\n",
       "      <th>total_guests</th>\n",
       "      <th>total_stay_in_nights</th>\n",
       "      <th>has_minors</th>\n",
       "      <th>room_type_changed</th>\n",
       "      <th>cancelations_ratio</th>\n",
       "      <th>country_name</th>\n",
       "    </tr>\n",
       "  </thead>\n",
       "  <tbody>\n",
       "    <tr>\n",
       "      <th>0</th>\n",
       "      <td>Resort Hotel</td>\n",
       "      <td>0</td>\n",
       "      <td>342</td>\n",
       "      <td>2015</td>\n",
       "      <td>July</td>\n",
       "      <td>27</td>\n",
       "      <td>1</td>\n",
       "      <td>0</td>\n",
       "      <td>0</td>\n",
       "      <td>2</td>\n",
       "      <td>...</td>\n",
       "      <td>0</td>\n",
       "      <td>0</td>\n",
       "      <td>Check-Out</td>\n",
       "      <td>2015-07-01</td>\n",
       "      <td>2</td>\n",
       "      <td>0</td>\n",
       "      <td>0</td>\n",
       "      <td>0</td>\n",
       "      <td>0</td>\n",
       "      <td>Portugal</td>\n",
       "    </tr>\n",
       "    <tr>\n",
       "      <th>1</th>\n",
       "      <td>Resort Hotel</td>\n",
       "      <td>0</td>\n",
       "      <td>737</td>\n",
       "      <td>2015</td>\n",
       "      <td>July</td>\n",
       "      <td>27</td>\n",
       "      <td>1</td>\n",
       "      <td>0</td>\n",
       "      <td>0</td>\n",
       "      <td>2</td>\n",
       "      <td>...</td>\n",
       "      <td>0</td>\n",
       "      <td>0</td>\n",
       "      <td>Check-Out</td>\n",
       "      <td>2015-07-01</td>\n",
       "      <td>2</td>\n",
       "      <td>0</td>\n",
       "      <td>0</td>\n",
       "      <td>0</td>\n",
       "      <td>0</td>\n",
       "      <td>Portugal</td>\n",
       "    </tr>\n",
       "    <tr>\n",
       "      <th>2</th>\n",
       "      <td>Resort Hotel</td>\n",
       "      <td>0</td>\n",
       "      <td>7</td>\n",
       "      <td>2015</td>\n",
       "      <td>July</td>\n",
       "      <td>27</td>\n",
       "      <td>1</td>\n",
       "      <td>0</td>\n",
       "      <td>1</td>\n",
       "      <td>1</td>\n",
       "      <td>...</td>\n",
       "      <td>0</td>\n",
       "      <td>0</td>\n",
       "      <td>Check-Out</td>\n",
       "      <td>2015-07-02</td>\n",
       "      <td>1</td>\n",
       "      <td>1</td>\n",
       "      <td>0</td>\n",
       "      <td>1</td>\n",
       "      <td>0</td>\n",
       "      <td>United Kingdom</td>\n",
       "    </tr>\n",
       "    <tr>\n",
       "      <th>3</th>\n",
       "      <td>Resort Hotel</td>\n",
       "      <td>0</td>\n",
       "      <td>13</td>\n",
       "      <td>2015</td>\n",
       "      <td>July</td>\n",
       "      <td>27</td>\n",
       "      <td>1</td>\n",
       "      <td>0</td>\n",
       "      <td>1</td>\n",
       "      <td>1</td>\n",
       "      <td>...</td>\n",
       "      <td>0</td>\n",
       "      <td>0</td>\n",
       "      <td>Check-Out</td>\n",
       "      <td>2015-07-02</td>\n",
       "      <td>1</td>\n",
       "      <td>1</td>\n",
       "      <td>0</td>\n",
       "      <td>0</td>\n",
       "      <td>0</td>\n",
       "      <td>United Kingdom</td>\n",
       "    </tr>\n",
       "    <tr>\n",
       "      <th>4</th>\n",
       "      <td>Resort Hotel</td>\n",
       "      <td>0</td>\n",
       "      <td>14</td>\n",
       "      <td>2015</td>\n",
       "      <td>July</td>\n",
       "      <td>27</td>\n",
       "      <td>1</td>\n",
       "      <td>0</td>\n",
       "      <td>2</td>\n",
       "      <td>2</td>\n",
       "      <td>...</td>\n",
       "      <td>0</td>\n",
       "      <td>1</td>\n",
       "      <td>Check-Out</td>\n",
       "      <td>2015-07-03</td>\n",
       "      <td>2</td>\n",
       "      <td>2</td>\n",
       "      <td>0</td>\n",
       "      <td>0</td>\n",
       "      <td>0</td>\n",
       "      <td>United Kingdom</td>\n",
       "    </tr>\n",
       "  </tbody>\n",
       "</table>\n",
       "<p>5 rows × 36 columns</p>\n",
       "</div>"
      ],
      "text/plain": [
       "          hotel is_canceled  lead_time  arrival_date_year arrival_date_month  \\\n",
       "0  Resort Hotel           0        342               2015               July   \n",
       "1  Resort Hotel           0        737               2015               July   \n",
       "2  Resort Hotel           0          7               2015               July   \n",
       "3  Resort Hotel           0         13               2015               July   \n",
       "4  Resort Hotel           0         14               2015               July   \n",
       "\n",
       "   arrival_date_week_number  arrival_date_day_of_month  \\\n",
       "0                        27                          1   \n",
       "1                        27                          1   \n",
       "2                        27                          1   \n",
       "3                        27                          1   \n",
       "4                        27                          1   \n",
       "\n",
       "   stays_in_weekend_nights  stays_in_week_nights  adults  ...  \\\n",
       "0                        0                     0       2  ...   \n",
       "1                        0                     0       2  ...   \n",
       "2                        0                     1       1  ...   \n",
       "3                        0                     1       1  ...   \n",
       "4                        0                     2       2  ...   \n",
       "\n",
       "   required_car_parking_spaces  total_of_special_requests reservation_status  \\\n",
       "0                            0                          0          Check-Out   \n",
       "1                            0                          0          Check-Out   \n",
       "2                            0                          0          Check-Out   \n",
       "3                            0                          0          Check-Out   \n",
       "4                            0                          1          Check-Out   \n",
       "\n",
       "  reservation_status_date total_guests total_stay_in_nights has_minors  \\\n",
       "0              2015-07-01            2                    0          0   \n",
       "1              2015-07-01            2                    0          0   \n",
       "2              2015-07-02            1                    1          0   \n",
       "3              2015-07-02            1                    1          0   \n",
       "4              2015-07-03            2                    2          0   \n",
       "\n",
       "   room_type_changed  cancelations_ratio    country_name  \n",
       "0                  0                   0        Portugal  \n",
       "1                  0                   0        Portugal  \n",
       "2                  1                   0  United Kingdom  \n",
       "3                  0                   0  United Kingdom  \n",
       "4                  0                   0  United Kingdom  \n",
       "\n",
       "[5 rows x 36 columns]"
      ]
     },
     "execution_count": 39,
     "metadata": {},
     "output_type": "execute_result"
    }
   ],
   "source": [
    "import pycountry as pc\n",
    "paises_df = no_cancelados.copy()\n",
    "def country_flag(df):\n",
    "    list_alpha_2 = [i.alpha_2 for i in list(pc.countries)]\n",
    "    list_alpha_3 = [i.alpha_3 for i in list(pc.countries)] \n",
    "    if (len(df['country'])==2 and df['country'] in list_alpha_2):\n",
    "        return pc.countries.get(alpha_2=df['country']).name\n",
    "    elif (len(df['country'])==3 and df['country'] in list_alpha_3):\n",
    "        return pc.countries.get(alpha_3=df['country']).name\n",
    "    else:\n",
    "        return 'Invalid Code'\n",
    "\n",
    "paises_df['country_name']=paises_df.apply(country_flag, axis = 1)\n",
    "paises_df.head()"
   ]
  },
  {
   "cell_type": "code",
   "execution_count": 40,
   "metadata": {
    "colab": {
     "base_uri": "https://localhost:8080/",
     "height": 318
    },
    "executionInfo": {
     "elapsed": 8,
     "status": "ok",
     "timestamp": 1632169023109,
     "user": {
      "displayName": "Viridiana Valencia",
      "photoUrl": "https://lh3.googleusercontent.com/a/default-user=s64",
      "userId": "05838258711225855733"
     },
     "user_tz": 420
    },
    "id": "lk21__k6kN1M",
    "outputId": "14af845f-b282-4ad6-a0e3-b6b955d3e76a"
   },
   "outputs": [
    {
     "data": {
      "image/png": "[encoded data removed]",
      "text/plain": [
       "<Figure size 1080x360 with 1 Axes>"
      ]
     },
     "metadata": {
      "needs_background": "light"
     },
     "output_type": "display_data"
    }
   ],
   "source": [
    "plt.figure(figsize=(15,5))\n",
    "paises_df['country_name'].value_counts()[:15].plot(kind='bar');\n",
    "plt.title('Número de Reservaciones por País del Huésped - Top 15', size=20)\n",
    "plt.xlabel('País',size=14)\n",
    "plt.ylabel('Nro. Reservaciones',size=14)\n",
    "plt.show()"
   ]
  },
  {
   "cell_type": "markdown",
   "metadata": {
    "id": "uaMWJmzUvbB7"
   },
   "source": [
    "### El 68% de los huespedes provienen de Portugal, Reino Unido, Francia, España y Alemania."
   ]
  },
  {
   "cell_type": "markdown",
   "metadata": {
    "id": "5SwSodFMtp5E"
   },
   "source": [
    "## 6. ¿Cuánto tiempo se quedan los huéspedes?"
   ]
  },
  {
   "cell_type": "code",
   "execution_count": 41,
   "metadata": {
    "executionInfo": {
     "elapsed": 6,
     "status": "ok",
     "timestamp": 1632169023109,
     "user": {
      "displayName": "Viridiana Valencia",
      "photoUrl": "https://lh3.googleusercontent.com/a/default-user=s64",
      "userId": "05838258711225855733"
     },
     "user_tz": 420
    },
    "id": "9IkbbWDDw5Tl",
    "outputId": "7997bd21-3e33-4d12-a40c-fd5a9366be6d"
   },
   "outputs": [
    {
     "data": {
      "image/png": "[encoded data removed]",
      "text/plain": [
       "<Figure size 1080x360 with 1 Axes>"
      ]
     },
     "metadata": {
      "needs_background": "light"
     },
     "output_type": "display_data"
    }
   ],
   "source": [
    "plt.figure(figsize=(15,5))\n",
    "data['total_stay_in_nights'].value_counts()[:15].plot(kind='bar');\n",
    "plt.title('Número de Noches de Estadía por Reservación - Top 15', size=20)\n",
    "plt.xlabel('Días',size=14)\n",
    "plt.ylabel('Nro. Reservaciones',size=14)\n",
    "plt.show()"
   ]
  },
  {
   "cell_type": "markdown",
   "metadata": {
    "id": "1gS3iMLIw4GA"
   },
   "source": [
    "## 7. ¿Qué tipo de estancias son más frecuentes?"
   ]
  },
  {
   "cell_type": "code",
   "execution_count": 42,
   "metadata": {
    "executionInfo": {
     "elapsed": 7,
     "status": "ok",
     "timestamp": 1632169023110,
     "user": {
      "displayName": "Viridiana Valencia",
      "photoUrl": "https://lh3.googleusercontent.com/a/default-user=s64",
      "userId": "05838258711225855733"
     },
     "user_tz": 420
    },
    "id": "HC3tWCuXw3vO",
    "outputId": "4c319db6-8d45-40c1-8437-71e415306d55"
   },
   "outputs": [
    {
     "data": {
      "image/png": "[encoded data removed]",
      "text/plain": [
       "<Figure size 576x360 with 1 Axes>"
      ]
     },
     "metadata": {
      "needs_background": "light"
     },
     "output_type": "display_data"
    }
   ],
   "source": [
    "plt.figure(figsize=(8,5))\n",
    "sns.countplot(x='customer_type', hue='hotel',  data = no_cancelados)\n",
    "plt.title(\"Total de Reservaciones por Tipo de Cliente, discriminado por Tipo de Hotel\", fontsize=16)\n",
    "plt.xlabel(\"Tipo de Cliente\", fontsize=14)\n",
    "plt.ylabel(\"Número de Reservaciones\", fontsize=14)\n",
    "plt.legend(title=\"Tipo de Hotel\")\n",
    "plt.show()"
   ]
  },
  {
   "cell_type": "markdown",
   "metadata": {
    "id": "YPYsPTdbymuP"
   },
   "source": [
    "## 8. ¿Cuáles tipos de huéspedes presentan un mayor ADR?"
   ]
  },
  {
   "cell_type": "code",
   "execution_count": 43,
   "metadata": {
    "id": "sRnHT-J7ymuP",
    "outputId": "8d3a2812-f320-4bb6-c6d6-d2994977e0d1"
   },
   "outputs": [
    {
     "data": {
      "image/png": "[encoded data removed]",
      "text/plain": [
       "<Figure size 720x360 with 1 Axes>"
      ]
     },
     "metadata": {
      "needs_background": "light"
     },
     "output_type": "display_data"
    }
   ],
   "source": [
    "plt.figure(figsize=(10,5))\n",
    "sns.barplot(data=data, x=\"customer_type\" , y=\"adr\", hue=\"hotel\", ci=None)\n",
    "plt.title('Consumo Diario Promedio por Tipo de Cliente y Tipo de Hotel', fontsize=16)\n",
    "plt.ylabel('Consumo Diario Promedio', fontsize=14)\n",
    "plt.xlabel('Tipo de Cliente', fontsize=14)\n",
    "plt.legend(title=\"Tipo de Hotel\", labels=[\"Resort\", \"Hotel de Ciudad\"])\n",
    "plt.show()"
   ]
  },
  {
   "cell_type": "markdown",
   "metadata": {
    "id": "nOG62o8hymuQ"
   },
   "source": [
    "### Se puede observar que el ingreso promedio por habitación es mayor en el grupo de clientes transitorios, tanto para hoteles de ciudad como resorts."
   ]
  },
  {
   "cell_type": "markdown",
   "metadata": {
    "id": "uU6WVdATymuQ"
   },
   "source": [
    "## 9. ¿Cuál es la distribución del ADR a través de los distintos meses del año?"
   ]
  },
  {
   "cell_type": "code",
   "execution_count": 44,
   "metadata": {
    "id": "QrF53AfaymuQ",
    "outputId": "e03a1932-053d-4ca1-f917-9cd4787035b2"
   },
   "outputs": [
    {
     "data": {
      "image/png": "[encoded data removed]",
      "text/plain": [
       "<Figure size 864x432 with 1 Axes>"
      ]
     },
     "metadata": {
      "needs_background": "light"
     },
     "output_type": "display_data"
    }
   ],
   "source": [
    "plt.figure(figsize=(12,6))\n",
    "sns.barplot(data=data, x=\"arrival_date_month\" , y=\"adr\", hue=\"hotel\", ci=None)\n",
    "plt.title('Consumo Diario Promedio por Mes y Estado de Cancelacion', fontsize=16)\n",
    "plt.ylabel('Consumo Diario Promedio', fontsize=14)\n",
    "plt.xlabel('Mes', fontsize=14)\n",
    "plt.legend(title=\"Tipo de Hotel\", labels=[\"Resort\", \"Hotel de Ciudad\"])\n",
    "plt.show()"
   ]
  },
  {
   "cell_type": "markdown",
   "metadata": {
    "id": "Q9IE3EWnymuQ"
   },
   "source": [
    "### Se puede ver que para los hoteles de tipo resort los meses de Julio y Agosto son los que mayor ADR presentan, además la diferencia entre estos meses y los demás es sustancial, siendo estos los meses de mayor ingreso. Mientras tanto para el hotel de ciudad el ADR presenta diferencias menos marcadas alrededor del año, siendo los meses de mas ingreso Mayo y Junio. "
   ]
  },
  {
   "cell_type": "markdown",
   "metadata": {
    "id": "K45r1HP3ymuR"
   },
   "source": [
    "## Heatmap de correlaciones de variables"
   ]
  },
  {
   "cell_type": "code",
   "execution_count": 45,
   "metadata": {
    "colab": {
     "base_uri": "https://localhost:8080/",
     "height": 874
    },
    "executionInfo": {
     "elapsed": 2534,
     "status": "ok",
     "timestamp": 1632169025637,
     "user": {
      "displayName": "Viridiana Valencia",
      "photoUrl": "https://lh3.googleusercontent.com/a/default-user=s64",
      "userId": "05838258711225855733"
     },
     "user_tz": 420
    },
    "id": "IwVDQ6Mmxwoo",
    "outputId": "61547f58-f97a-496a-9a71-ae45c94ee27b"
   },
   "outputs": [
    {
     "data": {
      "image/png": "[encoded data removed]",
      "text/plain": [
       "<Figure size 1440x1440 with 2 Axes>"
      ]
     },
     "metadata": {
      "needs_background": "light"
     },
     "output_type": "display_data"
    }
   ],
   "source": [
    "plt.rcParams['figure.figsize'] = (20, 20)\n",
    "sns.heatmap(data.corr(), annot = True, cmap = 'Wistia')\n",
    "plt.title('Reservaciones de Hoteles - Heatmap del Dataset', fontsize = 20)\n",
    "plt.show()"
   ]
  }
 ],
 "metadata": {
  "colab": {
   "collapsed_sections": [
    "V3sTHdJOqr6D",
    "I8RigzrKqr6F",
    "Z6lzUscG8-Rj",
    "jlEDZuauqr6G",
    "eEcBwz67qr6G",
    "tLrx83LXqr6G",
    "pLpfRl9Lqr6H",
    "w6ICrJ72TtJA",
    "2DP57AMVY47f"
   ],
   "name": "CancelacionesHotel_primera_entrega.ipynb",
   "provenance": [
    {
     "file_id": "1wETB21X3Vzigr71sbyh6UNMKdKO5n-Iv",
     "timestamp": 1632127760066
    },
    {
     "file_id": "1SX3xLmAS_yzMNqmzG5rX7oyAO72-IoGd",
     "timestamp": 1632127538558
    }
   ]
  },
  "interpreter": {
   "hash": "6d3d7f938e6149fd8dc8bc2ec8b0f6a978a3b7167f8ff20496215f161395e086"
  },
  "kernelspec": {
   "display_name": "Python 3",
   "language": "python",
   "name": "python3"
  },
  "language_info": {
   "codemirror_mode": {
    "name": "ipython",
    "version": 3
   },
   "file_extension": ".py",
   "mimetype": "text/x-python",
   "name": "python",
   "nbconvert_exporter": "python",
   "pygments_lexer": "ipython3",
   "version": "3.9.1"
  }
 },
 "nbformat": 4,
 "nbformat_minor": 1
}
