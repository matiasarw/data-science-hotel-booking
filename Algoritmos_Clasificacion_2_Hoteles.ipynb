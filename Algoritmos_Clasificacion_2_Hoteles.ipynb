{
 "cells": [
  {
   "cell_type": "markdown",
   "source": [
    "# Reservas de Hotel\n",
    "*Elaborado por: Manuel Hernandez | Maria Alejandra Jaime | Matias | Viridiana Valencia*\n"
   ],
   "metadata": {
    "id": "eSboh7le2IjN"
   }
  },
  {
   "cell_type": "code",
   "execution_count": 1,
   "source": [
    "import warnings\r\n",
    "warnings.filterwarnings('ignore')\r\n",
    "import numpy as np\r\n",
    "import pandas as pd\r\n",
    "from matplotlib import pyplot as plt\r\n",
    "import seaborn as sns\r\n",
    "import pandas_profiling\r\n",
    "#%pip install pycountry\r\n",
    "import pycountry as pc\r\n",
    "from sklearn.model_selection import train_test_split\r\n",
    "from sklearn.metrics import accuracy_score, confusion_matrix, classification_report\r\n",
    "from sklearn.linear_model import LogisticRegression"
   ],
   "outputs": [],
   "metadata": {
    "executionInfo": {
     "elapsed": 533,
     "status": "ok",
     "timestamp": 1632400763852,
     "user": {
      "displayName": "Viridiana Valencia",
      "photoUrl": "https://lh3.googleusercontent.com/a/default-user=s64",
      "userId": "05838258711225855733"
     },
     "user_tz": 420
    },
    "id": "6e955Vpaqr55"
   }
  },
  {
   "cell_type": "code",
   "execution_count": 2,
   "source": [
    "df = pd.read_csv('hotel_booking.csv')"
   ],
   "outputs": [],
   "metadata": {
    "colab": {
     "base_uri": "https://localhost:8080/",
     "height": 408
    },
    "executionInfo": {
     "elapsed": 801,
     "status": "ok",
     "timestamp": 1632400764816,
     "user": {
      "displayName": "Viridiana Valencia",
      "photoUrl": "https://lh3.googleusercontent.com/a/default-user=s64",
      "userId": "05838258711225855733"
     },
     "user_tz": 420
    },
    "id": "yk6yaDcAqr58",
    "outputId": "d55b6450-6cc5-4016-aaae-4a2298b44615"
   }
  },
  {
   "cell_type": "markdown",
   "source": [
    "# Data Wrangling"
   ],
   "metadata": {
    "id": "NHmiQlXX3ldV"
   }
  },
  {
   "cell_type": "markdown",
   "source": [
    "En primer lugar, se debe manipular la data para modificar o eliminar registros, bien sea porque no son relevantes al estudio, necesiten algún tipo de edición para su uso dentro del modelo predictivo, o presenten valores desconocidos que requieran ser imputados o eliminados, entre otros. Para ello, empezaremos por conocer los tipos de datos y las cantidades de registros existentes de cada feature del dataset."
   ],
   "metadata": {
    "id": "eQBDkilMymt6"
   }
  },
  {
   "cell_type": "code",
   "execution_count": 3,
   "source": [
    "df.info()"
   ],
   "outputs": [
    {
     "output_type": "stream",
     "name": "stdout",
     "text": [
      "<class 'pandas.core.frame.DataFrame'>\n",
      "RangeIndex: 119390 entries, 0 to 119389\n",
      "Data columns (total 36 columns):\n",
      " #   Column                          Non-Null Count   Dtype  \n",
      "---  ------                          --------------   -----  \n",
      " 0   hotel                           119390 non-null  object \n",
      " 1   is_canceled                     119390 non-null  int64  \n",
      " 2   lead_time                       119390 non-null  int64  \n",
      " 3   arrival_date_year               119390 non-null  int64  \n",
      " 4   arrival_date_month              119390 non-null  object \n",
      " 5   arrival_date_week_number        119390 non-null  int64  \n",
      " 6   arrival_date_day_of_month       119390 non-null  int64  \n",
      " 7   stays_in_weekend_nights         119390 non-null  int64  \n",
      " 8   stays_in_week_nights            119390 non-null  int64  \n",
      " 9   adults                          119390 non-null  int64  \n",
      " 10  children                        119386 non-null  float64\n",
      " 11  babies                          119390 non-null  int64  \n",
      " 12  meal                            119390 non-null  object \n",
      " 13  country                         118902 non-null  object \n",
      " 14  market_segment                  119390 non-null  object \n",
      " 15  distribution_channel            119390 non-null  object \n",
      " 16  is_repeated_guest               119390 non-null  int64  \n",
      " 17  previous_cancellations          119390 non-null  int64  \n",
      " 18  previous_bookings_not_canceled  119390 non-null  int64  \n",
      " 19  reserved_room_type              119390 non-null  object \n",
      " 20  assigned_room_type              119390 non-null  object \n",
      " 21  booking_changes                 119390 non-null  int64  \n",
      " 22  deposit_type                    119390 non-null  object \n",
      " 23  agent                           103050 non-null  float64\n",
      " 24  company                         6797 non-null    float64\n",
      " 25  days_in_waiting_list            119390 non-null  int64  \n",
      " 26  customer_type                   119390 non-null  object \n",
      " 27  adr                             119390 non-null  float64\n",
      " 28  required_car_parking_spaces     119390 non-null  int64  \n",
      " 29  total_of_special_requests       119390 non-null  int64  \n",
      " 30  reservation_status              119390 non-null  object \n",
      " 31  reservation_status_date         119390 non-null  object \n",
      " 32  name                            119390 non-null  object \n",
      " 33  email                           119390 non-null  object \n",
      " 34  phone-number                    119390 non-null  object \n",
      " 35  credit_card                     119390 non-null  object \n",
      "dtypes: float64(4), int64(16), object(16)\n",
      "memory usage: 32.8+ MB\n"
     ]
    }
   ],
   "metadata": {
    "colab": {
     "base_uri": "https://localhost:8080/"
    },
    "executionInfo": {
     "elapsed": 12,
     "status": "ok",
     "timestamp": 1632400764816,
     "user": {
      "displayName": "Viridiana Valencia",
      "photoUrl": "https://lh3.googleusercontent.com/a/default-user=s64",
      "userId": "05838258711225855733"
     },
     "user_tz": 420
    },
    "id": "S7-9KyGPqr58",
    "outputId": "d5197cf2-15ed-460b-9fd2-13678d763747"
   }
  },
  {
   "cell_type": "markdown",
   "source": [
    "# Eliminar: agent, company, name, email, phone, credit card"
   ],
   "metadata": {
    "id": "7PjZ2EZ2qr59"
   }
  },
  {
   "cell_type": "code",
   "execution_count": 4,
   "source": [
    "prelim_df = df.copy()\r\n",
    "prelim_df = prelim_df.drop(columns=[\"agent\", \"company\", \"name\", \"email\", \"phone-number\", \"credit_card\"], axis=1)\r\n",
    "prelim_df.head()"
   ],
   "outputs": [
    {
     "output_type": "execute_result",
     "data": {
      "text/html": [
       "<div>\n",
       "<style scoped>\n",
       "    .dataframe tbody tr th:only-of-type {\n",
       "        vertical-align: middle;\n",
       "    }\n",
       "\n",
       "    .dataframe tbody tr th {\n",
       "        vertical-align: top;\n",
       "    }\n",
       "\n",
       "    .dataframe thead th {\n",
       "        text-align: right;\n",
       "    }\n",
       "</style>\n",
       "<table border=\"1\" class=\"dataframe\">\n",
       "  <thead>\n",
       "    <tr style=\"text-align: right;\">\n",
       "      <th></th>\n",
       "      <th>hotel</th>\n",
       "      <th>is_canceled</th>\n",
       "      <th>lead_time</th>\n",
       "      <th>arrival_date_year</th>\n",
       "      <th>arrival_date_month</th>\n",
       "      <th>arrival_date_week_number</th>\n",
       "      <th>arrival_date_day_of_month</th>\n",
       "      <th>stays_in_weekend_nights</th>\n",
       "      <th>stays_in_week_nights</th>\n",
       "      <th>adults</th>\n",
       "      <th>...</th>\n",
       "      <th>assigned_room_type</th>\n",
       "      <th>booking_changes</th>\n",
       "      <th>deposit_type</th>\n",
       "      <th>days_in_waiting_list</th>\n",
       "      <th>customer_type</th>\n",
       "      <th>adr</th>\n",
       "      <th>required_car_parking_spaces</th>\n",
       "      <th>total_of_special_requests</th>\n",
       "      <th>reservation_status</th>\n",
       "      <th>reservation_status_date</th>\n",
       "    </tr>\n",
       "  </thead>\n",
       "  <tbody>\n",
       "    <tr>\n",
       "      <th>0</th>\n",
       "      <td>Resort Hotel</td>\n",
       "      <td>0</td>\n",
       "      <td>342</td>\n",
       "      <td>2015</td>\n",
       "      <td>July</td>\n",
       "      <td>27</td>\n",
       "      <td>1</td>\n",
       "      <td>0</td>\n",
       "      <td>0</td>\n",
       "      <td>2</td>\n",
       "      <td>...</td>\n",
       "      <td>C</td>\n",
       "      <td>3</td>\n",
       "      <td>No Deposit</td>\n",
       "      <td>0</td>\n",
       "      <td>Transient</td>\n",
       "      <td>0.0</td>\n",
       "      <td>0</td>\n",
       "      <td>0</td>\n",
       "      <td>Check-Out</td>\n",
       "      <td>2015-07-01</td>\n",
       "    </tr>\n",
       "    <tr>\n",
       "      <th>1</th>\n",
       "      <td>Resort Hotel</td>\n",
       "      <td>0</td>\n",
       "      <td>737</td>\n",
       "      <td>2015</td>\n",
       "      <td>July</td>\n",
       "      <td>27</td>\n",
       "      <td>1</td>\n",
       "      <td>0</td>\n",
       "      <td>0</td>\n",
       "      <td>2</td>\n",
       "      <td>...</td>\n",
       "      <td>C</td>\n",
       "      <td>4</td>\n",
       "      <td>No Deposit</td>\n",
       "      <td>0</td>\n",
       "      <td>Transient</td>\n",
       "      <td>0.0</td>\n",
       "      <td>0</td>\n",
       "      <td>0</td>\n",
       "      <td>Check-Out</td>\n",
       "      <td>2015-07-01</td>\n",
       "    </tr>\n",
       "    <tr>\n",
       "      <th>2</th>\n",
       "      <td>Resort Hotel</td>\n",
       "      <td>0</td>\n",
       "      <td>7</td>\n",
       "      <td>2015</td>\n",
       "      <td>July</td>\n",
       "      <td>27</td>\n",
       "      <td>1</td>\n",
       "      <td>0</td>\n",
       "      <td>1</td>\n",
       "      <td>1</td>\n",
       "      <td>...</td>\n",
       "      <td>C</td>\n",
       "      <td>0</td>\n",
       "      <td>No Deposit</td>\n",
       "      <td>0</td>\n",
       "      <td>Transient</td>\n",
       "      <td>75.0</td>\n",
       "      <td>0</td>\n",
       "      <td>0</td>\n",
       "      <td>Check-Out</td>\n",
       "      <td>2015-07-02</td>\n",
       "    </tr>\n",
       "    <tr>\n",
       "      <th>3</th>\n",
       "      <td>Resort Hotel</td>\n",
       "      <td>0</td>\n",
       "      <td>13</td>\n",
       "      <td>2015</td>\n",
       "      <td>July</td>\n",
       "      <td>27</td>\n",
       "      <td>1</td>\n",
       "      <td>0</td>\n",
       "      <td>1</td>\n",
       "      <td>1</td>\n",
       "      <td>...</td>\n",
       "      <td>A</td>\n",
       "      <td>0</td>\n",
       "      <td>No Deposit</td>\n",
       "      <td>0</td>\n",
       "      <td>Transient</td>\n",
       "      <td>75.0</td>\n",
       "      <td>0</td>\n",
       "      <td>0</td>\n",
       "      <td>Check-Out</td>\n",
       "      <td>2015-07-02</td>\n",
       "    </tr>\n",
       "    <tr>\n",
       "      <th>4</th>\n",
       "      <td>Resort Hotel</td>\n",
       "      <td>0</td>\n",
       "      <td>14</td>\n",
       "      <td>2015</td>\n",
       "      <td>July</td>\n",
       "      <td>27</td>\n",
       "      <td>1</td>\n",
       "      <td>0</td>\n",
       "      <td>2</td>\n",
       "      <td>2</td>\n",
       "      <td>...</td>\n",
       "      <td>A</td>\n",
       "      <td>0</td>\n",
       "      <td>No Deposit</td>\n",
       "      <td>0</td>\n",
       "      <td>Transient</td>\n",
       "      <td>98.0</td>\n",
       "      <td>0</td>\n",
       "      <td>1</td>\n",
       "      <td>Check-Out</td>\n",
       "      <td>2015-07-03</td>\n",
       "    </tr>\n",
       "  </tbody>\n",
       "</table>\n",
       "<p>5 rows × 30 columns</p>\n",
       "</div>"
      ],
      "text/plain": [
       "          hotel  is_canceled  lead_time  arrival_date_year arrival_date_month  \\\n",
       "0  Resort Hotel            0        342               2015               July   \n",
       "1  Resort Hotel            0        737               2015               July   \n",
       "2  Resort Hotel            0          7               2015               July   \n",
       "3  Resort Hotel            0         13               2015               July   \n",
       "4  Resort Hotel            0         14               2015               July   \n",
       "\n",
       "   arrival_date_week_number  arrival_date_day_of_month  \\\n",
       "0                        27                          1   \n",
       "1                        27                          1   \n",
       "2                        27                          1   \n",
       "3                        27                          1   \n",
       "4                        27                          1   \n",
       "\n",
       "   stays_in_weekend_nights  stays_in_week_nights  adults  ...  \\\n",
       "0                        0                     0       2  ...   \n",
       "1                        0                     0       2  ...   \n",
       "2                        0                     1       1  ...   \n",
       "3                        0                     1       1  ...   \n",
       "4                        0                     2       2  ...   \n",
       "\n",
       "   assigned_room_type  booking_changes deposit_type days_in_waiting_list  \\\n",
       "0                   C                3   No Deposit                    0   \n",
       "1                   C                4   No Deposit                    0   \n",
       "2                   C                0   No Deposit                    0   \n",
       "3                   A                0   No Deposit                    0   \n",
       "4                   A                0   No Deposit                    0   \n",
       "\n",
       "  customer_type   adr  required_car_parking_spaces  total_of_special_requests  \\\n",
       "0     Transient   0.0                            0                          0   \n",
       "1     Transient   0.0                            0                          0   \n",
       "2     Transient  75.0                            0                          0   \n",
       "3     Transient  75.0                            0                          0   \n",
       "4     Transient  98.0                            0                          1   \n",
       "\n",
       "   reservation_status reservation_status_date  \n",
       "0           Check-Out              2015-07-01  \n",
       "1           Check-Out              2015-07-01  \n",
       "2           Check-Out              2015-07-02  \n",
       "3           Check-Out              2015-07-02  \n",
       "4           Check-Out              2015-07-03  \n",
       "\n",
       "[5 rows x 30 columns]"
      ]
     },
     "metadata": {},
     "execution_count": 4
    }
   ],
   "metadata": {
    "colab": {
     "base_uri": "https://localhost:8080/",
     "height": 307
    },
    "executionInfo": {
     "elapsed": 235,
     "status": "ok",
     "timestamp": 1632400765047,
     "user": {
      "displayName": "Viridiana Valencia",
      "photoUrl": "https://lh3.googleusercontent.com/a/default-user=s64",
      "userId": "05838258711225855733"
     },
     "user_tz": 420
    },
    "id": "TRy_8Adzqr5_",
    "outputId": "18731c32-5158-457a-d8a1-16e2df9173a3"
   }
  },
  {
   "cell_type": "markdown",
   "source": [
    "# Valores Missing"
   ],
   "metadata": {
    "id": "-zDnmj7Oqr5_"
   }
  },
  {
   "cell_type": "code",
   "execution_count": 5,
   "source": [
    "features = prelim_df.columns.to_series()\r\n",
    "nan_counts = prelim_df.count()\r\n",
    "df_nan = pd.DataFrame(nan_counts).set_index(features)\r\n",
    "filt = df_nan[0] != df.shape[0]\r\n",
    "df_nan[filt]"
   ],
   "outputs": [
    {
     "output_type": "execute_result",
     "data": {
      "text/html": [
       "<div>\n",
       "<style scoped>\n",
       "    .dataframe tbody tr th:only-of-type {\n",
       "        vertical-align: middle;\n",
       "    }\n",
       "\n",
       "    .dataframe tbody tr th {\n",
       "        vertical-align: top;\n",
       "    }\n",
       "\n",
       "    .dataframe thead th {\n",
       "        text-align: right;\n",
       "    }\n",
       "</style>\n",
       "<table border=\"1\" class=\"dataframe\">\n",
       "  <thead>\n",
       "    <tr style=\"text-align: right;\">\n",
       "      <th></th>\n",
       "      <th>0</th>\n",
       "    </tr>\n",
       "  </thead>\n",
       "  <tbody>\n",
       "    <tr>\n",
       "      <th>children</th>\n",
       "      <td>119386</td>\n",
       "    </tr>\n",
       "    <tr>\n",
       "      <th>country</th>\n",
       "      <td>118902</td>\n",
       "    </tr>\n",
       "  </tbody>\n",
       "</table>\n",
       "</div>"
      ],
      "text/plain": [
       "               0\n",
       "children  119386\n",
       "country   118902"
      ]
     },
     "metadata": {},
     "execution_count": 5
    }
   ],
   "metadata": {
    "colab": {
     "base_uri": "https://localhost:8080/",
     "height": 110
    },
    "executionInfo": {
     "elapsed": 9,
     "status": "ok",
     "timestamp": 1632400765048,
     "user": {
      "displayName": "Viridiana Valencia",
      "photoUrl": "https://lh3.googleusercontent.com/a/default-user=s64",
      "userId": "05838258711225855733"
     },
     "user_tz": 420
    },
    "id": "ehC2I8_Aqr6A",
    "outputId": "1133906b-aeb9-4546-aeea-fba515193489"
   }
  },
  {
   "cell_type": "code",
   "execution_count": 6,
   "source": [
    "# Children\r\n",
    "prelim_df.children.fillna(0,inplace=True)\r\n",
    "df_nan = pd.DataFrame(prelim_df.count()).set_index(features)\r\n",
    "df_nan[filt]"
   ],
   "outputs": [
    {
     "output_type": "execute_result",
     "data": {
      "text/html": [
       "<div>\n",
       "<style scoped>\n",
       "    .dataframe tbody tr th:only-of-type {\n",
       "        vertical-align: middle;\n",
       "    }\n",
       "\n",
       "    .dataframe tbody tr th {\n",
       "        vertical-align: top;\n",
       "    }\n",
       "\n",
       "    .dataframe thead th {\n",
       "        text-align: right;\n",
       "    }\n",
       "</style>\n",
       "<table border=\"1\" class=\"dataframe\">\n",
       "  <thead>\n",
       "    <tr style=\"text-align: right;\">\n",
       "      <th></th>\n",
       "      <th>0</th>\n",
       "    </tr>\n",
       "  </thead>\n",
       "  <tbody>\n",
       "    <tr>\n",
       "      <th>children</th>\n",
       "      <td>119390</td>\n",
       "    </tr>\n",
       "    <tr>\n",
       "      <th>country</th>\n",
       "      <td>118902</td>\n",
       "    </tr>\n",
       "  </tbody>\n",
       "</table>\n",
       "</div>"
      ],
      "text/plain": [
       "               0\n",
       "children  119390\n",
       "country   118902"
      ]
     },
     "metadata": {},
     "execution_count": 6
    }
   ],
   "metadata": {
    "colab": {
     "base_uri": "https://localhost:8080/",
     "height": 110
    },
    "executionInfo": {
     "elapsed": 9,
     "status": "ok",
     "timestamp": 1632400765049,
     "user": {
      "displayName": "Viridiana Valencia",
      "photoUrl": "https://lh3.googleusercontent.com/a/default-user=s64",
      "userId": "05838258711225855733"
     },
     "user_tz": 420
    },
    "id": "f-WO2ayCqr6B",
    "outputId": "c4c42256-289b-473f-8987-5d54d1edd1ec"
   }
  },
  {
   "cell_type": "code",
   "execution_count": 7,
   "source": [
    "# Country\r\n",
    "prelim_df.country.fillna('Unavailable',inplace=True)\r\n",
    "df_nan = pd.DataFrame(prelim_df.count()).set_index(features)\r\n",
    "df_nan[filt]"
   ],
   "outputs": [
    {
     "output_type": "execute_result",
     "data": {
      "text/html": [
       "<div>\n",
       "<style scoped>\n",
       "    .dataframe tbody tr th:only-of-type {\n",
       "        vertical-align: middle;\n",
       "    }\n",
       "\n",
       "    .dataframe tbody tr th {\n",
       "        vertical-align: top;\n",
       "    }\n",
       "\n",
       "    .dataframe thead th {\n",
       "        text-align: right;\n",
       "    }\n",
       "</style>\n",
       "<table border=\"1\" class=\"dataframe\">\n",
       "  <thead>\n",
       "    <tr style=\"text-align: right;\">\n",
       "      <th></th>\n",
       "      <th>0</th>\n",
       "    </tr>\n",
       "  </thead>\n",
       "  <tbody>\n",
       "    <tr>\n",
       "      <th>children</th>\n",
       "      <td>119390</td>\n",
       "    </tr>\n",
       "    <tr>\n",
       "      <th>country</th>\n",
       "      <td>119390</td>\n",
       "    </tr>\n",
       "  </tbody>\n",
       "</table>\n",
       "</div>"
      ],
      "text/plain": [
       "               0\n",
       "children  119390\n",
       "country   119390"
      ]
     },
     "metadata": {},
     "execution_count": 7
    }
   ],
   "metadata": {
    "colab": {
     "base_uri": "https://localhost:8080/",
     "height": 110
    },
    "executionInfo": {
     "elapsed": 215,
     "status": "ok",
     "timestamp": 1632400765255,
     "user": {
      "displayName": "Viridiana Valencia",
      "photoUrl": "https://lh3.googleusercontent.com/a/default-user=s64",
      "userId": "05838258711225855733"
     },
     "user_tz": 420
    },
    "id": "KpPWiUsNqr6B",
    "outputId": "420c1f56-7962-4ce2-a4af-994e5b81d5b6"
   }
  },
  {
   "cell_type": "markdown",
   "source": [
    "# Eliminar registros donde no hayan huéspedes adultos."
   ],
   "metadata": {
    "id": "ZknDaSEKymt9"
   }
  },
  {
   "cell_type": "code",
   "execution_count": 8,
   "source": [
    "# Cambiamos el tipo de variable de children a int\r\n",
    "prelim_df[\"children\"] = prelim_df[\"children\"].astype(int)"
   ],
   "outputs": [],
   "metadata": {
    "executionInfo": {
     "elapsed": 16,
     "status": "ok",
     "timestamp": 1632400765256,
     "user": {
      "displayName": "Viridiana Valencia",
      "photoUrl": "https://lh3.googleusercontent.com/a/default-user=s64",
      "userId": "05838258711225855733"
     },
     "user_tz": 420
    },
    "id": "rVTnKDqOqr6C"
   }
  },
  {
   "cell_type": "code",
   "execution_count": 9,
   "source": [
    "# Revisa si adultos == 0 y si es asi cambia adultos = 1 y niños = 0\r\n",
    "no_adult_df = prelim_df[(prelim_df[\"adults\"] == 0) & ((prelim_df[\"children\"] != 0)|(prelim_df[\"babies\"] != 0) )][\"adults\"]\r\n",
    "print(\"Registros que no tienen huespedes adultos pero huespedes de otro tipo -> \", no_adult_df.count())\r\n",
    "print(\"Dimension del dataframe actual -> \", prelim_df.shape)"
   ],
   "outputs": [
    {
     "output_type": "stream",
     "name": "stdout",
     "text": [
      "Registros que no tienen huespedes adultos pero huespedes de otro tipo ->  223\n",
      "Dimension del dataframe actual ->  (119390, 30)\n"
     ]
    }
   ],
   "metadata": {
    "colab": {
     "base_uri": "https://localhost:8080/"
    },
    "executionInfo": {
     "elapsed": 16,
     "status": "ok",
     "timestamp": 1632400765256,
     "user": {
      "displayName": "Viridiana Valencia",
      "photoUrl": "https://lh3.googleusercontent.com/a/default-user=s64",
      "userId": "05838258711225855733"
     },
     "user_tz": 420
    },
    "id": "zfA9OhBeqr6C",
    "outputId": "3e5b17a7-0ae2-4569-8d3e-6035704cd6c7"
   }
  },
  {
   "cell_type": "code",
   "execution_count": 10,
   "source": [
    "## Elimina los registros que cumplen la condicion anterior\r\n",
    "prelim_df = prelim_df.drop(no_adult_df.index)\r\n",
    "print(\"Dimension del dataframe actual -> \", prelim_df.shape)"
   ],
   "outputs": [
    {
     "output_type": "stream",
     "name": "stdout",
     "text": [
      "Dimension del dataframe actual ->  (119167, 30)\n"
     ]
    }
   ],
   "metadata": {
    "colab": {
     "base_uri": "https://localhost:8080/"
    },
    "executionInfo": {
     "elapsed": 240,
     "status": "ok",
     "timestamp": 1632400765487,
     "user": {
      "displayName": "Viridiana Valencia",
      "photoUrl": "https://lh3.googleusercontent.com/a/default-user=s64",
      "userId": "05838258711225855733"
     },
     "user_tz": 420
    },
    "id": "eUGXNYGFqr6D",
    "outputId": "7b341fd5-b729-4208-f531-b7eff6bf7e2d"
   }
  },
  {
   "cell_type": "markdown",
   "source": [
    "# Nuevas Features\n",
    "## Feature total huespedes (total_guests)"
   ],
   "metadata": {
    "id": "03yfvoHWqr6C"
   }
  },
  {
   "cell_type": "code",
   "execution_count": 11,
   "source": [
    "prelim_df[\"total_guests\"] = prelim_df[\"adults\"] + prelim_df[\"children\"] + prelim_df[\"babies\"]\r\n",
    "prelim_df.head().T"
   ],
   "outputs": [
    {
     "output_type": "execute_result",
     "data": {
      "text/html": [
       "<div>\n",
       "<style scoped>\n",
       "    .dataframe tbody tr th:only-of-type {\n",
       "        vertical-align: middle;\n",
       "    }\n",
       "\n",
       "    .dataframe tbody tr th {\n",
       "        vertical-align: top;\n",
       "    }\n",
       "\n",
       "    .dataframe thead th {\n",
       "        text-align: right;\n",
       "    }\n",
       "</style>\n",
       "<table border=\"1\" class=\"dataframe\">\n",
       "  <thead>\n",
       "    <tr style=\"text-align: right;\">\n",
       "      <th></th>\n",
       "      <th>0</th>\n",
       "      <th>1</th>\n",
       "      <th>2</th>\n",
       "      <th>3</th>\n",
       "      <th>4</th>\n",
       "    </tr>\n",
       "  </thead>\n",
       "  <tbody>\n",
       "    <tr>\n",
       "      <th>hotel</th>\n",
       "      <td>Resort Hotel</td>\n",
       "      <td>Resort Hotel</td>\n",
       "      <td>Resort Hotel</td>\n",
       "      <td>Resort Hotel</td>\n",
       "      <td>Resort Hotel</td>\n",
       "    </tr>\n",
       "    <tr>\n",
       "      <th>is_canceled</th>\n",
       "      <td>0</td>\n",
       "      <td>0</td>\n",
       "      <td>0</td>\n",
       "      <td>0</td>\n",
       "      <td>0</td>\n",
       "    </tr>\n",
       "    <tr>\n",
       "      <th>lead_time</th>\n",
       "      <td>342</td>\n",
       "      <td>737</td>\n",
       "      <td>7</td>\n",
       "      <td>13</td>\n",
       "      <td>14</td>\n",
       "    </tr>\n",
       "    <tr>\n",
       "      <th>arrival_date_year</th>\n",
       "      <td>2015</td>\n",
       "      <td>2015</td>\n",
       "      <td>2015</td>\n",
       "      <td>2015</td>\n",
       "      <td>2015</td>\n",
       "    </tr>\n",
       "    <tr>\n",
       "      <th>arrival_date_month</th>\n",
       "      <td>July</td>\n",
       "      <td>July</td>\n",
       "      <td>July</td>\n",
       "      <td>July</td>\n",
       "      <td>July</td>\n",
       "    </tr>\n",
       "    <tr>\n",
       "      <th>arrival_date_week_number</th>\n",
       "      <td>27</td>\n",
       "      <td>27</td>\n",
       "      <td>27</td>\n",
       "      <td>27</td>\n",
       "      <td>27</td>\n",
       "    </tr>\n",
       "    <tr>\n",
       "      <th>arrival_date_day_of_month</th>\n",
       "      <td>1</td>\n",
       "      <td>1</td>\n",
       "      <td>1</td>\n",
       "      <td>1</td>\n",
       "      <td>1</td>\n",
       "    </tr>\n",
       "    <tr>\n",
       "      <th>stays_in_weekend_nights</th>\n",
       "      <td>0</td>\n",
       "      <td>0</td>\n",
       "      <td>0</td>\n",
       "      <td>0</td>\n",
       "      <td>0</td>\n",
       "    </tr>\n",
       "    <tr>\n",
       "      <th>stays_in_week_nights</th>\n",
       "      <td>0</td>\n",
       "      <td>0</td>\n",
       "      <td>1</td>\n",
       "      <td>1</td>\n",
       "      <td>2</td>\n",
       "    </tr>\n",
       "    <tr>\n",
       "      <th>adults</th>\n",
       "      <td>2</td>\n",
       "      <td>2</td>\n",
       "      <td>1</td>\n",
       "      <td>1</td>\n",
       "      <td>2</td>\n",
       "    </tr>\n",
       "    <tr>\n",
       "      <th>children</th>\n",
       "      <td>0</td>\n",
       "      <td>0</td>\n",
       "      <td>0</td>\n",
       "      <td>0</td>\n",
       "      <td>0</td>\n",
       "    </tr>\n",
       "    <tr>\n",
       "      <th>babies</th>\n",
       "      <td>0</td>\n",
       "      <td>0</td>\n",
       "      <td>0</td>\n",
       "      <td>0</td>\n",
       "      <td>0</td>\n",
       "    </tr>\n",
       "    <tr>\n",
       "      <th>meal</th>\n",
       "      <td>BB</td>\n",
       "      <td>BB</td>\n",
       "      <td>BB</td>\n",
       "      <td>BB</td>\n",
       "      <td>BB</td>\n",
       "    </tr>\n",
       "    <tr>\n",
       "      <th>country</th>\n",
       "      <td>PRT</td>\n",
       "      <td>PRT</td>\n",
       "      <td>GBR</td>\n",
       "      <td>GBR</td>\n",
       "      <td>GBR</td>\n",
       "    </tr>\n",
       "    <tr>\n",
       "      <th>market_segment</th>\n",
       "      <td>Direct</td>\n",
       "      <td>Direct</td>\n",
       "      <td>Direct</td>\n",
       "      <td>Corporate</td>\n",
       "      <td>Online TA</td>\n",
       "    </tr>\n",
       "    <tr>\n",
       "      <th>distribution_channel</th>\n",
       "      <td>Direct</td>\n",
       "      <td>Direct</td>\n",
       "      <td>Direct</td>\n",
       "      <td>Corporate</td>\n",
       "      <td>TA/TO</td>\n",
       "    </tr>\n",
       "    <tr>\n",
       "      <th>is_repeated_guest</th>\n",
       "      <td>0</td>\n",
       "      <td>0</td>\n",
       "      <td>0</td>\n",
       "      <td>0</td>\n",
       "      <td>0</td>\n",
       "    </tr>\n",
       "    <tr>\n",
       "      <th>previous_cancellations</th>\n",
       "      <td>0</td>\n",
       "      <td>0</td>\n",
       "      <td>0</td>\n",
       "      <td>0</td>\n",
       "      <td>0</td>\n",
       "    </tr>\n",
       "    <tr>\n",
       "      <th>previous_bookings_not_canceled</th>\n",
       "      <td>0</td>\n",
       "      <td>0</td>\n",
       "      <td>0</td>\n",
       "      <td>0</td>\n",
       "      <td>0</td>\n",
       "    </tr>\n",
       "    <tr>\n",
       "      <th>reserved_room_type</th>\n",
       "      <td>C</td>\n",
       "      <td>C</td>\n",
       "      <td>A</td>\n",
       "      <td>A</td>\n",
       "      <td>A</td>\n",
       "    </tr>\n",
       "    <tr>\n",
       "      <th>assigned_room_type</th>\n",
       "      <td>C</td>\n",
       "      <td>C</td>\n",
       "      <td>C</td>\n",
       "      <td>A</td>\n",
       "      <td>A</td>\n",
       "    </tr>\n",
       "    <tr>\n",
       "      <th>booking_changes</th>\n",
       "      <td>3</td>\n",
       "      <td>4</td>\n",
       "      <td>0</td>\n",
       "      <td>0</td>\n",
       "      <td>0</td>\n",
       "    </tr>\n",
       "    <tr>\n",
       "      <th>deposit_type</th>\n",
       "      <td>No Deposit</td>\n",
       "      <td>No Deposit</td>\n",
       "      <td>No Deposit</td>\n",
       "      <td>No Deposit</td>\n",
       "      <td>No Deposit</td>\n",
       "    </tr>\n",
       "    <tr>\n",
       "      <th>days_in_waiting_list</th>\n",
       "      <td>0</td>\n",
       "      <td>0</td>\n",
       "      <td>0</td>\n",
       "      <td>0</td>\n",
       "      <td>0</td>\n",
       "    </tr>\n",
       "    <tr>\n",
       "      <th>customer_type</th>\n",
       "      <td>Transient</td>\n",
       "      <td>Transient</td>\n",
       "      <td>Transient</td>\n",
       "      <td>Transient</td>\n",
       "      <td>Transient</td>\n",
       "    </tr>\n",
       "    <tr>\n",
       "      <th>adr</th>\n",
       "      <td>0.0</td>\n",
       "      <td>0.0</td>\n",
       "      <td>75.0</td>\n",
       "      <td>75.0</td>\n",
       "      <td>98.0</td>\n",
       "    </tr>\n",
       "    <tr>\n",
       "      <th>required_car_parking_spaces</th>\n",
       "      <td>0</td>\n",
       "      <td>0</td>\n",
       "      <td>0</td>\n",
       "      <td>0</td>\n",
       "      <td>0</td>\n",
       "    </tr>\n",
       "    <tr>\n",
       "      <th>total_of_special_requests</th>\n",
       "      <td>0</td>\n",
       "      <td>0</td>\n",
       "      <td>0</td>\n",
       "      <td>0</td>\n",
       "      <td>1</td>\n",
       "    </tr>\n",
       "    <tr>\n",
       "      <th>reservation_status</th>\n",
       "      <td>Check-Out</td>\n",
       "      <td>Check-Out</td>\n",
       "      <td>Check-Out</td>\n",
       "      <td>Check-Out</td>\n",
       "      <td>Check-Out</td>\n",
       "    </tr>\n",
       "    <tr>\n",
       "      <th>reservation_status_date</th>\n",
       "      <td>2015-07-01</td>\n",
       "      <td>2015-07-01</td>\n",
       "      <td>2015-07-02</td>\n",
       "      <td>2015-07-02</td>\n",
       "      <td>2015-07-03</td>\n",
       "    </tr>\n",
       "    <tr>\n",
       "      <th>total_guests</th>\n",
       "      <td>2</td>\n",
       "      <td>2</td>\n",
       "      <td>1</td>\n",
       "      <td>1</td>\n",
       "      <td>2</td>\n",
       "    </tr>\n",
       "  </tbody>\n",
       "</table>\n",
       "</div>"
      ],
      "text/plain": [
       "                                           0             1             2  \\\n",
       "hotel                           Resort Hotel  Resort Hotel  Resort Hotel   \n",
       "is_canceled                                0             0             0   \n",
       "lead_time                                342           737             7   \n",
       "arrival_date_year                       2015          2015          2015   \n",
       "arrival_date_month                      July          July          July   \n",
       "arrival_date_week_number                  27            27            27   \n",
       "arrival_date_day_of_month                  1             1             1   \n",
       "stays_in_weekend_nights                    0             0             0   \n",
       "stays_in_week_nights                       0             0             1   \n",
       "adults                                     2             2             1   \n",
       "children                                   0             0             0   \n",
       "babies                                     0             0             0   \n",
       "meal                                      BB            BB            BB   \n",
       "country                                  PRT           PRT           GBR   \n",
       "market_segment                        Direct        Direct        Direct   \n",
       "distribution_channel                  Direct        Direct        Direct   \n",
       "is_repeated_guest                          0             0             0   \n",
       "previous_cancellations                     0             0             0   \n",
       "previous_bookings_not_canceled             0             0             0   \n",
       "reserved_room_type                         C             C             A   \n",
       "assigned_room_type                         C             C             C   \n",
       "booking_changes                            3             4             0   \n",
       "deposit_type                      No Deposit    No Deposit    No Deposit   \n",
       "days_in_waiting_list                       0             0             0   \n",
       "customer_type                      Transient     Transient     Transient   \n",
       "adr                                      0.0           0.0          75.0   \n",
       "required_car_parking_spaces                0             0             0   \n",
       "total_of_special_requests                  0             0             0   \n",
       "reservation_status                 Check-Out     Check-Out     Check-Out   \n",
       "reservation_status_date           2015-07-01    2015-07-01    2015-07-02   \n",
       "total_guests                               2             2             1   \n",
       "\n",
       "                                           3             4  \n",
       "hotel                           Resort Hotel  Resort Hotel  \n",
       "is_canceled                                0             0  \n",
       "lead_time                                 13            14  \n",
       "arrival_date_year                       2015          2015  \n",
       "arrival_date_month                      July          July  \n",
       "arrival_date_week_number                  27            27  \n",
       "arrival_date_day_of_month                  1             1  \n",
       "stays_in_weekend_nights                    0             0  \n",
       "stays_in_week_nights                       1             2  \n",
       "adults                                     1             2  \n",
       "children                                   0             0  \n",
       "babies                                     0             0  \n",
       "meal                                      BB            BB  \n",
       "country                                  GBR           GBR  \n",
       "market_segment                     Corporate     Online TA  \n",
       "distribution_channel               Corporate         TA/TO  \n",
       "is_repeated_guest                          0             0  \n",
       "previous_cancellations                     0             0  \n",
       "previous_bookings_not_canceled             0             0  \n",
       "reserved_room_type                         A             A  \n",
       "assigned_room_type                         A             A  \n",
       "booking_changes                            0             0  \n",
       "deposit_type                      No Deposit    No Deposit  \n",
       "days_in_waiting_list                       0             0  \n",
       "customer_type                      Transient     Transient  \n",
       "adr                                     75.0          98.0  \n",
       "required_car_parking_spaces                0             0  \n",
       "total_of_special_requests                  0             1  \n",
       "reservation_status                 Check-Out     Check-Out  \n",
       "reservation_status_date           2015-07-02    2015-07-03  \n",
       "total_guests                               1             2  "
      ]
     },
     "metadata": {},
     "execution_count": 11
    }
   ],
   "metadata": {
    "colab": {
     "base_uri": "https://localhost:8080/",
     "height": 1000
    },
    "executionInfo": {
     "elapsed": 16,
     "status": "ok",
     "timestamp": 1632400765492,
     "user": {
      "displayName": "Viridiana Valencia",
      "photoUrl": "https://lh3.googleusercontent.com/a/default-user=s64",
      "userId": "05838258711225855733"
     },
     "user_tz": 420
    },
    "id": "TsS73NYuqr6D",
    "outputId": "94f08e98-0915-49b4-cd5c-17da4836c177"
   }
  },
  {
   "cell_type": "markdown",
   "source": [
    "## Feature total días en el hotel (total_stay_in_nights)"
   ],
   "metadata": {
    "id": "V3sTHdJOqr6D"
   }
  },
  {
   "cell_type": "code",
   "execution_count": 12,
   "source": [
    "prelim_df[\"total_stay_in_nights\"] = prelim_df[\"stays_in_week_nights\"] + prelim_df[\"stays_in_weekend_nights\"]\r\n",
    "prelim_df.head().T"
   ],
   "outputs": [
    {
     "output_type": "execute_result",
     "data": {
      "text/html": [
       "<div>\n",
       "<style scoped>\n",
       "    .dataframe tbody tr th:only-of-type {\n",
       "        vertical-align: middle;\n",
       "    }\n",
       "\n",
       "    .dataframe tbody tr th {\n",
       "        vertical-align: top;\n",
       "    }\n",
       "\n",
       "    .dataframe thead th {\n",
       "        text-align: right;\n",
       "    }\n",
       "</style>\n",
       "<table border=\"1\" class=\"dataframe\">\n",
       "  <thead>\n",
       "    <tr style=\"text-align: right;\">\n",
       "      <th></th>\n",
       "      <th>0</th>\n",
       "      <th>1</th>\n",
       "      <th>2</th>\n",
       "      <th>3</th>\n",
       "      <th>4</th>\n",
       "    </tr>\n",
       "  </thead>\n",
       "  <tbody>\n",
       "    <tr>\n",
       "      <th>hotel</th>\n",
       "      <td>Resort Hotel</td>\n",
       "      <td>Resort Hotel</td>\n",
       "      <td>Resort Hotel</td>\n",
       "      <td>Resort Hotel</td>\n",
       "      <td>Resort Hotel</td>\n",
       "    </tr>\n",
       "    <tr>\n",
       "      <th>is_canceled</th>\n",
       "      <td>0</td>\n",
       "      <td>0</td>\n",
       "      <td>0</td>\n",
       "      <td>0</td>\n",
       "      <td>0</td>\n",
       "    </tr>\n",
       "    <tr>\n",
       "      <th>lead_time</th>\n",
       "      <td>342</td>\n",
       "      <td>737</td>\n",
       "      <td>7</td>\n",
       "      <td>13</td>\n",
       "      <td>14</td>\n",
       "    </tr>\n",
       "    <tr>\n",
       "      <th>arrival_date_year</th>\n",
       "      <td>2015</td>\n",
       "      <td>2015</td>\n",
       "      <td>2015</td>\n",
       "      <td>2015</td>\n",
       "      <td>2015</td>\n",
       "    </tr>\n",
       "    <tr>\n",
       "      <th>arrival_date_month</th>\n",
       "      <td>July</td>\n",
       "      <td>July</td>\n",
       "      <td>July</td>\n",
       "      <td>July</td>\n",
       "      <td>July</td>\n",
       "    </tr>\n",
       "    <tr>\n",
       "      <th>arrival_date_week_number</th>\n",
       "      <td>27</td>\n",
       "      <td>27</td>\n",
       "      <td>27</td>\n",
       "      <td>27</td>\n",
       "      <td>27</td>\n",
       "    </tr>\n",
       "    <tr>\n",
       "      <th>arrival_date_day_of_month</th>\n",
       "      <td>1</td>\n",
       "      <td>1</td>\n",
       "      <td>1</td>\n",
       "      <td>1</td>\n",
       "      <td>1</td>\n",
       "    </tr>\n",
       "    <tr>\n",
       "      <th>stays_in_weekend_nights</th>\n",
       "      <td>0</td>\n",
       "      <td>0</td>\n",
       "      <td>0</td>\n",
       "      <td>0</td>\n",
       "      <td>0</td>\n",
       "    </tr>\n",
       "    <tr>\n",
       "      <th>stays_in_week_nights</th>\n",
       "      <td>0</td>\n",
       "      <td>0</td>\n",
       "      <td>1</td>\n",
       "      <td>1</td>\n",
       "      <td>2</td>\n",
       "    </tr>\n",
       "    <tr>\n",
       "      <th>adults</th>\n",
       "      <td>2</td>\n",
       "      <td>2</td>\n",
       "      <td>1</td>\n",
       "      <td>1</td>\n",
       "      <td>2</td>\n",
       "    </tr>\n",
       "    <tr>\n",
       "      <th>children</th>\n",
       "      <td>0</td>\n",
       "      <td>0</td>\n",
       "      <td>0</td>\n",
       "      <td>0</td>\n",
       "      <td>0</td>\n",
       "    </tr>\n",
       "    <tr>\n",
       "      <th>babies</th>\n",
       "      <td>0</td>\n",
       "      <td>0</td>\n",
       "      <td>0</td>\n",
       "      <td>0</td>\n",
       "      <td>0</td>\n",
       "    </tr>\n",
       "    <tr>\n",
       "      <th>meal</th>\n",
       "      <td>BB</td>\n",
       "      <td>BB</td>\n",
       "      <td>BB</td>\n",
       "      <td>BB</td>\n",
       "      <td>BB</td>\n",
       "    </tr>\n",
       "    <tr>\n",
       "      <th>country</th>\n",
       "      <td>PRT</td>\n",
       "      <td>PRT</td>\n",
       "      <td>GBR</td>\n",
       "      <td>GBR</td>\n",
       "      <td>GBR</td>\n",
       "    </tr>\n",
       "    <tr>\n",
       "      <th>market_segment</th>\n",
       "      <td>Direct</td>\n",
       "      <td>Direct</td>\n",
       "      <td>Direct</td>\n",
       "      <td>Corporate</td>\n",
       "      <td>Online TA</td>\n",
       "    </tr>\n",
       "    <tr>\n",
       "      <th>distribution_channel</th>\n",
       "      <td>Direct</td>\n",
       "      <td>Direct</td>\n",
       "      <td>Direct</td>\n",
       "      <td>Corporate</td>\n",
       "      <td>TA/TO</td>\n",
       "    </tr>\n",
       "    <tr>\n",
       "      <th>is_repeated_guest</th>\n",
       "      <td>0</td>\n",
       "      <td>0</td>\n",
       "      <td>0</td>\n",
       "      <td>0</td>\n",
       "      <td>0</td>\n",
       "    </tr>\n",
       "    <tr>\n",
       "      <th>previous_cancellations</th>\n",
       "      <td>0</td>\n",
       "      <td>0</td>\n",
       "      <td>0</td>\n",
       "      <td>0</td>\n",
       "      <td>0</td>\n",
       "    </tr>\n",
       "    <tr>\n",
       "      <th>previous_bookings_not_canceled</th>\n",
       "      <td>0</td>\n",
       "      <td>0</td>\n",
       "      <td>0</td>\n",
       "      <td>0</td>\n",
       "      <td>0</td>\n",
       "    </tr>\n",
       "    <tr>\n",
       "      <th>reserved_room_type</th>\n",
       "      <td>C</td>\n",
       "      <td>C</td>\n",
       "      <td>A</td>\n",
       "      <td>A</td>\n",
       "      <td>A</td>\n",
       "    </tr>\n",
       "    <tr>\n",
       "      <th>assigned_room_type</th>\n",
       "      <td>C</td>\n",
       "      <td>C</td>\n",
       "      <td>C</td>\n",
       "      <td>A</td>\n",
       "      <td>A</td>\n",
       "    </tr>\n",
       "    <tr>\n",
       "      <th>booking_changes</th>\n",
       "      <td>3</td>\n",
       "      <td>4</td>\n",
       "      <td>0</td>\n",
       "      <td>0</td>\n",
       "      <td>0</td>\n",
       "    </tr>\n",
       "    <tr>\n",
       "      <th>deposit_type</th>\n",
       "      <td>No Deposit</td>\n",
       "      <td>No Deposit</td>\n",
       "      <td>No Deposit</td>\n",
       "      <td>No Deposit</td>\n",
       "      <td>No Deposit</td>\n",
       "    </tr>\n",
       "    <tr>\n",
       "      <th>days_in_waiting_list</th>\n",
       "      <td>0</td>\n",
       "      <td>0</td>\n",
       "      <td>0</td>\n",
       "      <td>0</td>\n",
       "      <td>0</td>\n",
       "    </tr>\n",
       "    <tr>\n",
       "      <th>customer_type</th>\n",
       "      <td>Transient</td>\n",
       "      <td>Transient</td>\n",
       "      <td>Transient</td>\n",
       "      <td>Transient</td>\n",
       "      <td>Transient</td>\n",
       "    </tr>\n",
       "    <tr>\n",
       "      <th>adr</th>\n",
       "      <td>0.0</td>\n",
       "      <td>0.0</td>\n",
       "      <td>75.0</td>\n",
       "      <td>75.0</td>\n",
       "      <td>98.0</td>\n",
       "    </tr>\n",
       "    <tr>\n",
       "      <th>required_car_parking_spaces</th>\n",
       "      <td>0</td>\n",
       "      <td>0</td>\n",
       "      <td>0</td>\n",
       "      <td>0</td>\n",
       "      <td>0</td>\n",
       "    </tr>\n",
       "    <tr>\n",
       "      <th>total_of_special_requests</th>\n",
       "      <td>0</td>\n",
       "      <td>0</td>\n",
       "      <td>0</td>\n",
       "      <td>0</td>\n",
       "      <td>1</td>\n",
       "    </tr>\n",
       "    <tr>\n",
       "      <th>reservation_status</th>\n",
       "      <td>Check-Out</td>\n",
       "      <td>Check-Out</td>\n",
       "      <td>Check-Out</td>\n",
       "      <td>Check-Out</td>\n",
       "      <td>Check-Out</td>\n",
       "    </tr>\n",
       "    <tr>\n",
       "      <th>reservation_status_date</th>\n",
       "      <td>2015-07-01</td>\n",
       "      <td>2015-07-01</td>\n",
       "      <td>2015-07-02</td>\n",
       "      <td>2015-07-02</td>\n",
       "      <td>2015-07-03</td>\n",
       "    </tr>\n",
       "    <tr>\n",
       "      <th>total_guests</th>\n",
       "      <td>2</td>\n",
       "      <td>2</td>\n",
       "      <td>1</td>\n",
       "      <td>1</td>\n",
       "      <td>2</td>\n",
       "    </tr>\n",
       "    <tr>\n",
       "      <th>total_stay_in_nights</th>\n",
       "      <td>0</td>\n",
       "      <td>0</td>\n",
       "      <td>1</td>\n",
       "      <td>1</td>\n",
       "      <td>2</td>\n",
       "    </tr>\n",
       "  </tbody>\n",
       "</table>\n",
       "</div>"
      ],
      "text/plain": [
       "                                           0             1             2  \\\n",
       "hotel                           Resort Hotel  Resort Hotel  Resort Hotel   \n",
       "is_canceled                                0             0             0   \n",
       "lead_time                                342           737             7   \n",
       "arrival_date_year                       2015          2015          2015   \n",
       "arrival_date_month                      July          July          July   \n",
       "arrival_date_week_number                  27            27            27   \n",
       "arrival_date_day_of_month                  1             1             1   \n",
       "stays_in_weekend_nights                    0             0             0   \n",
       "stays_in_week_nights                       0             0             1   \n",
       "adults                                     2             2             1   \n",
       "children                                   0             0             0   \n",
       "babies                                     0             0             0   \n",
       "meal                                      BB            BB            BB   \n",
       "country                                  PRT           PRT           GBR   \n",
       "market_segment                        Direct        Direct        Direct   \n",
       "distribution_channel                  Direct        Direct        Direct   \n",
       "is_repeated_guest                          0             0             0   \n",
       "previous_cancellations                     0             0             0   \n",
       "previous_bookings_not_canceled             0             0             0   \n",
       "reserved_room_type                         C             C             A   \n",
       "assigned_room_type                         C             C             C   \n",
       "booking_changes                            3             4             0   \n",
       "deposit_type                      No Deposit    No Deposit    No Deposit   \n",
       "days_in_waiting_list                       0             0             0   \n",
       "customer_type                      Transient     Transient     Transient   \n",
       "adr                                      0.0           0.0          75.0   \n",
       "required_car_parking_spaces                0             0             0   \n",
       "total_of_special_requests                  0             0             0   \n",
       "reservation_status                 Check-Out     Check-Out     Check-Out   \n",
       "reservation_status_date           2015-07-01    2015-07-01    2015-07-02   \n",
       "total_guests                               2             2             1   \n",
       "total_stay_in_nights                       0             0             1   \n",
       "\n",
       "                                           3             4  \n",
       "hotel                           Resort Hotel  Resort Hotel  \n",
       "is_canceled                                0             0  \n",
       "lead_time                                 13            14  \n",
       "arrival_date_year                       2015          2015  \n",
       "arrival_date_month                      July          July  \n",
       "arrival_date_week_number                  27            27  \n",
       "arrival_date_day_of_month                  1             1  \n",
       "stays_in_weekend_nights                    0             0  \n",
       "stays_in_week_nights                       1             2  \n",
       "adults                                     1             2  \n",
       "children                                   0             0  \n",
       "babies                                     0             0  \n",
       "meal                                      BB            BB  \n",
       "country                                  GBR           GBR  \n",
       "market_segment                     Corporate     Online TA  \n",
       "distribution_channel               Corporate         TA/TO  \n",
       "is_repeated_guest                          0             0  \n",
       "previous_cancellations                     0             0  \n",
       "previous_bookings_not_canceled             0             0  \n",
       "reserved_room_type                         A             A  \n",
       "assigned_room_type                         A             A  \n",
       "booking_changes                            0             0  \n",
       "deposit_type                      No Deposit    No Deposit  \n",
       "days_in_waiting_list                       0             0  \n",
       "customer_type                      Transient     Transient  \n",
       "adr                                     75.0          98.0  \n",
       "required_car_parking_spaces                0             0  \n",
       "total_of_special_requests                  0             1  \n",
       "reservation_status                 Check-Out     Check-Out  \n",
       "reservation_status_date           2015-07-02    2015-07-03  \n",
       "total_guests                               1             2  \n",
       "total_stay_in_nights                       1             2  "
      ]
     },
     "metadata": {},
     "execution_count": 12
    }
   ],
   "metadata": {
    "colab": {
     "base_uri": "https://localhost:8080/",
     "height": 0
    },
    "executionInfo": {
     "elapsed": 16,
     "status": "ok",
     "timestamp": 1632400765493,
     "user": {
      "displayName": "Viridiana Valencia",
      "photoUrl": "https://lh3.googleusercontent.com/a/default-user=s64",
      "userId": "05838258711225855733"
     },
     "user_tz": 420
    },
    "id": "H0AsUB2Hqr6E",
    "outputId": "39e61dd7-fa2b-4aa9-9c9b-5bd6590b45ae"
   }
  },
  {
   "cell_type": "code",
   "execution_count": 13,
   "source": [
    "# Cantidad de registros que tienen noches = 0 y que no fueron cancelados --- Son todos Check-Out\r\n",
    "nfilt = (prelim_df[\"total_stay_in_nights\"] == 0) & (prelim_df[\"is_canceled\"] != 1)\r\n",
    "prelim_df[nfilt][\"reservation_status\"].value_counts()"
   ],
   "outputs": [
    {
     "output_type": "execute_result",
     "data": {
      "text/plain": [
       "Check-Out    680\n",
       "Name: reservation_status, dtype: int64"
      ]
     },
     "metadata": {},
     "execution_count": 13
    }
   ],
   "metadata": {
    "colab": {
     "base_uri": "https://localhost:8080/"
    },
    "executionInfo": {
     "elapsed": 15,
     "status": "ok",
     "timestamp": 1632400765493,
     "user": {
      "displayName": "Viridiana Valencia",
      "photoUrl": "https://lh3.googleusercontent.com/a/default-user=s64",
      "userId": "05838258711225855733"
     },
     "user_tz": 420
    },
    "id": "qnYnNQPwqr6E",
    "outputId": "5d93475e-ff6b-44da-9216-bfb1e4157667"
   }
  },
  {
   "cell_type": "markdown",
   "source": [
    "## Feature que indique si hay niños en la reserva (has_minors)"
   ],
   "metadata": {
    "id": "s-qOGS1lqr6E"
   }
  },
  {
   "cell_type": "code",
   "execution_count": 14,
   "source": [
    "prelim_df[\"total_minors\"] = prelim_df[\"children\"] + prelim_df[\"babies\"]\r\n",
    "minors_filt = prelim_df[\"total_minors\"] > 0\r\n",
    "prelim_df[minors_filt][\"total_minors\"].value_counts()"
   ],
   "outputs": [
    {
     "output_type": "execute_result",
     "data": {
      "text/plain": [
       "1     5442\n",
       "2     3567\n",
       "3       97\n",
       "10       2\n",
       "9        1\n",
       "Name: total_minors, dtype: int64"
      ]
     },
     "metadata": {},
     "execution_count": 14
    }
   ],
   "metadata": {
    "colab": {
     "base_uri": "https://localhost:8080/"
    },
    "executionInfo": {
     "elapsed": 11,
     "status": "ok",
     "timestamp": 1632400765494,
     "user": {
      "displayName": "Viridiana Valencia",
      "photoUrl": "https://lh3.googleusercontent.com/a/default-user=s64",
      "userId": "05838258711225855733"
     },
     "user_tz": 420
    },
    "id": "xhZcIu1wqr6E",
    "outputId": "d3957c55-db55-4b18-f999-566f37845eb3"
   }
  },
  {
   "cell_type": "code",
   "execution_count": 15,
   "source": [
    "def hasMinors(minors):\r\n",
    "    val = 0\r\n",
    "    if (minors > 0):\r\n",
    "        val = 1\r\n",
    "    return val\r\n",
    "\r\n",
    "prelim_df[\"total_minors\"] = prelim_df[\"total_minors\"].apply(hasMinors)\r\n",
    "prelim_df = prelim_df.rename(columns={\"total_minors\": \"has_minors\"})\r\n",
    "prelim_df.head(15).T"
   ],
   "outputs": [
    {
     "output_type": "execute_result",
     "data": {
      "text/html": [
       "<div>\n",
       "<style scoped>\n",
       "    .dataframe tbody tr th:only-of-type {\n",
       "        vertical-align: middle;\n",
       "    }\n",
       "\n",
       "    .dataframe tbody tr th {\n",
       "        vertical-align: top;\n",
       "    }\n",
       "\n",
       "    .dataframe thead th {\n",
       "        text-align: right;\n",
       "    }\n",
       "</style>\n",
       "<table border=\"1\" class=\"dataframe\">\n",
       "  <thead>\n",
       "    <tr style=\"text-align: right;\">\n",
       "      <th></th>\n",
       "      <th>0</th>\n",
       "      <th>1</th>\n",
       "      <th>2</th>\n",
       "      <th>3</th>\n",
       "      <th>4</th>\n",
       "      <th>5</th>\n",
       "      <th>6</th>\n",
       "      <th>7</th>\n",
       "      <th>8</th>\n",
       "      <th>9</th>\n",
       "      <th>10</th>\n",
       "      <th>11</th>\n",
       "      <th>12</th>\n",
       "      <th>13</th>\n",
       "      <th>14</th>\n",
       "    </tr>\n",
       "  </thead>\n",
       "  <tbody>\n",
       "    <tr>\n",
       "      <th>hotel</th>\n",
       "      <td>Resort Hotel</td>\n",
       "      <td>Resort Hotel</td>\n",
       "      <td>Resort Hotel</td>\n",
       "      <td>Resort Hotel</td>\n",
       "      <td>Resort Hotel</td>\n",
       "      <td>Resort Hotel</td>\n",
       "      <td>Resort Hotel</td>\n",
       "      <td>Resort Hotel</td>\n",
       "      <td>Resort Hotel</td>\n",
       "      <td>Resort Hotel</td>\n",
       "      <td>Resort Hotel</td>\n",
       "      <td>Resort Hotel</td>\n",
       "      <td>Resort Hotel</td>\n",
       "      <td>Resort Hotel</td>\n",
       "      <td>Resort Hotel</td>\n",
       "    </tr>\n",
       "    <tr>\n",
       "      <th>is_canceled</th>\n",
       "      <td>0</td>\n",
       "      <td>0</td>\n",
       "      <td>0</td>\n",
       "      <td>0</td>\n",
       "      <td>0</td>\n",
       "      <td>0</td>\n",
       "      <td>0</td>\n",
       "      <td>0</td>\n",
       "      <td>1</td>\n",
       "      <td>1</td>\n",
       "      <td>1</td>\n",
       "      <td>0</td>\n",
       "      <td>0</td>\n",
       "      <td>0</td>\n",
       "      <td>0</td>\n",
       "    </tr>\n",
       "    <tr>\n",
       "      <th>lead_time</th>\n",
       "      <td>342</td>\n",
       "      <td>737</td>\n",
       "      <td>7</td>\n",
       "      <td>13</td>\n",
       "      <td>14</td>\n",
       "      <td>14</td>\n",
       "      <td>0</td>\n",
       "      <td>9</td>\n",
       "      <td>85</td>\n",
       "      <td>75</td>\n",
       "      <td>23</td>\n",
       "      <td>35</td>\n",
       "      <td>68</td>\n",
       "      <td>18</td>\n",
       "      <td>37</td>\n",
       "    </tr>\n",
       "    <tr>\n",
       "      <th>arrival_date_year</th>\n",
       "      <td>2015</td>\n",
       "      <td>2015</td>\n",
       "      <td>2015</td>\n",
       "      <td>2015</td>\n",
       "      <td>2015</td>\n",
       "      <td>2015</td>\n",
       "      <td>2015</td>\n",
       "      <td>2015</td>\n",
       "      <td>2015</td>\n",
       "      <td>2015</td>\n",
       "      <td>2015</td>\n",
       "      <td>2015</td>\n",
       "      <td>2015</td>\n",
       "      <td>2015</td>\n",
       "      <td>2015</td>\n",
       "    </tr>\n",
       "    <tr>\n",
       "      <th>arrival_date_month</th>\n",
       "      <td>July</td>\n",
       "      <td>July</td>\n",
       "      <td>July</td>\n",
       "      <td>July</td>\n",
       "      <td>July</td>\n",
       "      <td>July</td>\n",
       "      <td>July</td>\n",
       "      <td>July</td>\n",
       "      <td>July</td>\n",
       "      <td>July</td>\n",
       "      <td>July</td>\n",
       "      <td>July</td>\n",
       "      <td>July</td>\n",
       "      <td>July</td>\n",
       "      <td>July</td>\n",
       "    </tr>\n",
       "    <tr>\n",
       "      <th>arrival_date_week_number</th>\n",
       "      <td>27</td>\n",
       "      <td>27</td>\n",
       "      <td>27</td>\n",
       "      <td>27</td>\n",
       "      <td>27</td>\n",
       "      <td>27</td>\n",
       "      <td>27</td>\n",
       "      <td>27</td>\n",
       "      <td>27</td>\n",
       "      <td>27</td>\n",
       "      <td>27</td>\n",
       "      <td>27</td>\n",
       "      <td>27</td>\n",
       "      <td>27</td>\n",
       "      <td>27</td>\n",
       "    </tr>\n",
       "    <tr>\n",
       "      <th>arrival_date_day_of_month</th>\n",
       "      <td>1</td>\n",
       "      <td>1</td>\n",
       "      <td>1</td>\n",
       "      <td>1</td>\n",
       "      <td>1</td>\n",
       "      <td>1</td>\n",
       "      <td>1</td>\n",
       "      <td>1</td>\n",
       "      <td>1</td>\n",
       "      <td>1</td>\n",
       "      <td>1</td>\n",
       "      <td>1</td>\n",
       "      <td>1</td>\n",
       "      <td>1</td>\n",
       "      <td>1</td>\n",
       "    </tr>\n",
       "    <tr>\n",
       "      <th>stays_in_weekend_nights</th>\n",
       "      <td>0</td>\n",
       "      <td>0</td>\n",
       "      <td>0</td>\n",
       "      <td>0</td>\n",
       "      <td>0</td>\n",
       "      <td>0</td>\n",
       "      <td>0</td>\n",
       "      <td>0</td>\n",
       "      <td>0</td>\n",
       "      <td>0</td>\n",
       "      <td>0</td>\n",
       "      <td>0</td>\n",
       "      <td>0</td>\n",
       "      <td>0</td>\n",
       "      <td>0</td>\n",
       "    </tr>\n",
       "    <tr>\n",
       "      <th>stays_in_week_nights</th>\n",
       "      <td>0</td>\n",
       "      <td>0</td>\n",
       "      <td>1</td>\n",
       "      <td>1</td>\n",
       "      <td>2</td>\n",
       "      <td>2</td>\n",
       "      <td>2</td>\n",
       "      <td>2</td>\n",
       "      <td>3</td>\n",
       "      <td>3</td>\n",
       "      <td>4</td>\n",
       "      <td>4</td>\n",
       "      <td>4</td>\n",
       "      <td>4</td>\n",
       "      <td>4</td>\n",
       "    </tr>\n",
       "    <tr>\n",
       "      <th>adults</th>\n",
       "      <td>2</td>\n",
       "      <td>2</td>\n",
       "      <td>1</td>\n",
       "      <td>1</td>\n",
       "      <td>2</td>\n",
       "      <td>2</td>\n",
       "      <td>2</td>\n",
       "      <td>2</td>\n",
       "      <td>2</td>\n",
       "      <td>2</td>\n",
       "      <td>2</td>\n",
       "      <td>2</td>\n",
       "      <td>2</td>\n",
       "      <td>2</td>\n",
       "      <td>2</td>\n",
       "    </tr>\n",
       "    <tr>\n",
       "      <th>children</th>\n",
       "      <td>0</td>\n",
       "      <td>0</td>\n",
       "      <td>0</td>\n",
       "      <td>0</td>\n",
       "      <td>0</td>\n",
       "      <td>0</td>\n",
       "      <td>0</td>\n",
       "      <td>0</td>\n",
       "      <td>0</td>\n",
       "      <td>0</td>\n",
       "      <td>0</td>\n",
       "      <td>0</td>\n",
       "      <td>0</td>\n",
       "      <td>1</td>\n",
       "      <td>0</td>\n",
       "    </tr>\n",
       "    <tr>\n",
       "      <th>babies</th>\n",
       "      <td>0</td>\n",
       "      <td>0</td>\n",
       "      <td>0</td>\n",
       "      <td>0</td>\n",
       "      <td>0</td>\n",
       "      <td>0</td>\n",
       "      <td>0</td>\n",
       "      <td>0</td>\n",
       "      <td>0</td>\n",
       "      <td>0</td>\n",
       "      <td>0</td>\n",
       "      <td>0</td>\n",
       "      <td>0</td>\n",
       "      <td>0</td>\n",
       "      <td>0</td>\n",
       "    </tr>\n",
       "    <tr>\n",
       "      <th>meal</th>\n",
       "      <td>BB</td>\n",
       "      <td>BB</td>\n",
       "      <td>BB</td>\n",
       "      <td>BB</td>\n",
       "      <td>BB</td>\n",
       "      <td>BB</td>\n",
       "      <td>BB</td>\n",
       "      <td>FB</td>\n",
       "      <td>BB</td>\n",
       "      <td>HB</td>\n",
       "      <td>BB</td>\n",
       "      <td>HB</td>\n",
       "      <td>BB</td>\n",
       "      <td>HB</td>\n",
       "      <td>BB</td>\n",
       "    </tr>\n",
       "    <tr>\n",
       "      <th>country</th>\n",
       "      <td>PRT</td>\n",
       "      <td>PRT</td>\n",
       "      <td>GBR</td>\n",
       "      <td>GBR</td>\n",
       "      <td>GBR</td>\n",
       "      <td>GBR</td>\n",
       "      <td>PRT</td>\n",
       "      <td>PRT</td>\n",
       "      <td>PRT</td>\n",
       "      <td>PRT</td>\n",
       "      <td>PRT</td>\n",
       "      <td>PRT</td>\n",
       "      <td>USA</td>\n",
       "      <td>ESP</td>\n",
       "      <td>PRT</td>\n",
       "    </tr>\n",
       "    <tr>\n",
       "      <th>market_segment</th>\n",
       "      <td>Direct</td>\n",
       "      <td>Direct</td>\n",
       "      <td>Direct</td>\n",
       "      <td>Corporate</td>\n",
       "      <td>Online TA</td>\n",
       "      <td>Online TA</td>\n",
       "      <td>Direct</td>\n",
       "      <td>Direct</td>\n",
       "      <td>Online TA</td>\n",
       "      <td>Offline TA/TO</td>\n",
       "      <td>Online TA</td>\n",
       "      <td>Online TA</td>\n",
       "      <td>Online TA</td>\n",
       "      <td>Online TA</td>\n",
       "      <td>Online TA</td>\n",
       "    </tr>\n",
       "    <tr>\n",
       "      <th>distribution_channel</th>\n",
       "      <td>Direct</td>\n",
       "      <td>Direct</td>\n",
       "      <td>Direct</td>\n",
       "      <td>Corporate</td>\n",
       "      <td>TA/TO</td>\n",
       "      <td>TA/TO</td>\n",
       "      <td>Direct</td>\n",
       "      <td>Direct</td>\n",
       "      <td>TA/TO</td>\n",
       "      <td>TA/TO</td>\n",
       "      <td>TA/TO</td>\n",
       "      <td>TA/TO</td>\n",
       "      <td>TA/TO</td>\n",
       "      <td>TA/TO</td>\n",
       "      <td>TA/TO</td>\n",
       "    </tr>\n",
       "    <tr>\n",
       "      <th>is_repeated_guest</th>\n",
       "      <td>0</td>\n",
       "      <td>0</td>\n",
       "      <td>0</td>\n",
       "      <td>0</td>\n",
       "      <td>0</td>\n",
       "      <td>0</td>\n",
       "      <td>0</td>\n",
       "      <td>0</td>\n",
       "      <td>0</td>\n",
       "      <td>0</td>\n",
       "      <td>0</td>\n",
       "      <td>0</td>\n",
       "      <td>0</td>\n",
       "      <td>0</td>\n",
       "      <td>0</td>\n",
       "    </tr>\n",
       "    <tr>\n",
       "      <th>previous_cancellations</th>\n",
       "      <td>0</td>\n",
       "      <td>0</td>\n",
       "      <td>0</td>\n",
       "      <td>0</td>\n",
       "      <td>0</td>\n",
       "      <td>0</td>\n",
       "      <td>0</td>\n",
       "      <td>0</td>\n",
       "      <td>0</td>\n",
       "      <td>0</td>\n",
       "      <td>0</td>\n",
       "      <td>0</td>\n",
       "      <td>0</td>\n",
       "      <td>0</td>\n",
       "      <td>0</td>\n",
       "    </tr>\n",
       "    <tr>\n",
       "      <th>previous_bookings_not_canceled</th>\n",
       "      <td>0</td>\n",
       "      <td>0</td>\n",
       "      <td>0</td>\n",
       "      <td>0</td>\n",
       "      <td>0</td>\n",
       "      <td>0</td>\n",
       "      <td>0</td>\n",
       "      <td>0</td>\n",
       "      <td>0</td>\n",
       "      <td>0</td>\n",
       "      <td>0</td>\n",
       "      <td>0</td>\n",
       "      <td>0</td>\n",
       "      <td>0</td>\n",
       "      <td>0</td>\n",
       "    </tr>\n",
       "    <tr>\n",
       "      <th>reserved_room_type</th>\n",
       "      <td>C</td>\n",
       "      <td>C</td>\n",
       "      <td>A</td>\n",
       "      <td>A</td>\n",
       "      <td>A</td>\n",
       "      <td>A</td>\n",
       "      <td>C</td>\n",
       "      <td>C</td>\n",
       "      <td>A</td>\n",
       "      <td>D</td>\n",
       "      <td>E</td>\n",
       "      <td>D</td>\n",
       "      <td>D</td>\n",
       "      <td>G</td>\n",
       "      <td>E</td>\n",
       "    </tr>\n",
       "    <tr>\n",
       "      <th>assigned_room_type</th>\n",
       "      <td>C</td>\n",
       "      <td>C</td>\n",
       "      <td>C</td>\n",
       "      <td>A</td>\n",
       "      <td>A</td>\n",
       "      <td>A</td>\n",
       "      <td>C</td>\n",
       "      <td>C</td>\n",
       "      <td>A</td>\n",
       "      <td>D</td>\n",
       "      <td>E</td>\n",
       "      <td>D</td>\n",
       "      <td>E</td>\n",
       "      <td>G</td>\n",
       "      <td>E</td>\n",
       "    </tr>\n",
       "    <tr>\n",
       "      <th>booking_changes</th>\n",
       "      <td>3</td>\n",
       "      <td>4</td>\n",
       "      <td>0</td>\n",
       "      <td>0</td>\n",
       "      <td>0</td>\n",
       "      <td>0</td>\n",
       "      <td>0</td>\n",
       "      <td>0</td>\n",
       "      <td>0</td>\n",
       "      <td>0</td>\n",
       "      <td>0</td>\n",
       "      <td>0</td>\n",
       "      <td>0</td>\n",
       "      <td>1</td>\n",
       "      <td>0</td>\n",
       "    </tr>\n",
       "    <tr>\n",
       "      <th>deposit_type</th>\n",
       "      <td>No Deposit</td>\n",
       "      <td>No Deposit</td>\n",
       "      <td>No Deposit</td>\n",
       "      <td>No Deposit</td>\n",
       "      <td>No Deposit</td>\n",
       "      <td>No Deposit</td>\n",
       "      <td>No Deposit</td>\n",
       "      <td>No Deposit</td>\n",
       "      <td>No Deposit</td>\n",
       "      <td>No Deposit</td>\n",
       "      <td>No Deposit</td>\n",
       "      <td>No Deposit</td>\n",
       "      <td>No Deposit</td>\n",
       "      <td>No Deposit</td>\n",
       "      <td>No Deposit</td>\n",
       "    </tr>\n",
       "    <tr>\n",
       "      <th>days_in_waiting_list</th>\n",
       "      <td>0</td>\n",
       "      <td>0</td>\n",
       "      <td>0</td>\n",
       "      <td>0</td>\n",
       "      <td>0</td>\n",
       "      <td>0</td>\n",
       "      <td>0</td>\n",
       "      <td>0</td>\n",
       "      <td>0</td>\n",
       "      <td>0</td>\n",
       "      <td>0</td>\n",
       "      <td>0</td>\n",
       "      <td>0</td>\n",
       "      <td>0</td>\n",
       "      <td>0</td>\n",
       "    </tr>\n",
       "    <tr>\n",
       "      <th>customer_type</th>\n",
       "      <td>Transient</td>\n",
       "      <td>Transient</td>\n",
       "      <td>Transient</td>\n",
       "      <td>Transient</td>\n",
       "      <td>Transient</td>\n",
       "      <td>Transient</td>\n",
       "      <td>Transient</td>\n",
       "      <td>Transient</td>\n",
       "      <td>Transient</td>\n",
       "      <td>Transient</td>\n",
       "      <td>Transient</td>\n",
       "      <td>Transient</td>\n",
       "      <td>Transient</td>\n",
       "      <td>Transient</td>\n",
       "      <td>Transient</td>\n",
       "    </tr>\n",
       "    <tr>\n",
       "      <th>adr</th>\n",
       "      <td>0.0</td>\n",
       "      <td>0.0</td>\n",
       "      <td>75.0</td>\n",
       "      <td>75.0</td>\n",
       "      <td>98.0</td>\n",
       "      <td>98.0</td>\n",
       "      <td>107.0</td>\n",
       "      <td>103.0</td>\n",
       "      <td>82.0</td>\n",
       "      <td>105.5</td>\n",
       "      <td>123.0</td>\n",
       "      <td>145.0</td>\n",
       "      <td>97.0</td>\n",
       "      <td>154.77</td>\n",
       "      <td>94.71</td>\n",
       "    </tr>\n",
       "    <tr>\n",
       "      <th>required_car_parking_spaces</th>\n",
       "      <td>0</td>\n",
       "      <td>0</td>\n",
       "      <td>0</td>\n",
       "      <td>0</td>\n",
       "      <td>0</td>\n",
       "      <td>0</td>\n",
       "      <td>0</td>\n",
       "      <td>0</td>\n",
       "      <td>0</td>\n",
       "      <td>0</td>\n",
       "      <td>0</td>\n",
       "      <td>0</td>\n",
       "      <td>0</td>\n",
       "      <td>0</td>\n",
       "      <td>0</td>\n",
       "    </tr>\n",
       "    <tr>\n",
       "      <th>total_of_special_requests</th>\n",
       "      <td>0</td>\n",
       "      <td>0</td>\n",
       "      <td>0</td>\n",
       "      <td>0</td>\n",
       "      <td>1</td>\n",
       "      <td>1</td>\n",
       "      <td>0</td>\n",
       "      <td>1</td>\n",
       "      <td>1</td>\n",
       "      <td>0</td>\n",
       "      <td>0</td>\n",
       "      <td>0</td>\n",
       "      <td>3</td>\n",
       "      <td>1</td>\n",
       "      <td>0</td>\n",
       "    </tr>\n",
       "    <tr>\n",
       "      <th>reservation_status</th>\n",
       "      <td>Check-Out</td>\n",
       "      <td>Check-Out</td>\n",
       "      <td>Check-Out</td>\n",
       "      <td>Check-Out</td>\n",
       "      <td>Check-Out</td>\n",
       "      <td>Check-Out</td>\n",
       "      <td>Check-Out</td>\n",
       "      <td>Check-Out</td>\n",
       "      <td>Canceled</td>\n",
       "      <td>Canceled</td>\n",
       "      <td>Canceled</td>\n",
       "      <td>Check-Out</td>\n",
       "      <td>Check-Out</td>\n",
       "      <td>Check-Out</td>\n",
       "      <td>Check-Out</td>\n",
       "    </tr>\n",
       "    <tr>\n",
       "      <th>reservation_status_date</th>\n",
       "      <td>2015-07-01</td>\n",
       "      <td>2015-07-01</td>\n",
       "      <td>2015-07-02</td>\n",
       "      <td>2015-07-02</td>\n",
       "      <td>2015-07-03</td>\n",
       "      <td>2015-07-03</td>\n",
       "      <td>2015-07-03</td>\n",
       "      <td>2015-07-03</td>\n",
       "      <td>2015-05-06</td>\n",
       "      <td>2015-04-22</td>\n",
       "      <td>2015-06-23</td>\n",
       "      <td>2015-07-05</td>\n",
       "      <td>2015-07-05</td>\n",
       "      <td>2015-07-05</td>\n",
       "      <td>2015-07-05</td>\n",
       "    </tr>\n",
       "    <tr>\n",
       "      <th>total_guests</th>\n",
       "      <td>2</td>\n",
       "      <td>2</td>\n",
       "      <td>1</td>\n",
       "      <td>1</td>\n",
       "      <td>2</td>\n",
       "      <td>2</td>\n",
       "      <td>2</td>\n",
       "      <td>2</td>\n",
       "      <td>2</td>\n",
       "      <td>2</td>\n",
       "      <td>2</td>\n",
       "      <td>2</td>\n",
       "      <td>2</td>\n",
       "      <td>3</td>\n",
       "      <td>2</td>\n",
       "    </tr>\n",
       "    <tr>\n",
       "      <th>total_stay_in_nights</th>\n",
       "      <td>0</td>\n",
       "      <td>0</td>\n",
       "      <td>1</td>\n",
       "      <td>1</td>\n",
       "      <td>2</td>\n",
       "      <td>2</td>\n",
       "      <td>2</td>\n",
       "      <td>2</td>\n",
       "      <td>3</td>\n",
       "      <td>3</td>\n",
       "      <td>4</td>\n",
       "      <td>4</td>\n",
       "      <td>4</td>\n",
       "      <td>4</td>\n",
       "      <td>4</td>\n",
       "    </tr>\n",
       "    <tr>\n",
       "      <th>has_minors</th>\n",
       "      <td>0</td>\n",
       "      <td>0</td>\n",
       "      <td>0</td>\n",
       "      <td>0</td>\n",
       "      <td>0</td>\n",
       "      <td>0</td>\n",
       "      <td>0</td>\n",
       "      <td>0</td>\n",
       "      <td>0</td>\n",
       "      <td>0</td>\n",
       "      <td>0</td>\n",
       "      <td>0</td>\n",
       "      <td>0</td>\n",
       "      <td>1</td>\n",
       "      <td>0</td>\n",
       "    </tr>\n",
       "  </tbody>\n",
       "</table>\n",
       "</div>"
      ],
      "text/plain": [
       "                                          0             1             2   \\\n",
       "hotel                           Resort Hotel  Resort Hotel  Resort Hotel   \n",
       "is_canceled                                0             0             0   \n",
       "lead_time                                342           737             7   \n",
       "arrival_date_year                       2015          2015          2015   \n",
       "arrival_date_month                      July          July          July   \n",
       "arrival_date_week_number                  27            27            27   \n",
       "arrival_date_day_of_month                  1             1             1   \n",
       "stays_in_weekend_nights                    0             0             0   \n",
       "stays_in_week_nights                       0             0             1   \n",
       "adults                                     2             2             1   \n",
       "children                                   0             0             0   \n",
       "babies                                     0             0             0   \n",
       "meal                                      BB            BB            BB   \n",
       "country                                  PRT           PRT           GBR   \n",
       "market_segment                        Direct        Direct        Direct   \n",
       "distribution_channel                  Direct        Direct        Direct   \n",
       "is_repeated_guest                          0             0             0   \n",
       "previous_cancellations                     0             0             0   \n",
       "previous_bookings_not_canceled             0             0             0   \n",
       "reserved_room_type                         C             C             A   \n",
       "assigned_room_type                         C             C             C   \n",
       "booking_changes                            3             4             0   \n",
       "deposit_type                      No Deposit    No Deposit    No Deposit   \n",
       "days_in_waiting_list                       0             0             0   \n",
       "customer_type                      Transient     Transient     Transient   \n",
       "adr                                      0.0           0.0          75.0   \n",
       "required_car_parking_spaces                0             0             0   \n",
       "total_of_special_requests                  0             0             0   \n",
       "reservation_status                 Check-Out     Check-Out     Check-Out   \n",
       "reservation_status_date           2015-07-01    2015-07-01    2015-07-02   \n",
       "total_guests                               2             2             1   \n",
       "total_stay_in_nights                       0             0             1   \n",
       "has_minors                                 0             0             0   \n",
       "\n",
       "                                          3             4             5   \\\n",
       "hotel                           Resort Hotel  Resort Hotel  Resort Hotel   \n",
       "is_canceled                                0             0             0   \n",
       "lead_time                                 13            14            14   \n",
       "arrival_date_year                       2015          2015          2015   \n",
       "arrival_date_month                      July          July          July   \n",
       "arrival_date_week_number                  27            27            27   \n",
       "arrival_date_day_of_month                  1             1             1   \n",
       "stays_in_weekend_nights                    0             0             0   \n",
       "stays_in_week_nights                       1             2             2   \n",
       "adults                                     1             2             2   \n",
       "children                                   0             0             0   \n",
       "babies                                     0             0             0   \n",
       "meal                                      BB            BB            BB   \n",
       "country                                  GBR           GBR           GBR   \n",
       "market_segment                     Corporate     Online TA     Online TA   \n",
       "distribution_channel               Corporate         TA/TO         TA/TO   \n",
       "is_repeated_guest                          0             0             0   \n",
       "previous_cancellations                     0             0             0   \n",
       "previous_bookings_not_canceled             0             0             0   \n",
       "reserved_room_type                         A             A             A   \n",
       "assigned_room_type                         A             A             A   \n",
       "booking_changes                            0             0             0   \n",
       "deposit_type                      No Deposit    No Deposit    No Deposit   \n",
       "days_in_waiting_list                       0             0             0   \n",
       "customer_type                      Transient     Transient     Transient   \n",
       "adr                                     75.0          98.0          98.0   \n",
       "required_car_parking_spaces                0             0             0   \n",
       "total_of_special_requests                  0             1             1   \n",
       "reservation_status                 Check-Out     Check-Out     Check-Out   \n",
       "reservation_status_date           2015-07-02    2015-07-03    2015-07-03   \n",
       "total_guests                               1             2             2   \n",
       "total_stay_in_nights                       1             2             2   \n",
       "has_minors                                 0             0             0   \n",
       "\n",
       "                                          6             7             8   \\\n",
       "hotel                           Resort Hotel  Resort Hotel  Resort Hotel   \n",
       "is_canceled                                0             0             1   \n",
       "lead_time                                  0             9            85   \n",
       "arrival_date_year                       2015          2015          2015   \n",
       "arrival_date_month                      July          July          July   \n",
       "arrival_date_week_number                  27            27            27   \n",
       "arrival_date_day_of_month                  1             1             1   \n",
       "stays_in_weekend_nights                    0             0             0   \n",
       "stays_in_week_nights                       2             2             3   \n",
       "adults                                     2             2             2   \n",
       "children                                   0             0             0   \n",
       "babies                                     0             0             0   \n",
       "meal                                      BB            FB            BB   \n",
       "country                                  PRT           PRT           PRT   \n",
       "market_segment                        Direct        Direct     Online TA   \n",
       "distribution_channel                  Direct        Direct         TA/TO   \n",
       "is_repeated_guest                          0             0             0   \n",
       "previous_cancellations                     0             0             0   \n",
       "previous_bookings_not_canceled             0             0             0   \n",
       "reserved_room_type                         C             C             A   \n",
       "assigned_room_type                         C             C             A   \n",
       "booking_changes                            0             0             0   \n",
       "deposit_type                      No Deposit    No Deposit    No Deposit   \n",
       "days_in_waiting_list                       0             0             0   \n",
       "customer_type                      Transient     Transient     Transient   \n",
       "adr                                    107.0         103.0          82.0   \n",
       "required_car_parking_spaces                0             0             0   \n",
       "total_of_special_requests                  0             1             1   \n",
       "reservation_status                 Check-Out     Check-Out      Canceled   \n",
       "reservation_status_date           2015-07-03    2015-07-03    2015-05-06   \n",
       "total_guests                               2             2             2   \n",
       "total_stay_in_nights                       2             2             3   \n",
       "has_minors                                 0             0             0   \n",
       "\n",
       "                                           9             10            11  \\\n",
       "hotel                            Resort Hotel  Resort Hotel  Resort Hotel   \n",
       "is_canceled                                 1             1             0   \n",
       "lead_time                                  75            23            35   \n",
       "arrival_date_year                        2015          2015          2015   \n",
       "arrival_date_month                       July          July          July   \n",
       "arrival_date_week_number                   27            27            27   \n",
       "arrival_date_day_of_month                   1             1             1   \n",
       "stays_in_weekend_nights                     0             0             0   \n",
       "stays_in_week_nights                        3             4             4   \n",
       "adults                                      2             2             2   \n",
       "children                                    0             0             0   \n",
       "babies                                      0             0             0   \n",
       "meal                                       HB            BB            HB   \n",
       "country                                   PRT           PRT           PRT   \n",
       "market_segment                  Offline TA/TO     Online TA     Online TA   \n",
       "distribution_channel                    TA/TO         TA/TO         TA/TO   \n",
       "is_repeated_guest                           0             0             0   \n",
       "previous_cancellations                      0             0             0   \n",
       "previous_bookings_not_canceled              0             0             0   \n",
       "reserved_room_type                          D             E             D   \n",
       "assigned_room_type                          D             E             D   \n",
       "booking_changes                             0             0             0   \n",
       "deposit_type                       No Deposit    No Deposit    No Deposit   \n",
       "days_in_waiting_list                        0             0             0   \n",
       "customer_type                       Transient     Transient     Transient   \n",
       "adr                                     105.5         123.0         145.0   \n",
       "required_car_parking_spaces                 0             0             0   \n",
       "total_of_special_requests                   0             0             0   \n",
       "reservation_status                   Canceled      Canceled     Check-Out   \n",
       "reservation_status_date            2015-04-22    2015-06-23    2015-07-05   \n",
       "total_guests                                2             2             2   \n",
       "total_stay_in_nights                        3             4             4   \n",
       "has_minors                                  0             0             0   \n",
       "\n",
       "                                          12            13            14  \n",
       "hotel                           Resort Hotel  Resort Hotel  Resort Hotel  \n",
       "is_canceled                                0             0             0  \n",
       "lead_time                                 68            18            37  \n",
       "arrival_date_year                       2015          2015          2015  \n",
       "arrival_date_month                      July          July          July  \n",
       "arrival_date_week_number                  27            27            27  \n",
       "arrival_date_day_of_month                  1             1             1  \n",
       "stays_in_weekend_nights                    0             0             0  \n",
       "stays_in_week_nights                       4             4             4  \n",
       "adults                                     2             2             2  \n",
       "children                                   0             1             0  \n",
       "babies                                     0             0             0  \n",
       "meal                                      BB            HB            BB  \n",
       "country                                  USA           ESP           PRT  \n",
       "market_segment                     Online TA     Online TA     Online TA  \n",
       "distribution_channel                   TA/TO         TA/TO         TA/TO  \n",
       "is_repeated_guest                          0             0             0  \n",
       "previous_cancellations                     0             0             0  \n",
       "previous_bookings_not_canceled             0             0             0  \n",
       "reserved_room_type                         D             G             E  \n",
       "assigned_room_type                         E             G             E  \n",
       "booking_changes                            0             1             0  \n",
       "deposit_type                      No Deposit    No Deposit    No Deposit  \n",
       "days_in_waiting_list                       0             0             0  \n",
       "customer_type                      Transient     Transient     Transient  \n",
       "adr                                     97.0        154.77         94.71  \n",
       "required_car_parking_spaces                0             0             0  \n",
       "total_of_special_requests                  3             1             0  \n",
       "reservation_status                 Check-Out     Check-Out     Check-Out  \n",
       "reservation_status_date           2015-07-05    2015-07-05    2015-07-05  \n",
       "total_guests                               2             3             2  \n",
       "total_stay_in_nights                       4             4             4  \n",
       "has_minors                                 0             1             0  "
      ]
     },
     "metadata": {},
     "execution_count": 15
    }
   ],
   "metadata": {
    "colab": {
     "base_uri": "https://localhost:8080/",
     "height": 1000
    },
    "executionInfo": {
     "elapsed": 213,
     "status": "ok",
     "timestamp": 1632400765699,
     "user": {
      "displayName": "Viridiana Valencia",
      "photoUrl": "https://lh3.googleusercontent.com/a/default-user=s64",
      "userId": "05838258711225855733"
     },
     "user_tz": 420
    },
    "id": "2tcnf2p0qr6F",
    "outputId": "f327153e-1d67-4544-bf55-0b02fbde429c"
   }
  },
  {
   "cell_type": "markdown",
   "source": [
    "# Feature binario que compare el tipo de cuarto asignado con el tipo de cuarto reservado e indique si este cambió (room_type_changed)"
   ],
   "metadata": {
    "id": "I8RigzrKqr6F"
   }
  },
  {
   "cell_type": "code",
   "execution_count": 16,
   "source": [
    "# Asumo que para todos los registros assigned_room_type y reserved_room_type son iguales, asignandole cero inicialmente\r\n",
    "prelim_df[\"room_type_changed\"] = 0 \r\n",
    "room_filt = (prelim_df[\"assigned_room_type\"] != prelim_df[\"reserved_room_type\"])\r\n",
    "prelim_df.loc[room_filt, \"room_type_changed\"] = 1\r\n",
    "prelim_df[\"room_type_changed\"].value_counts()"
   ],
   "outputs": [
    {
     "output_type": "execute_result",
     "data": {
      "text/plain": [
       "0    104282\n",
       "1     14885\n",
       "Name: room_type_changed, dtype: int64"
      ]
     },
     "metadata": {},
     "execution_count": 16
    }
   ],
   "metadata": {
    "colab": {
     "base_uri": "https://localhost:8080/"
    },
    "executionInfo": {
     "elapsed": 10,
     "status": "ok",
     "timestamp": 1632400765700,
     "user": {
      "displayName": "Viridiana Valencia",
      "photoUrl": "https://lh3.googleusercontent.com/a/default-user=s64",
      "userId": "05838258711225855733"
     },
     "user_tz": 420
    },
    "id": "LpZ_CDx8qr6F",
    "outputId": "9e0f137c-7d86-493d-ea24-6349ec78da85"
   }
  },
  {
   "cell_type": "markdown",
   "source": [
    "## Feature binario que indique si el cliente ha tenido más cancelaciones que estadías (cancelations_ratio)"
   ],
   "metadata": {
    "id": "Z6lzUscG8-Rj"
   }
  },
  {
   "cell_type": "code",
   "execution_count": 17,
   "source": [
    "#prelim_df['cancelations_ratio'] = 0\r\n",
    "#prelim_df.loc[ prelim_df['previous_cancellations'] > ['previous_bookings_not_canceled'], 'cancelations_ratio'] = prelim_df['previous_cancellations'] / prelim_df['previous_bookings_not_canceled']"
   ],
   "outputs": [],
   "metadata": {
    "executionInfo": {
     "elapsed": 7,
     "status": "ok",
     "timestamp": 1632400765700,
     "user": {
      "displayName": "Viridiana Valencia",
      "photoUrl": "https://lh3.googleusercontent.com/a/default-user=s64",
      "userId": "05838258711225855733"
     },
     "user_tz": 420
    },
    "id": "r54im6QTB31w"
   }
  },
  {
   "cell_type": "code",
   "execution_count": 18,
   "source": [
    "prelim_df['cancelations_ratio'] = 0\r\n",
    "prelim_df['total_reservations'] = prelim_df['previous_cancellations'] + prelim_df['previous_bookings_not_canceled']\r\n",
    "prelim_df.loc[prelim_df['total_reservations'] >0, 'cancelations_ratio'] = prelim_df['previous_cancellations'] / (prelim_df['previous_bookings_not_canceled'] + prelim_df['previous_cancellations'])"
   ],
   "outputs": [],
   "metadata": {
    "executionInfo": {
     "elapsed": 9,
     "status": "ok",
     "timestamp": 1632400765702,
     "user": {
      "displayName": "Viridiana Valencia",
      "photoUrl": "https://lh3.googleusercontent.com/a/default-user=s64",
      "userId": "05838258711225855733"
     },
     "user_tz": 420
    },
    "id": "8v9HG3Py8tSg"
   }
  },
  {
   "cell_type": "markdown",
   "source": [],
   "metadata": {
    "id": "gncQkXLRDE3r"
   }
  },
  {
   "cell_type": "code",
   "execution_count": 19,
   "source": [
    "prelim_df.sort_values('total_reservations', ascending=False )"
   ],
   "outputs": [
    {
     "output_type": "execute_result",
     "data": {
      "text/html": [
       "<div>\n",
       "<style scoped>\n",
       "    .dataframe tbody tr th:only-of-type {\n",
       "        vertical-align: middle;\n",
       "    }\n",
       "\n",
       "    .dataframe tbody tr th {\n",
       "        vertical-align: top;\n",
       "    }\n",
       "\n",
       "    .dataframe thead th {\n",
       "        text-align: right;\n",
       "    }\n",
       "</style>\n",
       "<table border=\"1\" class=\"dataframe\">\n",
       "  <thead>\n",
       "    <tr style=\"text-align: right;\">\n",
       "      <th></th>\n",
       "      <th>hotel</th>\n",
       "      <th>is_canceled</th>\n",
       "      <th>lead_time</th>\n",
       "      <th>arrival_date_year</th>\n",
       "      <th>arrival_date_month</th>\n",
       "      <th>arrival_date_week_number</th>\n",
       "      <th>arrival_date_day_of_month</th>\n",
       "      <th>stays_in_weekend_nights</th>\n",
       "      <th>stays_in_week_nights</th>\n",
       "      <th>adults</th>\n",
       "      <th>...</th>\n",
       "      <th>required_car_parking_spaces</th>\n",
       "      <th>total_of_special_requests</th>\n",
       "      <th>reservation_status</th>\n",
       "      <th>reservation_status_date</th>\n",
       "      <th>total_guests</th>\n",
       "      <th>total_stay_in_nights</th>\n",
       "      <th>has_minors</th>\n",
       "      <th>room_type_changed</th>\n",
       "      <th>cancelations_ratio</th>\n",
       "      <th>total_reservations</th>\n",
       "    </tr>\n",
       "  </thead>\n",
       "  <tbody>\n",
       "    <tr>\n",
       "      <th>76731</th>\n",
       "      <td>City Hotel</td>\n",
       "      <td>0</td>\n",
       "      <td>0</td>\n",
       "      <td>2017</td>\n",
       "      <td>August</td>\n",
       "      <td>34</td>\n",
       "      <td>22</td>\n",
       "      <td>0</td>\n",
       "      <td>1</td>\n",
       "      <td>1</td>\n",
       "      <td>...</td>\n",
       "      <td>0</td>\n",
       "      <td>2</td>\n",
       "      <td>Check-Out</td>\n",
       "      <td>2017-08-23</td>\n",
       "      <td>1</td>\n",
       "      <td>1</td>\n",
       "      <td>0</td>\n",
       "      <td>1</td>\n",
       "      <td>0.076923</td>\n",
       "      <td>78</td>\n",
       "    </tr>\n",
       "    <tr>\n",
       "      <th>76730</th>\n",
       "      <td>City Hotel</td>\n",
       "      <td>0</td>\n",
       "      <td>4</td>\n",
       "      <td>2017</td>\n",
       "      <td>July</td>\n",
       "      <td>30</td>\n",
       "      <td>23</td>\n",
       "      <td>2</td>\n",
       "      <td>1</td>\n",
       "      <td>1</td>\n",
       "      <td>...</td>\n",
       "      <td>0</td>\n",
       "      <td>2</td>\n",
       "      <td>Check-Out</td>\n",
       "      <td>2017-07-26</td>\n",
       "      <td>1</td>\n",
       "      <td>3</td>\n",
       "      <td>0</td>\n",
       "      <td>0</td>\n",
       "      <td>0.077922</td>\n",
       "      <td>77</td>\n",
       "    </tr>\n",
       "    <tr>\n",
       "      <th>76729</th>\n",
       "      <td>City Hotel</td>\n",
       "      <td>0</td>\n",
       "      <td>4</td>\n",
       "      <td>2017</td>\n",
       "      <td>July</td>\n",
       "      <td>29</td>\n",
       "      <td>16</td>\n",
       "      <td>1</td>\n",
       "      <td>0</td>\n",
       "      <td>1</td>\n",
       "      <td>...</td>\n",
       "      <td>0</td>\n",
       "      <td>1</td>\n",
       "      <td>Check-Out</td>\n",
       "      <td>2017-07-17</td>\n",
       "      <td>1</td>\n",
       "      <td>1</td>\n",
       "      <td>0</td>\n",
       "      <td>0</td>\n",
       "      <td>0.078947</td>\n",
       "      <td>76</td>\n",
       "    </tr>\n",
       "    <tr>\n",
       "      <th>76728</th>\n",
       "      <td>City Hotel</td>\n",
       "      <td>0</td>\n",
       "      <td>5</td>\n",
       "      <td>2017</td>\n",
       "      <td>July</td>\n",
       "      <td>28</td>\n",
       "      <td>11</td>\n",
       "      <td>0</td>\n",
       "      <td>2</td>\n",
       "      <td>1</td>\n",
       "      <td>...</td>\n",
       "      <td>0</td>\n",
       "      <td>2</td>\n",
       "      <td>Check-Out</td>\n",
       "      <td>2017-07-13</td>\n",
       "      <td>1</td>\n",
       "      <td>2</td>\n",
       "      <td>0</td>\n",
       "      <td>0</td>\n",
       "      <td>0.080000</td>\n",
       "      <td>75</td>\n",
       "    </tr>\n",
       "    <tr>\n",
       "      <th>76727</th>\n",
       "      <td>City Hotel</td>\n",
       "      <td>0</td>\n",
       "      <td>5</td>\n",
       "      <td>2017</td>\n",
       "      <td>July</td>\n",
       "      <td>27</td>\n",
       "      <td>4</td>\n",
       "      <td>0</td>\n",
       "      <td>3</td>\n",
       "      <td>1</td>\n",
       "      <td>...</td>\n",
       "      <td>0</td>\n",
       "      <td>1</td>\n",
       "      <td>Check-Out</td>\n",
       "      <td>2017-07-07</td>\n",
       "      <td>1</td>\n",
       "      <td>3</td>\n",
       "      <td>0</td>\n",
       "      <td>0</td>\n",
       "      <td>0.081081</td>\n",
       "      <td>74</td>\n",
       "    </tr>\n",
       "    <tr>\n",
       "      <th>...</th>\n",
       "      <td>...</td>\n",
       "      <td>...</td>\n",
       "      <td>...</td>\n",
       "      <td>...</td>\n",
       "      <td>...</td>\n",
       "      <td>...</td>\n",
       "      <td>...</td>\n",
       "      <td>...</td>\n",
       "      <td>...</td>\n",
       "      <td>...</td>\n",
       "      <td>...</td>\n",
       "      <td>...</td>\n",
       "      <td>...</td>\n",
       "      <td>...</td>\n",
       "      <td>...</td>\n",
       "      <td>...</td>\n",
       "      <td>...</td>\n",
       "      <td>...</td>\n",
       "      <td>...</td>\n",
       "      <td>...</td>\n",
       "      <td>...</td>\n",
       "    </tr>\n",
       "    <tr>\n",
       "      <th>41664</th>\n",
       "      <td>City Hotel</td>\n",
       "      <td>0</td>\n",
       "      <td>2</td>\n",
       "      <td>2015</td>\n",
       "      <td>August</td>\n",
       "      <td>34</td>\n",
       "      <td>21</td>\n",
       "      <td>0</td>\n",
       "      <td>2</td>\n",
       "      <td>1</td>\n",
       "      <td>...</td>\n",
       "      <td>0</td>\n",
       "      <td>0</td>\n",
       "      <td>Check-Out</td>\n",
       "      <td>2015-08-23</td>\n",
       "      <td>1</td>\n",
       "      <td>2</td>\n",
       "      <td>0</td>\n",
       "      <td>0</td>\n",
       "      <td>0.000000</td>\n",
       "      <td>0</td>\n",
       "    </tr>\n",
       "    <tr>\n",
       "      <th>41663</th>\n",
       "      <td>City Hotel</td>\n",
       "      <td>0</td>\n",
       "      <td>2</td>\n",
       "      <td>2015</td>\n",
       "      <td>August</td>\n",
       "      <td>34</td>\n",
       "      <td>21</td>\n",
       "      <td>0</td>\n",
       "      <td>2</td>\n",
       "      <td>2</td>\n",
       "      <td>...</td>\n",
       "      <td>0</td>\n",
       "      <td>2</td>\n",
       "      <td>Check-Out</td>\n",
       "      <td>2015-08-23</td>\n",
       "      <td>2</td>\n",
       "      <td>2</td>\n",
       "      <td>0</td>\n",
       "      <td>0</td>\n",
       "      <td>0.000000</td>\n",
       "      <td>0</td>\n",
       "    </tr>\n",
       "    <tr>\n",
       "      <th>41662</th>\n",
       "      <td>City Hotel</td>\n",
       "      <td>0</td>\n",
       "      <td>10</td>\n",
       "      <td>2015</td>\n",
       "      <td>August</td>\n",
       "      <td>34</td>\n",
       "      <td>21</td>\n",
       "      <td>0</td>\n",
       "      <td>1</td>\n",
       "      <td>2</td>\n",
       "      <td>...</td>\n",
       "      <td>0</td>\n",
       "      <td>2</td>\n",
       "      <td>Check-Out</td>\n",
       "      <td>2015-08-22</td>\n",
       "      <td>2</td>\n",
       "      <td>1</td>\n",
       "      <td>0</td>\n",
       "      <td>0</td>\n",
       "      <td>0.000000</td>\n",
       "      <td>0</td>\n",
       "    </tr>\n",
       "    <tr>\n",
       "      <th>41661</th>\n",
       "      <td>City Hotel</td>\n",
       "      <td>0</td>\n",
       "      <td>22</td>\n",
       "      <td>2015</td>\n",
       "      <td>August</td>\n",
       "      <td>34</td>\n",
       "      <td>21</td>\n",
       "      <td>0</td>\n",
       "      <td>1</td>\n",
       "      <td>2</td>\n",
       "      <td>...</td>\n",
       "      <td>0</td>\n",
       "      <td>0</td>\n",
       "      <td>Check-Out</td>\n",
       "      <td>2015-08-22</td>\n",
       "      <td>2</td>\n",
       "      <td>1</td>\n",
       "      <td>0</td>\n",
       "      <td>0</td>\n",
       "      <td>0.000000</td>\n",
       "      <td>0</td>\n",
       "    </tr>\n",
       "    <tr>\n",
       "      <th>119389</th>\n",
       "      <td>City Hotel</td>\n",
       "      <td>0</td>\n",
       "      <td>205</td>\n",
       "      <td>2017</td>\n",
       "      <td>August</td>\n",
       "      <td>35</td>\n",
       "      <td>29</td>\n",
       "      <td>2</td>\n",
       "      <td>7</td>\n",
       "      <td>2</td>\n",
       "      <td>...</td>\n",
       "      <td>0</td>\n",
       "      <td>2</td>\n",
       "      <td>Check-Out</td>\n",
       "      <td>2017-09-07</td>\n",
       "      <td>2</td>\n",
       "      <td>9</td>\n",
       "      <td>0</td>\n",
       "      <td>0</td>\n",
       "      <td>0.000000</td>\n",
       "      <td>0</td>\n",
       "    </tr>\n",
       "  </tbody>\n",
       "</table>\n",
       "<p>119167 rows × 36 columns</p>\n",
       "</div>"
      ],
      "text/plain": [
       "             hotel  is_canceled  lead_time  arrival_date_year  \\\n",
       "76731   City Hotel            0          0               2017   \n",
       "76730   City Hotel            0          4               2017   \n",
       "76729   City Hotel            0          4               2017   \n",
       "76728   City Hotel            0          5               2017   \n",
       "76727   City Hotel            0          5               2017   \n",
       "...            ...          ...        ...                ...   \n",
       "41664   City Hotel            0          2               2015   \n",
       "41663   City Hotel            0          2               2015   \n",
       "41662   City Hotel            0         10               2015   \n",
       "41661   City Hotel            0         22               2015   \n",
       "119389  City Hotel            0        205               2017   \n",
       "\n",
       "       arrival_date_month  arrival_date_week_number  \\\n",
       "76731              August                        34   \n",
       "76730                July                        30   \n",
       "76729                July                        29   \n",
       "76728                July                        28   \n",
       "76727                July                        27   \n",
       "...                   ...                       ...   \n",
       "41664              August                        34   \n",
       "41663              August                        34   \n",
       "41662              August                        34   \n",
       "41661              August                        34   \n",
       "119389             August                        35   \n",
       "\n",
       "        arrival_date_day_of_month  stays_in_weekend_nights  \\\n",
       "76731                          22                        0   \n",
       "76730                          23                        2   \n",
       "76729                          16                        1   \n",
       "76728                          11                        0   \n",
       "76727                           4                        0   \n",
       "...                           ...                      ...   \n",
       "41664                          21                        0   \n",
       "41663                          21                        0   \n",
       "41662                          21                        0   \n",
       "41661                          21                        0   \n",
       "119389                         29                        2   \n",
       "\n",
       "        stays_in_week_nights  adults  ...  required_car_parking_spaces  \\\n",
       "76731                      1       1  ...                            0   \n",
       "76730                      1       1  ...                            0   \n",
       "76729                      0       1  ...                            0   \n",
       "76728                      2       1  ...                            0   \n",
       "76727                      3       1  ...                            0   \n",
       "...                      ...     ...  ...                          ...   \n",
       "41664                      2       1  ...                            0   \n",
       "41663                      2       2  ...                            0   \n",
       "41662                      1       2  ...                            0   \n",
       "41661                      1       2  ...                            0   \n",
       "119389                     7       2  ...                            0   \n",
       "\n",
       "        total_of_special_requests reservation_status reservation_status_date  \\\n",
       "76731                           2          Check-Out              2017-08-23   \n",
       "76730                           2          Check-Out              2017-07-26   \n",
       "76729                           1          Check-Out              2017-07-17   \n",
       "76728                           2          Check-Out              2017-07-13   \n",
       "76727                           1          Check-Out              2017-07-07   \n",
       "...                           ...                ...                     ...   \n",
       "41664                           0          Check-Out              2015-08-23   \n",
       "41663                           2          Check-Out              2015-08-23   \n",
       "41662                           2          Check-Out              2015-08-22   \n",
       "41661                           0          Check-Out              2015-08-22   \n",
       "119389                          2          Check-Out              2017-09-07   \n",
       "\n",
       "       total_guests total_stay_in_nights  has_minors  room_type_changed  \\\n",
       "76731             1                    1           0                  1   \n",
       "76730             1                    3           0                  0   \n",
       "76729             1                    1           0                  0   \n",
       "76728             1                    2           0                  0   \n",
       "76727             1                    3           0                  0   \n",
       "...             ...                  ...         ...                ...   \n",
       "41664             1                    2           0                  0   \n",
       "41663             2                    2           0                  0   \n",
       "41662             2                    1           0                  0   \n",
       "41661             2                    1           0                  0   \n",
       "119389            2                    9           0                  0   \n",
       "\n",
       "        cancelations_ratio total_reservations  \n",
       "76731             0.076923                 78  \n",
       "76730             0.077922                 77  \n",
       "76729             0.078947                 76  \n",
       "76728             0.080000                 75  \n",
       "76727             0.081081                 74  \n",
       "...                    ...                ...  \n",
       "41664             0.000000                  0  \n",
       "41663             0.000000                  0  \n",
       "41662             0.000000                  0  \n",
       "41661             0.000000                  0  \n",
       "119389            0.000000                  0  \n",
       "\n",
       "[119167 rows x 36 columns]"
      ]
     },
     "metadata": {},
     "execution_count": 19
    }
   ],
   "metadata": {
    "colab": {
     "base_uri": "https://localhost:8080/",
     "height": 605
    },
    "executionInfo": {
     "elapsed": 233,
     "status": "ok",
     "timestamp": 1632400765926,
     "user": {
      "displayName": "Viridiana Valencia",
      "photoUrl": "https://lh3.googleusercontent.com/a/default-user=s64",
      "userId": "05838258711225855733"
     },
     "user_tz": 420
    },
    "id": "w4SFyxoVqr6G",
    "outputId": "eda2825b-3af9-4b05-9325-81271fb1c1ee"
   }
  },
  {
   "cell_type": "markdown",
   "source": [
    "# Eliminaciones"
   ],
   "metadata": {
    "id": "jlEDZuauqr6G"
   }
  },
  {
   "cell_type": "markdown",
   "source": [
    "## Registros donde la cantidad de Adultos es igual a cero"
   ],
   "metadata": {
    "id": "eEcBwz67qr6G"
   }
  },
  {
   "cell_type": "code",
   "execution_count": 20,
   "source": [
    "prelim_df[(prelim_df[\"adults\"] == 0)][\"adults\"].count()"
   ],
   "outputs": [
    {
     "output_type": "execute_result",
     "data": {
      "text/plain": [
       "180"
      ]
     },
     "metadata": {},
     "execution_count": 20
    }
   ],
   "metadata": {
    "colab": {
     "base_uri": "https://localhost:8080/"
    },
    "executionInfo": {
     "elapsed": 12,
     "status": "ok",
     "timestamp": 1632400765927,
     "user": {
      "displayName": "Viridiana Valencia",
      "photoUrl": "https://lh3.googleusercontent.com/a/default-user=s64",
      "userId": "05838258711225855733"
     },
     "user_tz": 420
    },
    "id": "7N6gRWPWqr6G",
    "outputId": "d9217484-e32f-49b7-89fa-35111e22f1df"
   }
  },
  {
   "cell_type": "code",
   "execution_count": 21,
   "source": [
    "adults_filt = (prelim_df[\"adults\"] == 0)\r\n",
    "prelim_df = prelim_df.drop(prelim_df[adults_filt].index)\r\n",
    "prelim_df[(prelim_df[\"adults\"] == 0)][\"adults\"].count()"
   ],
   "outputs": [
    {
     "output_type": "execute_result",
     "data": {
      "text/plain": [
       "0"
      ]
     },
     "metadata": {},
     "execution_count": 21
    }
   ],
   "metadata": {
    "colab": {
     "base_uri": "https://localhost:8080/"
    },
    "executionInfo": {
     "elapsed": 8,
     "status": "ok",
     "timestamp": 1632400765928,
     "user": {
      "displayName": "Viridiana Valencia",
      "photoUrl": "https://lh3.googleusercontent.com/a/default-user=s64",
      "userId": "05838258711225855733"
     },
     "user_tz": 420
    },
    "id": "qLG9Un0eqr6G",
    "outputId": "7294a527-63be-4204-f34e-14051e4d23d1"
   }
  },
  {
   "cell_type": "markdown",
   "source": [
    "## Registros con adr negativo o adr mayor a 400"
   ],
   "metadata": {
    "id": "tLrx83LXqr6G"
   }
  },
  {
   "cell_type": "code",
   "execution_count": 22,
   "source": [
    "adr_filt = (prelim_df[\"adr\"] < 0) | (prelim_df[\"adr\"] > 300)\r\n",
    "len(prelim_df[adr_filt])"
   ],
   "outputs": [
    {
     "output_type": "execute_result",
     "data": {
      "text/plain": [
       "277"
      ]
     },
     "metadata": {},
     "execution_count": 22
    }
   ],
   "metadata": {
    "colab": {
     "base_uri": "https://localhost:8080/"
    },
    "executionInfo": {
     "elapsed": 7,
     "status": "ok",
     "timestamp": 1632400765928,
     "user": {
      "displayName": "Viridiana Valencia",
      "photoUrl": "https://lh3.googleusercontent.com/a/default-user=s64",
      "userId": "05838258711225855733"
     },
     "user_tz": 420
    },
    "id": "QypQD286qr6G",
    "outputId": "4f49a392-700e-4e8b-c297-fe2ebfa4fb18"
   }
  },
  {
   "cell_type": "code",
   "execution_count": 23,
   "source": [
    "print(\"Valor máximo de ADR en el dataset --> \", prelim_df[\"adr\"].max())\r\n",
    "print(\"Valor mínimo de ADR en el dataset --> \", prelim_df[\"adr\"].min())"
   ],
   "outputs": [
    {
     "output_type": "stream",
     "name": "stdout",
     "text": [
      "Valor máximo de ADR en el dataset -->  5400.0\n",
      "Valor mínimo de ADR en el dataset -->  -6.38\n"
     ]
    }
   ],
   "metadata": {
    "colab": {
     "base_uri": "https://localhost:8080/"
    },
    "executionInfo": {
     "elapsed": 8,
     "status": "ok",
     "timestamp": 1632400765929,
     "user": {
      "displayName": "Viridiana Valencia",
      "photoUrl": "https://lh3.googleusercontent.com/a/default-user=s64",
      "userId": "05838258711225855733"
     },
     "user_tz": 420
    },
    "id": "QymOGIbgqr6H",
    "outputId": "b3abf548-8d4e-4725-c51d-53094f8fbc91"
   }
  },
  {
   "cell_type": "code",
   "execution_count": 24,
   "source": [
    "adr_filt = (prelim_df[\"adr\"] < 0) | (prelim_df[\"adr\"] > 300)\r\n",
    "prelim_df = prelim_df.drop(prelim_df[adr_filt].index)\r\n",
    "print(\"Valor máximo de ADR en el dataset --> \", prelim_df[\"adr\"].max())\r\n",
    "print(\"Valor mínimo de ADR en el dataset --> \", prelim_df[\"adr\"].min())"
   ],
   "outputs": [
    {
     "output_type": "stream",
     "name": "stdout",
     "text": [
      "Valor máximo de ADR en el dataset -->  300.0\n",
      "Valor mínimo de ADR en el dataset -->  0.0\n"
     ]
    }
   ],
   "metadata": {
    "colab": {
     "base_uri": "https://localhost:8080/"
    },
    "executionInfo": {
     "elapsed": 191,
     "status": "ok",
     "timestamp": 1632400766112,
     "user": {
      "displayName": "Viridiana Valencia",
      "photoUrl": "https://lh3.googleusercontent.com/a/default-user=s64",
      "userId": "05838258711225855733"
     },
     "user_tz": 420
    },
    "id": "fQuRenegqr6H",
    "outputId": "1d3a7601-b486-49ba-dd54-9e9bd3bba2b6"
   }
  },
  {
   "cell_type": "markdown",
   "source": [
    "## Registros con tipos de habitacion P y L"
   ],
   "metadata": {
    "id": "pLpfRl9Lqr6H"
   }
  },
  {
   "cell_type": "code",
   "execution_count": 25,
   "source": [
    "assigned_filt = (prelim_df[\"assigned_room_type\"] == 'P') | (prelim_df[\"assigned_room_type\"] == 'L')\r\n",
    "reserved_filt = (prelim_df[\"reserved_room_type\"] == 'P') | (prelim_df[\"reserved_room_type\"] == 'L')\r\n",
    "prelim_df[assigned_filt | reserved_filt][[\"assigned_room_type\", \"reserved_room_type\"]].value_counts()"
   ],
   "outputs": [
    {
     "output_type": "execute_result",
     "data": {
      "text/plain": [
       "assigned_room_type  reserved_room_type\n",
       "A                   L                     1\n",
       "B                   L                     1\n",
       "C                   L                     1\n",
       "F                   L                     1\n",
       "H                   L                     1\n",
       "L                   L                     1\n",
       "dtype: int64"
      ]
     },
     "metadata": {},
     "execution_count": 25
    }
   ],
   "metadata": {
    "colab": {
     "base_uri": "https://localhost:8080/"
    },
    "executionInfo": {
     "elapsed": 8,
     "status": "ok",
     "timestamp": 1632400766113,
     "user": {
      "displayName": "Viridiana Valencia",
      "photoUrl": "https://lh3.googleusercontent.com/a/default-user=s64",
      "userId": "05838258711225855733"
     },
     "user_tz": 420
    },
    "id": "97q2-Sg4qr6H",
    "outputId": "f89dba4d-79f5-45bf-f39d-3e1455851adf"
   }
  },
  {
   "cell_type": "code",
   "execution_count": 26,
   "source": [
    "prelim_df = prelim_df.drop(prelim_df[assigned_filt | reserved_filt].index)\r\n",
    "len(prelim_df[assigned_filt | reserved_filt][[\"assigned_room_type\", \"reserved_room_type\"]])"
   ],
   "outputs": [
    {
     "output_type": "execute_result",
     "data": {
      "text/plain": [
       "0"
      ]
     },
     "metadata": {},
     "execution_count": 26
    }
   ],
   "metadata": {
    "colab": {
     "base_uri": "https://localhost:8080/"
    },
    "executionInfo": {
     "elapsed": 6,
     "status": "ok",
     "timestamp": 1632400766114,
     "user": {
      "displayName": "Viridiana Valencia",
      "photoUrl": "https://lh3.googleusercontent.com/a/default-user=s64",
      "userId": "05838258711225855733"
     },
     "user_tz": 420
    },
    "id": "uF8zJM4Kqr6H",
    "outputId": "cc9898a7-9d83-4a12-ff76-b1f9620290f0"
   }
  },
  {
   "cell_type": "markdown",
   "source": [
    "# Modificación de tipo de datos \n",
    "## Features is_canceled, is_repeated_guest, cancelations_ratio, room_type_changed y has_minors se convierten a tipo object"
   ],
   "metadata": {
    "id": "Tt6cX2R_CXwo"
   }
  },
  {
   "cell_type": "code",
   "execution_count": 27,
   "source": [
    "prelim_df.info()"
   ],
   "outputs": [
    {
     "output_type": "stream",
     "name": "stdout",
     "text": [
      "<class 'pandas.core.frame.DataFrame'>\n",
      "Int64Index: 118704 entries, 0 to 119389\n",
      "Data columns (total 36 columns):\n",
      " #   Column                          Non-Null Count   Dtype  \n",
      "---  ------                          --------------   -----  \n",
      " 0   hotel                           118704 non-null  object \n",
      " 1   is_canceled                     118704 non-null  int64  \n",
      " 2   lead_time                       118704 non-null  int64  \n",
      " 3   arrival_date_year               118704 non-null  int64  \n",
      " 4   arrival_date_month              118704 non-null  object \n",
      " 5   arrival_date_week_number        118704 non-null  int64  \n",
      " 6   arrival_date_day_of_month       118704 non-null  int64  \n",
      " 7   stays_in_weekend_nights         118704 non-null  int64  \n",
      " 8   stays_in_week_nights            118704 non-null  int64  \n",
      " 9   adults                          118704 non-null  int64  \n",
      " 10  children                        118704 non-null  int32  \n",
      " 11  babies                          118704 non-null  int64  \n",
      " 12  meal                            118704 non-null  object \n",
      " 13  country                         118704 non-null  object \n",
      " 14  market_segment                  118704 non-null  object \n",
      " 15  distribution_channel            118704 non-null  object \n",
      " 16  is_repeated_guest               118704 non-null  int64  \n",
      " 17  previous_cancellations          118704 non-null  int64  \n",
      " 18  previous_bookings_not_canceled  118704 non-null  int64  \n",
      " 19  reserved_room_type              118704 non-null  object \n",
      " 20  assigned_room_type              118704 non-null  object \n",
      " 21  booking_changes                 118704 non-null  int64  \n",
      " 22  deposit_type                    118704 non-null  object \n",
      " 23  days_in_waiting_list            118704 non-null  int64  \n",
      " 24  customer_type                   118704 non-null  object \n",
      " 25  adr                             118704 non-null  float64\n",
      " 26  required_car_parking_spaces     118704 non-null  int64  \n",
      " 27  total_of_special_requests       118704 non-null  int64  \n",
      " 28  reservation_status              118704 non-null  object \n",
      " 29  reservation_status_date         118704 non-null  object \n",
      " 30  total_guests                    118704 non-null  int64  \n",
      " 31  total_stay_in_nights            118704 non-null  int64  \n",
      " 32  has_minors                      118704 non-null  int64  \n",
      " 33  room_type_changed               118704 non-null  int64  \n",
      " 34  cancelations_ratio              118704 non-null  float64\n",
      " 35  total_reservations              118704 non-null  int64  \n",
      "dtypes: float64(2), int32(1), int64(21), object(12)\n",
      "memory usage: 33.1+ MB\n"
     ]
    }
   ],
   "metadata": {
    "colab": {
     "base_uri": "https://localhost:8080/"
    },
    "executionInfo": {
     "elapsed": 213,
     "status": "ok",
     "timestamp": 1632400766323,
     "user": {
      "displayName": "Viridiana Valencia",
      "photoUrl": "https://lh3.googleusercontent.com/a/default-user=s64",
      "userId": "05838258711225855733"
     },
     "user_tz": 420
    },
    "id": "sMATn0t1CXO0",
    "outputId": "39bfa503-188f-457b-91ec-f4b08eac2a39"
   }
  },
  {
   "cell_type": "code",
   "execution_count": 28,
   "source": [
    "#prelim_df[['is_canceled', 'is_repeated_guest', 'room_type_changed', 'has_minors']] = prelim_df[['is_canceled', 'is_repeated_guest', 'room_type_changed', 'has_minors']].astype('object')\r\n",
    "#prelim_df.info()"
   ],
   "outputs": [],
   "metadata": {
    "colab": {
     "base_uri": "https://localhost:8080/"
    },
    "executionInfo": {
     "elapsed": 173,
     "status": "ok",
     "timestamp": 1632400766495,
     "user": {
      "displayName": "Viridiana Valencia",
      "photoUrl": "https://lh3.googleusercontent.com/a/default-user=s64",
      "userId": "05838258711225855733"
     },
     "user_tz": 420
    },
    "id": "Ac_IyLptDmNY",
    "outputId": "81587750-b555-4b2c-e31e-2f301f7200c3"
   }
  },
  {
   "cell_type": "markdown",
   "source": [
    "# Reinicio de los indices post Data Wrangling"
   ],
   "metadata": {
    "id": "Evo29g1vqr6H"
   }
  },
  {
   "cell_type": "code",
   "execution_count": 29,
   "source": [
    "data = prelim_df.copy()\r\n",
    "data.reset_index()\r\n",
    "print('Dimensiones iniciales --> ', df.shape)\r\n",
    "print('Dimensiones luego de Data Wrangling --> ', data.shape)\r\n",
    "print('Registros Eliminados --> ', df.shape[0]- data.shape[0])\r\n",
    "print('Registros Eliminados (%) --> ', (df.shape[0]- data.shape[0])*100/df.shape[0])"
   ],
   "outputs": [
    {
     "output_type": "stream",
     "name": "stdout",
     "text": [
      "Dimensiones iniciales -->  (119390, 36)\n",
      "Dimensiones luego de Data Wrangling -->  (118704, 36)\n",
      "Registros Eliminados -->  686\n",
      "Registros Eliminados (%) -->  0.5745874863891448\n"
     ]
    }
   ],
   "metadata": {
    "colab": {
     "base_uri": "https://localhost:8080/"
    },
    "executionInfo": {
     "elapsed": 10,
     "status": "ok",
     "timestamp": 1632400766496,
     "user": {
      "displayName": "Viridiana Valencia",
      "photoUrl": "https://lh3.googleusercontent.com/a/default-user=s64",
      "userId": "05838258711225855733"
     },
     "user_tz": 420
    },
    "id": "oiAM-BMkqr6I",
    "outputId": "a2fc41a1-36e7-4ac6-a1b9-ac76caaef5a4",
    "scrolled": true
   }
  },
  {
   "cell_type": "markdown",
   "source": [
    "# Algoritmos de Decisión"
   ],
   "metadata": {
    "id": "G25YLNeP4dri"
   }
  },
  {
   "cell_type": "markdown",
   "source": [
    "### En este ejercicio utilizaremos un modelo de regresión logística.\n",
    "\n",
    "Empezamos por analizar las correlaciones que existen con la variable 'is_canceled'."
   ],
   "metadata": {}
  },
  {
   "cell_type": "code",
   "execution_count": 30,
   "source": [
    "cancel_corr = data.corr()[\"is_canceled\"]\r\n",
    "cancel_corr.abs().sort_values(ascending=False)[1:]"
   ],
   "outputs": [
    {
     "output_type": "execute_result",
     "data": {
      "text/plain": [
       "lead_time                         0.293168\n",
       "cancelations_ratio                0.292330\n",
       "room_type_changed                 0.246907\n",
       "total_of_special_requests         0.234847\n",
       "required_car_parking_spaces       0.195291\n",
       "booking_changes                   0.144679\n",
       "previous_cancellations            0.110305\n",
       "is_repeated_guest                 0.083603\n",
       "adults                            0.059291\n",
       "previous_bookings_not_canceled    0.057453\n",
       "days_in_waiting_list              0.054509\n",
       "adr                               0.050348\n",
       "total_guests                      0.045207\n",
       "babies                            0.032366\n",
       "stays_in_week_nights              0.025332\n",
       "total_stay_in_nights              0.018269\n",
       "arrival_date_year                 0.016298\n",
       "has_minors                        0.013891\n",
       "arrival_date_week_number          0.008717\n",
       "arrival_date_day_of_month         0.005686\n",
       "children                          0.004437\n",
       "total_reservations                0.003899\n",
       "stays_in_weekend_nights           0.001651\n",
       "Name: is_canceled, dtype: float64"
      ]
     },
     "metadata": {},
     "execution_count": 30
    }
   ],
   "metadata": {}
  },
  {
   "cell_type": "markdown",
   "source": [
    "### Seleccionamos los datos que utitilizaremos para el modelo."
   ],
   "metadata": {}
  },
  {
   "cell_type": "code",
   "execution_count": 31,
   "source": [
    "data_seleccionada = data[['is_canceled','deposit_type','hotel','lead_time','cancelations_ratio','room_type_changed','total_of_special_requests','required_car_parking_spaces','booking_changes','is_repeated_guest','days_in_waiting_list','adr','total_stay_in_nights']]"
   ],
   "outputs": [],
   "metadata": {
    "executionInfo": {
     "elapsed": 7,
     "status": "ok",
     "timestamp": 1632401154186,
     "user": {
      "displayName": "Viridiana Valencia",
      "photoUrl": "https://lh3.googleusercontent.com/a/default-user=s64",
      "userId": "05838258711225855733"
     },
     "user_tz": 420
    },
    "id": "GmYdenQvrJGR"
   }
  },
  {
   "cell_type": "code",
   "execution_count": 32,
   "source": [
    "data_seleccionada.info()"
   ],
   "outputs": [
    {
     "output_type": "stream",
     "name": "stdout",
     "text": [
      "<class 'pandas.core.frame.DataFrame'>\n",
      "Int64Index: 118704 entries, 0 to 119389\n",
      "Data columns (total 13 columns):\n",
      " #   Column                       Non-Null Count   Dtype  \n",
      "---  ------                       --------------   -----  \n",
      " 0   is_canceled                  118704 non-null  int64  \n",
      " 1   deposit_type                 118704 non-null  object \n",
      " 2   hotel                        118704 non-null  object \n",
      " 3   lead_time                    118704 non-null  int64  \n",
      " 4   cancelations_ratio           118704 non-null  float64\n",
      " 5   room_type_changed            118704 non-null  int64  \n",
      " 6   total_of_special_requests    118704 non-null  int64  \n",
      " 7   required_car_parking_spaces  118704 non-null  int64  \n",
      " 8   booking_changes              118704 non-null  int64  \n",
      " 9   is_repeated_guest            118704 non-null  int64  \n",
      " 10  days_in_waiting_list         118704 non-null  int64  \n",
      " 11  adr                          118704 non-null  float64\n",
      " 12  total_stay_in_nights         118704 non-null  int64  \n",
      "dtypes: float64(2), int64(9), object(2)\n",
      "memory usage: 12.7+ MB\n"
     ]
    }
   ],
   "metadata": {
    "executionInfo": {
     "elapsed": 12,
     "status": "ok",
     "timestamp": 1632401154677,
     "user": {
      "displayName": "Viridiana Valencia",
      "photoUrl": "https://lh3.googleusercontent.com/a/default-user=s64",
      "userId": "05838258711225855733"
     },
     "user_tz": 420
    },
    "id": "Y1QVOKf_mzKk"
   }
  },
  {
   "cell_type": "markdown",
   "source": [
    "### Convertimos en dummies la variables categóricas"
   ],
   "metadata": {}
  },
  {
   "cell_type": "code",
   "execution_count": 33,
   "source": [
    "data_seleccionada = pd.get_dummies(data_seleccionada, columns=['deposit_type'])\r\n",
    "data_seleccionada = pd.get_dummies(data_seleccionada, columns=['hotel'],drop_first=True)\r\n",
    "data_seleccionada.info()"
   ],
   "outputs": [
    {
     "output_type": "stream",
     "name": "stdout",
     "text": [
      "<class 'pandas.core.frame.DataFrame'>\n",
      "Int64Index: 118704 entries, 0 to 119389\n",
      "Data columns (total 15 columns):\n",
      " #   Column                       Non-Null Count   Dtype  \n",
      "---  ------                       --------------   -----  \n",
      " 0   is_canceled                  118704 non-null  int64  \n",
      " 1   lead_time                    118704 non-null  int64  \n",
      " 2   cancelations_ratio           118704 non-null  float64\n",
      " 3   room_type_changed            118704 non-null  int64  \n",
      " 4   total_of_special_requests    118704 non-null  int64  \n",
      " 5   required_car_parking_spaces  118704 non-null  int64  \n",
      " 6   booking_changes              118704 non-null  int64  \n",
      " 7   is_repeated_guest            118704 non-null  int64  \n",
      " 8   days_in_waiting_list         118704 non-null  int64  \n",
      " 9   adr                          118704 non-null  float64\n",
      " 10  total_stay_in_nights         118704 non-null  int64  \n",
      " 11  deposit_type_No Deposit      118704 non-null  uint8  \n",
      " 12  deposit_type_Non Refund      118704 non-null  uint8  \n",
      " 13  deposit_type_Refundable      118704 non-null  uint8  \n",
      " 14  hotel_Resort Hotel           118704 non-null  uint8  \n",
      "dtypes: float64(2), int64(9), uint8(4)\n",
      "memory usage: 11.3 MB\n"
     ]
    }
   ],
   "metadata": {}
  },
  {
   "cell_type": "markdown",
   "source": [
    "### Preparamos los datos"
   ],
   "metadata": {}
  },
  {
   "cell_type": "code",
   "execution_count": 34,
   "source": [
    "Y = data_seleccionada[\"is_canceled\"]\r\n",
    "X = data_seleccionada.drop(\"is_canceled\", axis=1)\r\n",
    "X_train, X_test, Y_train, Y_test = train_test_split(X, Y, test_size=0.3, random_state=43)"
   ],
   "outputs": [],
   "metadata": {}
  },
  {
   "cell_type": "markdown",
   "source": [
    "### Creamos una instancia de regresión logística."
   ],
   "metadata": {}
  },
  {
   "cell_type": "code",
   "execution_count": 35,
   "source": [
    "regresion_logistica = LogisticRegression()"
   ],
   "outputs": [],
   "metadata": {}
  },
  {
   "cell_type": "markdown",
   "source": [
    "### Entrenamos el modelo"
   ],
   "metadata": {}
  },
  {
   "cell_type": "code",
   "execution_count": 36,
   "source": [
    "regresion_logistica.fit(X,Y)"
   ],
   "outputs": [
    {
     "output_type": "execute_result",
     "data": {
      "text/plain": [
       "LogisticRegression()"
      ]
     },
     "metadata": {},
     "execution_count": 36
    }
   ],
   "metadata": {}
  },
  {
   "cell_type": "code",
   "execution_count": 37,
   "source": [
    "prediccion = regresion_logistica.predict(X_test)"
   ],
   "outputs": [],
   "metadata": {}
  },
  {
   "cell_type": "markdown",
   "source": [
    "### Imprimimos el resultado"
   ],
   "metadata": {}
  },
  {
   "cell_type": "code",
   "execution_count": 38,
   "source": [
    "score = accuracy_score(Y_test, prediccion)\r\n",
    "conf = confusion_matrix(Y_test, prediccion)\r\n",
    "report = classification_report(Y_test, prediccion)\r\n",
    "\r\n",
    "print(f\"Puntaje de precisión: {score}\\n\")\r\n",
    "print(f\"Matriz de confusión:\\n \\n{conf}\\n\")\r\n",
    "print(f\"Reporte de clasificación: \\n\\n{report}\")"
   ],
   "outputs": [
    {
     "output_type": "stream",
     "name": "stdout",
     "text": [
      "Puntaje de precisión: 0.7759743906548354\n",
      "\n",
      "Matriz de confusión:\n",
      " \n",
      "[[21332  1097]\n",
      " [ 6881  6302]]\n",
      "\n",
      "Reporte de clasificación: \n",
      "\n",
      "              precision    recall  f1-score   support\n",
      "\n",
      "           0       0.76      0.95      0.84     22429\n",
      "           1       0.85      0.48      0.61     13183\n",
      "\n",
      "    accuracy                           0.78     35612\n",
      "   macro avg       0.80      0.71      0.73     35612\n",
      "weighted avg       0.79      0.78      0.76     35612\n",
      "\n"
     ]
    }
   ],
   "metadata": {}
  },
  {
   "cell_type": "markdown",
   "source": [
    "### El modelo de regresión logística obtuvo 77.6% de presición.\r\n",
    "\r\n",
    "### Se clasificaron 22,429 observaciones como no cancelados, y de estas observaciones 21.331 se clasificaron de manera correcta. El 95% de las observaciones no canceladas se clasificó correctamente, mientras que 6.302 observaciones clasificadas como canceladas fueron predichas de manera correcta. Un total de 7.978 registros se clasificaron de manera incorrecta. "
   ],
   "metadata": {}
  },
  {
   "cell_type": "markdown",
   "source": [
    "# Random Forest"
   ],
   "metadata": {}
  },
  {
   "cell_type": "code",
   "execution_count": 39,
   "source": [
    "from sklearn.ensemble import RandomForestClassifier"
   ],
   "outputs": [],
   "metadata": {}
  },
  {
   "cell_type": "code",
   "execution_count": 40,
   "source": [
    "rand_forest = RandomForestClassifier(random_state=43, n_estimators=200)\r\n",
    "rand_forest.fit(X_train, Y_train)"
   ],
   "outputs": [
    {
     "output_type": "execute_result",
     "data": {
      "text/plain": [
       "RandomForestClassifier(n_estimators=200, random_state=43)"
      ]
     },
     "metadata": {},
     "execution_count": 40
    }
   ],
   "metadata": {}
  },
  {
   "cell_type": "code",
   "execution_count": 41,
   "source": [
    "prediccion_rf = rand_forest.predict(X_test) "
   ],
   "outputs": [],
   "metadata": {}
  },
  {
   "cell_type": "code",
   "execution_count": 42,
   "source": [
    "score_rf = accuracy_score(Y_test, prediccion_rf)\r\n",
    "conf_rf = confusion_matrix(Y_test, prediccion_rf)\r\n",
    "report_rf = classification_report(Y_test, prediccion_rf)\r\n",
    "\r\n",
    "print(f\"Puntaje de precisión: {score_rf}\\n\")\r\n",
    "print(f\"Matriz de confusión:\\n \\n{conf_rf}\\n\")\r\n",
    "print(f\"Reporte de clasificación: \\n\\n{report_rf}\")"
   ],
   "outputs": [
    {
     "output_type": "stream",
     "name": "stdout",
     "text": [
      "Puntaje de precisión: 0.834522071211951\n",
      "\n",
      "Matriz de confusión:\n",
      " \n",
      "[[20154  2275]\n",
      " [ 3618  9565]]\n",
      "\n",
      "Reporte de clasificación: \n",
      "\n",
      "              precision    recall  f1-score   support\n",
      "\n",
      "           0       0.85      0.90      0.87     22429\n",
      "           1       0.81      0.73      0.76     13183\n",
      "\n",
      "    accuracy                           0.83     35612\n",
      "   macro avg       0.83      0.81      0.82     35612\n",
      "weighted avg       0.83      0.83      0.83     35612\n",
      "\n"
     ]
    }
   ],
   "metadata": {}
  },
  {
   "cell_type": "markdown",
   "source": [
    "### El modelo random forest obtuvo 83.45% de precisión.\r\n",
    "\r\n",
    "### Se clasificaron 22.429 observaciones como no cancelados, y de estas observaciones 20.154 se clasificaron de manera correcta. El 90% de las observaciones no canceladas se clasificó correctamente, mientras que 9.565 observaciones clasificadas como canceladas fueron predichas de manera correcta. Un total de 5.893 registros se clasificaron de manera incorrecta. "
   ],
   "metadata": {}
  },
  {
   "cell_type": "markdown",
   "source": [
    "## Conclusión\r\n",
    "\r\n",
    "### Al comparar ambos modelos, podemos ver que la regresión logística resulta en una precisión menor que el algoritmo de random forest. También podemos observar, a partir de la matriz de confusión de cada modelo, que el porcentaje de falsos positivos obtenido es menor en el modelo de regresión logística en comparación al random forest. Sin embargo, la regresión logística presenta una mayor cantidad de valores clasificados de manera incorrecta, bien sean falsos positivos o negativos, lo cual se ve reflejado en un valor f1 mayor para ambas clasificaciones en el modelo de random forest."
   ],
   "metadata": {}
  }
 ],
 "metadata": {
  "colab": {
   "collapsed_sections": [
    "V3sTHdJOqr6D",
    "I8RigzrKqr6F",
    "Z6lzUscG8-Rj",
    "jlEDZuauqr6G",
    "eEcBwz67qr6G",
    "tLrx83LXqr6G",
    "pLpfRl9Lqr6H",
    "w6ICrJ72TtJA",
    "2DP57AMVY47f"
   ],
   "name": "Copia de CancelacionesHotel_primera_entrega.ipynb",
   "provenance": [
    {
     "file_id": "1wETB21X3Vzigr71sbyh6UNMKdKO5n-Iv",
     "timestamp": 1632127760066
    },
    {
     "file_id": "1SX3xLmAS_yzMNqmzG5rX7oyAO72-IoGd",
     "timestamp": 1632127538558
    }
   ]
  },
  "interpreter": {
   "hash": "6d3d7f938e6149fd8dc8bc2ec8b0f6a978a3b7167f8ff20496215f161395e086"
  },
  "kernelspec": {
   "name": "python3",
   "display_name": "Python 3.9.1 64-bit ('base': conda)"
  },
  "language_info": {
   "codemirror_mode": {
    "name": "ipython",
    "version": 3
   },
   "file_extension": ".py",
   "mimetype": "text/x-python",
   "name": "python",
   "nbconvert_exporter": "python",
   "pygments_lexer": "ipython3",
   "version": "3.9.1"
  }
 },
 "nbformat": 4,
 "nbformat_minor": 1
}